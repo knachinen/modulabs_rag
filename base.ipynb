{
 "cells": [
  {
   "cell_type": "code",
   "execution_count": 1,
   "id": "064d5c8c",
   "metadata": {},
   "outputs": [
    {
     "data": {
      "text/plain": [
       "True"
      ]
     },
     "execution_count": 1,
     "metadata": {},
     "output_type": "execute_result"
    }
   ],
   "source": [
    "# api key\n",
    "from dotenv import load_dotenv\n",
    "\n",
    "load_dotenv()"
   ]
  },
  {
   "cell_type": "code",
   "execution_count": 2,
   "id": "562b0043",
   "metadata": {},
   "outputs": [],
   "source": [
    "import os\n",
    "\n",
    "# 디버깅을 위한 프로젝트명을 기입합니다.\n",
    "os.environ[\"LANGCHAIN_PROJECT\"] = \"RAG Base\"\n",
    "\n",
    "# tracing 을 위해서는 아래 코드의 주석을 해제하고 실행합니다.\n",
    "# os.environ[\"LANGCHAIN_TRACING_V2\"] = 'true'"
   ]
  },
  {
   "cell_type": "code",
   "execution_count": 3,
   "id": "c17731bb-2645-41a3-94c4-e7dcc8936740",
   "metadata": {},
   "outputs": [
    {
     "name": "stderr",
     "output_type": "stream",
     "text": [
      "USER_AGENT environment variable not set, consider setting it to identify your requests.\n"
     ]
    }
   ],
   "source": [
    "from tqdm.notebook import tqdm\n",
    "\n",
    "import pprint\n",
    "import bs4\n",
    "\n",
    "from langchain import hub\n",
    "from langchain_core.runnables import RunnablePassthrough\n",
    "from langchain_core.output_parsers import StrOutputParser\n",
    "from langchain_core.prompts import ChatPromptTemplate\n",
    "from langchain_core.runnables import RunnableConfig\n",
    "from langchain_core.output_parsers import JsonOutputParser\n",
    "from langchain_community.vectorstores import FAISS\n",
    "from langchain_community.document_loaders import WebBaseLoader\n",
    "from langchain_community.tools.tavily_search import TavilySearchResults\n",
    "from langchain_ollama import OllamaEmbeddings\n",
    "from langchain_ollama import ChatOllama\n",
    "from langchain_text_splitters import RecursiveCharacterTextSplitter\n",
    "from langchain.document_loaders import PyPDFLoader\n",
    "from langgraph.graph import StateGraph, START, END\n",
    "from langgraph.checkpoint.memory import MemorySaver\n",
    "from langgraph.errors import GraphRecursionError\n",
    "from langchain.prompts import PromptTemplate\n",
    "\n",
    "from typing import List\n",
    "from typing_extensions import TypedDict\n",
    "\n",
    "from abc import ABC, abstractmethod\n",
    "from operator import itemgetter"
   ]
  },
  {
   "cell_type": "code",
   "execution_count": 4,
   "id": "df9813a4-a375-43d1-abdc-3f8238e07fdf",
   "metadata": {},
   "outputs": [],
   "source": [
    "# model_name=\"gemma2:2b\"\n",
    "model_name = \"qwen2:0.5b\"\n",
    "embd = OllamaEmbeddings(model=model_name)\n",
    "llm = ChatOllama(model=model_name, temperature=0)"
   ]
  },
  {
   "cell_type": "markdown",
   "id": "a06b0614-a6b6-403c-af26-9cc614ab4c96",
   "metadata": {},
   "source": [
    "## 문서 - vectorstore"
   ]
  },
  {
   "cell_type": "markdown",
   "id": "4a8ec18f-052c-48fb-9d59-aa099f615663",
   "metadata": {
    "jp-MarkdownHeadingCollapsed": true
   },
   "source": [
    "### web"
   ]
  },
  {
   "cell_type": "code",
   "execution_count": 5,
   "id": "b17f6667-0a6d-4ed7-a3ba-d045919650bf",
   "metadata": {},
   "outputs": [],
   "source": [
    "def load_document_web(web_path):\n",
    "    loader = WebBaseLoader(\n",
    "        web_paths=web_path,\n",
    "        bs_kwargs=dict(\n",
    "            parse_only=bs4.SoupStrainer(\n",
    "                \"div\",\n",
    "                # attrs={\"class\": [\"mw-content-ltr mw-parser-output\"]},\n",
    "                attrs={\"class\": [\"newsct_article _article_body\",\n",
    "                             \"media_end_head_title\"]},\n",
    "            )\n",
    "        ),\n",
    "    )\n",
    "    docs = loader.load()\n",
    "    print(f\"문서의 수: {len(docs)}\")\n",
    "    return docs"
   ]
  },
  {
   "cell_type": "code",
   "execution_count": 6,
   "id": "805757de-9c90-437c-a9a5-6a5457dab93f",
   "metadata": {},
   "outputs": [
    {
     "name": "stdout",
     "output_type": "stream",
     "text": [
      "문서의 수: 3\n"
     ]
    }
   ],
   "source": [
    "# web_path = \"https://n.news.naver.com/mnews/hotissue/article/001/0014896674?type=series&cid=1087298\"\n",
    "web_path = (\n",
    "    \"https://n.news.naver.com/mnews/hotissue/article/001/0014896674?type=series&cid=1087298\",\n",
    "    \"https://n.news.naver.com/mnews/article/366/0001014658\",\n",
    "    \"https://n.news.naver.com/mnews/article/021/0002657064\"\n",
    ")\n",
    "docs = load_document_web(web_path)"
   ]
  },
  {
   "cell_type": "code",
   "execution_count": 7,
   "id": "fecd4e88-190b-4737-8650-0a9ba483e49b",
   "metadata": {},
   "outputs": [],
   "source": [
    "# from langchain.text_splitter import RecursiveCharacterTextSplitter\n",
    "\n",
    "# Initialize the text splitter with the chunk size and overlap settings\n",
    "text_splitter = RecursiveCharacterTextSplitter(chunk_size=4000, chunk_overlap=100)\n",
    "\n",
    "# Split the document into chunks\n",
    "# documents = text_splitter.split_text(docs)\n",
    "documents = text_splitter.split_documents(docs)"
   ]
  },
  {
   "cell_type": "code",
   "execution_count": 8,
   "id": "6889d66d-7631-44f5-b5ea-5b28262e2956",
   "metadata": {},
   "outputs": [
    {
     "name": "stdout",
     "output_type": "stream",
     "text": [
      "0: [사이테크+] '사건의 지평선 망원경' 사상 최고 해상도로 M87* 블랙홀 관측   국제 연구팀 \"ETH에 0.87㎜ 파장 첫 적용…블랙홀 관측 사상 최고 해상도\" (서울=연합뉴스\n",
      "\n",
      "1: ‘카툭튀’ 없는 렌즈부터 성격 가진 로봇까지… 애플이 내놓을 신기술은   아이폰16 페이스 ID 카메라에 ‘메타렌즈’ 적용설스스로 주행하며 이용자 돕는 가정용 로봇도 개발 중’시리\n",
      "\n",
      "2: SK하이닉스, ‘10나노급 6세대 D램’ 세계 첫 개발   속도 11%· 전력효율 9% 향상    SK하이닉스가 현존하는 D램 중 가장 미세화된 ‘10나노(㎚·1나노는 10억 분의\n",
      "\n"
     ]
    }
   ],
   "source": [
    "for i, d in enumerate(documents):\n",
    "    print(f\"{i}: {d.page_content[:100].replace('\\n',' ')}\\n\")"
   ]
  },
  {
   "cell_type": "markdown",
   "id": "67da911f-9656-41d0-bed2-b9a1836fda98",
   "metadata": {
    "jp-MarkdownHeadingCollapsed": true
   },
   "source": [
    "### vectorstore"
   ]
  },
  {
   "cell_type": "code",
   "execution_count": 9,
   "id": "1b00d261-a051-4665-82bb-0830798381fb",
   "metadata": {},
   "outputs": [
    {
     "data": {
      "text/plain": [
       "'data/qwen2-05b_naver-news'"
      ]
     },
     "execution_count": 9,
     "metadata": {},
     "output_type": "execute_result"
    }
   ],
   "source": [
    "faiss_path = f\"data/{model_name.replace(':','-').replace(\".\",'')}_naver-news\"\n",
    "faiss_path"
   ]
  },
  {
   "cell_type": "code",
   "execution_count": 77,
   "id": "c7e5e168-a098-4324-a447-a0f70972f0e9",
   "metadata": {},
   "outputs": [
    {
     "data": {
      "application/vnd.jupyter.widget-view+json": {
       "model_id": "0feb70ebbea448f8ac58cbe910ac0d1c",
       "version_major": 2,
       "version_minor": 0
      },
      "text/plain": [
       "  0%|          | 0/3 [00:00<?, ?it/s]"
      ]
     },
     "metadata": {},
     "output_type": "display_data"
    }
   ],
   "source": [
    "vectorstore = None\n",
    "for d in tqdm(documents):\n",
    "    if vectorstore:\n",
    "        vectorstore.add_documents([d])\n",
    "    else:\n",
    "        vectorstore = FAISS.from_documents(\n",
    "            documents=[d], \n",
    "            embedding=embd\n",
    "        )\n",
    "\n",
    "vectorstore.save_local(faiss_path)"
   ]
  },
  {
   "cell_type": "code",
   "execution_count": 50,
   "id": "aa69aead-b9fb-456f-bf56-08001a00e86f",
   "metadata": {},
   "outputs": [
    {
     "data": {
      "application/vnd.jupyter.widget-view+json": {
       "model_id": "e8a0e47fc3fb42038297c63711e9a412",
       "version_major": 2,
       "version_minor": 0
      },
      "text/plain": [
       "  0%|          | 0/2 [00:00<?, ?it/s]"
      ]
     },
     "metadata": {},
     "output_type": "display_data"
    }
   ],
   "source": [
    "for d in tqdm(documents):\n",
    "    vectorstore.add_documents([d])\n",
    "\n",
    "vectorstore.save_local(faiss_path)"
   ]
  },
  {
   "cell_type": "code",
   "execution_count": 10,
   "id": "7a3cabd8-a976-4338-ad2f-35a7789c0817",
   "metadata": {
    "scrolled": true
   },
   "outputs": [],
   "source": [
    "vectorstore = FAISS.load_local(\n",
    "    faiss_path,\n",
    "    embeddings=embd,\n",
    "    allow_dangerous_deserialization=True\n",
    ")"
   ]
  },
  {
   "cell_type": "markdown",
   "id": "4af5bda3-b73c-4233-8027-c9ad007f19f5",
   "metadata": {
    "jp-MarkdownHeadingCollapsed": true
   },
   "source": [
    "## Time Checker"
   ]
  },
  {
   "cell_type": "code",
   "execution_count": 30,
   "id": "2c495f54-be1b-4d70-ba55-5c3f22876a49",
   "metadata": {},
   "outputs": [],
   "source": [
    "import time\n",
    "\n",
    "def time_checker(func):\n",
    "    \"\"\"\n",
    "    A decorator that measures the time a function takes to execute.\n",
    "    \n",
    "    Parameters:\n",
    "    - func: The function whose runtime is to be measured.\n",
    "    \n",
    "    Returns:\n",
    "    - wrapper: The wrapped function with time measurement.\n",
    "    \"\"\"\n",
    "    def wrapper(*args, **kwargs):\n",
    "        # Record the start time\n",
    "        start_time = time.time()\n",
    "        \n",
    "        # Execute the function\n",
    "        result = func(*args, **kwargs)\n",
    "        \n",
    "        # Record the end time\n",
    "        end_time = time.time()\n",
    "        \n",
    "        # Calculate the elapsed time\n",
    "        elapsed_time = end_time - start_time\n",
    "        \n",
    "        # Print the time taken\n",
    "        print(f\"Time taken by '{func.__name__}': {elapsed_time:.4f} seconds\")\n",
    "        \n",
    "        # Return the original function's result\n",
    "        return result\n",
    "    \n",
    "    return wrapper"
   ]
  },
  {
   "cell_type": "code",
   "execution_count": 11,
   "id": "1ea279db-ac3e-48a4-bb5f-fd13c6541ae3",
   "metadata": {},
   "outputs": [],
   "source": [
    "retriever = vectorstore.as_retriever(\n",
    "    # search_type=\"mmr\", search_kwargs={\"k\": 1}\n",
    ")"
   ]
  },
  {
   "cell_type": "code",
   "execution_count": 80,
   "id": "262dea72-7941-486e-822f-69e374d0fcc9",
   "metadata": {},
   "outputs": [],
   "source": [
    "query = \"사상 최고 해상도로 관측한 블랙홀의 이름은 무엇입니까?\"\n",
    "documents = retriever.invoke(query)"
   ]
  },
  {
   "cell_type": "code",
   "execution_count": 296,
   "id": "eed2dfe2-1359-435f-a8a9-81664a8bce0e",
   "metadata": {},
   "outputs": [],
   "source": [
    "query = \"SK하이닉스는 어떤 D램을 개발하였습니까?\"\n",
    "documents = retriever.invoke(query)"
   ]
  },
  {
   "cell_type": "code",
   "execution_count": 12,
   "id": "d9c71cfb-336e-4699-bee8-b229b8e4ac57",
   "metadata": {},
   "outputs": [],
   "source": [
    "# query = \"애플은 어떤 기술을 개발하고 있나요?\"\n",
    "query = \"애플이 개발하고 있는 신기술은 무엇입니까?\"\n",
    "documents = retriever.invoke(query)"
   ]
  },
  {
   "cell_type": "code",
   "execution_count": 13,
   "id": "57ac544b-9c29-4d42-8589-dfaee9d054de",
   "metadata": {},
   "outputs": [
    {
     "data": {
      "text/plain": [
       "[0.19339368, 0.28417826, 0.5924578]"
      ]
     },
     "execution_count": 13,
     "metadata": {},
     "output_type": "execute_result"
    }
   ],
   "source": [
    "results = vectorstore.similarity_search_with_score(\n",
    "    query=query,\n",
    "    k=vectorstore.index.ntotal\n",
    ")\n",
    "\n",
    "scores = []\n",
    "\n",
    "for doc, score in results:\n",
    "    # print(f\"Score: {score:.3f}\\n{doc.page_content}\\n\\n\")\n",
    "    scores.append(score)\n",
    "\n",
    "scores"
   ]
  },
  {
   "cell_type": "markdown",
   "id": "484f5be2-092b-4032-8995-0a9a96797e6c",
   "metadata": {},
   "source": [
    "## LLMs"
   ]
  },
  {
   "cell_type": "code",
   "execution_count": 14,
   "id": "53d8ded8-38cf-4fab-a577-66e4ad8ae221",
   "metadata": {},
   "outputs": [],
   "source": [
    "temperature = 0.1"
   ]
  },
  {
   "cell_type": "markdown",
   "id": "e9dcf03f-2c9e-46bd-a5db-62ebe4aaae2a",
   "metadata": {},
   "source": [
    "### 문서 평가"
   ]
  },
  {
   "cell_type": "code",
   "execution_count": 38,
   "id": "d08c6f78-8c3a-41ef-b720-523e038a4dd3",
   "metadata": {},
   "outputs": [],
   "source": [
    "### Retrieval Grader\n",
    "\n",
    "# LLM\n",
    "llm = ChatOllama(model=model_name, format=\"json\", temperature=temperature)\n",
    "\n",
    "prompt = PromptTemplate(\n",
    "    template=\"\"\"당신은 사용자의 질문과 관련된 문서를 평가하는 일을 합니다. \\n\n",
    "    문서: \\n\\n {document} \\n\\n\n",
    "    사용자의 질문: {question} \\n\\n\n",
    "    이 문서에 사용자의 질문과 관련된 내용이 있다면, '예' 라고 평가해주세요. \\n\n",
    "    없다면 '아니오' 라고 평가해주세요. \\n\n",
    "    엄격하게 평가하지 않아도 됩니다. 목표는 상관없는 문서를 거르는 것입니다. \\n\n",
    "    JSON 형식으로 'flag' 키에 '예', '아니오' 2가지 답을 주세요. 설명은 필요없습니다\"\"\",\n",
    "    input_variables=[\"question\", \"document\"],\n",
    ")\n",
    "\n",
    "retrieval_grader = prompt | llm | JsonOutputParser()"
   ]
  },
  {
   "cell_type": "code",
   "execution_count": 33,
   "id": "bf76eae1-19ac-4c9e-ac2d-21e8ed5ec8b6",
   "metadata": {},
   "outputs": [
    {
     "name": "stdout",
     "output_type": "stream",
     "text": [
      "애플이 개발하고 있는 신기술은 무엇입니까?\n"
     ]
    }
   ],
   "source": [
    "print(query)"
   ]
  },
  {
   "cell_type": "code",
   "execution_count": 34,
   "id": "25da83d2-e7d5-41c4-8502-6d99cbd23258",
   "metadata": {},
   "outputs": [],
   "source": [
    "query = \"애플이 개발중인 신기술은 무엇입니까?\""
   ]
  },
  {
   "cell_type": "code",
   "execution_count": 35,
   "id": "d3ef87cc-069f-4aec-b39d-de832acc1cd2",
   "metadata": {},
   "outputs": [
    {
     "name": "stdout",
     "output_type": "stream",
     "text": [
      "{'flag': '아니오'}\n"
     ]
    }
   ],
   "source": [
    "print(retrieval_grader.invoke({\"question\": query, \"document\": documents[0]}))"
   ]
  },
  {
   "cell_type": "code",
   "execution_count": 37,
   "id": "8a46e3e0-54b3-4daa-bb19-14c3fe6ad4da",
   "metadata": {},
   "outputs": [
    {
     "name": "stdout",
     "output_type": "stream",
     "text": [
      "{'flag': '예'}\n"
     ]
    }
   ],
   "source": [
    "print(retrieval_grader.invoke({\"question\": query, \"document\": documents[1]}))"
   ]
  },
  {
   "cell_type": "code",
   "execution_count": 39,
   "id": "a61ebdd6-ee25-408e-92b6-512383717fe5",
   "metadata": {},
   "outputs": [
    {
     "name": "stdout",
     "output_type": "stream",
     "text": [
      "{'flag': '예'}\n"
     ]
    }
   ],
   "source": [
    "print(retrieval_grader.invoke({\"question\": query, \"document\": documents[2]}))"
   ]
  },
  {
   "cell_type": "code",
   "execution_count": 317,
   "id": "15fa02e6-b521-4761-960b-6fb64685a71c",
   "metadata": {},
   "outputs": [
    {
     "data": {
      "text/plain": [
       "'‘카툭튀’ 없는 렌즈부터 성격 가진 로봇까지… 애플이 내놓을 신기술은\\n\\n\\n아이폰16 페이스 ID 카메라에 ‘메타렌즈’ 적용설스스로 주행하며 이용자 돕는 가정용 로봇도 개발 중’시리'"
      ]
     },
     "execution_count": 317,
     "metadata": {},
     "output_type": "execute_result"
    }
   ],
   "source": [
    "docs = documents[1]\n",
    "docs.page_content[:100]"
   ]
  },
  {
   "cell_type": "code",
   "execution_count": 44,
   "id": "09bcaf75-f1cb-44bc-af93-b19f903bd400",
   "metadata": {},
   "outputs": [],
   "source": [
    "docs = []\n",
    "\n",
    "docs.append(documents[1])\n",
    "docs.append(documents[2])"
   ]
  },
  {
   "cell_type": "markdown",
   "id": "893657e8-4f56-40a7-8283-2ccc143a4a62",
   "metadata": {},
   "source": [
    "### 답변 생성"
   ]
  },
  {
   "cell_type": "code",
   "execution_count": 45,
   "id": "8f788a27-a16b-4da0-bfb7-1fbf79efc35f",
   "metadata": {},
   "outputs": [],
   "source": [
    "### Generate\n",
    "\n",
    "### Retrieval Grader\n",
    "\n",
    "# LLM\n",
    "\n",
    "prompt = PromptTemplate(\n",
    "    template=\"\"\"당신은 사용자의 질문에 답하는 일을 합니다. \\n\n",
    "    사용자의 질문는 여기에 있습니다: {question} \\n\n",
    "    참고문서는 여기에 있습니다: {context} \\n\n",
    "    참고문서를 사용하여 질문에 답해주세요. \\n\n",
    "    만약 당신이 답을 모른다면, 간단히 모른다고 답해주세요. \\n\n",
    "    질문의 형태가 아닌 설명문으로 답해주세요. \\n\n",
    "    최대 3문장으로 간단하게 답해주세요. \\n\\n\\n\n",
    "    답:\"\"\",\n",
    "    input_variables=[\"context\", \"question\"],\n",
    ")\n",
    "\n",
    "llm = ChatOllama(model=model_name, temperature=0.1)\n",
    "rag_chain = prompt | llm | StrOutputParser()"
   ]
  },
  {
   "cell_type": "code",
   "execution_count": 46,
   "id": "c6720681-250f-45c3-94f5-64d235b77bde",
   "metadata": {},
   "outputs": [],
   "source": [
    "query = \"애플이 개발중인 신기술은 무엇입니까?\"\n",
    "documents = retriever.invoke(query)"
   ]
  },
  {
   "cell_type": "code",
   "execution_count": 47,
   "id": "71911f63-ece5-4338-b99c-264667a10df1",
   "metadata": {},
   "outputs": [
    {
     "name": "stdout",
     "output_type": "stream",
     "text": [
      "\"ETH는 칠레 아타카마 사막의 대형 전파망원경 \\'아타카마 대형 밀리미터/서브밀리미터 집합체\\'(ALMA), 스페인 IRAM 30m 망원경, 프랑스 북부 확장 밀리미터 어레이(NOEMA), 그린란드 망원경 등 전파망원경 15~20개를 연결해 만든 지구 크기의 거대한 가상 망원경입니다. 이 연구에서는 0.87㎜ 파장 관측에 성공했지만, 데이터가 부족해 아직 이미지를 얻지는 못했습니다.\"\n"
     ]
    }
   ],
   "source": [
    "generation = rag_chain.invoke({\"context\": docs, \"question\": query})\n",
    "print(generation)"
   ]
  },
  {
   "cell_type": "code",
   "execution_count": 366,
   "id": "8e59fdbd-d471-43c9-8abf-4a524db88a12",
   "metadata": {},
   "outputs": [],
   "source": [
    "import numpy as np\n",
    "\n",
    "temps = np.arange(0.1, 1.0, 0.1)"
   ]
  },
  {
   "cell_type": "code",
   "execution_count": 368,
   "id": "f50a7ee4-ff6d-4742-8b36-f561544ab355",
   "metadata": {},
   "outputs": [
    {
     "name": "stdout",
     "output_type": "stream",
     "text": [
      "0.1: \"아이폰16 페이스 ID 카메라에 '메타렌즈' 적용설스스로 주행하며 이용자 돕는 가정용 로봇도 개발 중\"\n",
      "0.2: \"아이폰16 페이스 ID 카메라에 '메타렌즈' 적용설스스로 주행하며 이용자 돕는 가정용 로봇도 개발 중\"\n",
      "0.30000000000000004: \"아이폰16 페이스 ID 카메라에 '메타렌즈' 적용설스스로 주행하며 이용자 돕는 가정용 로봇도 개발 중\"\n",
      "0.4: \"아이폰16 페이스 ID 카메라에 '메타렌즈' 적용설스스로 주행하며 이용자 돕는 가정용 로봇도 개발 중\"\n",
      "0.5: \"아이폰16 페이스 ID 카메라에 '메타렌즈' 적용설스스로 주행하며 이용자 돕는 가정용 로봇도 개발 중입니다.\"\n",
      "0.6: 아이폰16 페이스 ID 카메라에 메타렌즈를 적용하고, 사람이면 안되는 로봇인 AI 비서 시리가 공개될 예정이다.\n",
      "0.7000000000000001: \"애플은 신기술에 대한 다양한 기술을 연구하고 있습니다. 애플의 '메타렌즈'는 빛과 같은 성격을 가진 로봇을 개발하고 있으며, 이를 통해 사람처럼 성격을 가진 AI로봇도 공개할 수 있습니다.\"\n",
      "0.8: 답변: 애플이 개발하고 있는 신기술은 무엇입니까?\n",
      "0.9: \"당신의 질문에 대한 답변은 없습니다.\"\n"
     ]
    }
   ],
   "source": [
    "for n in temps:\n",
    "    llm = ChatOllama(model=model_name, temperature=n)\n",
    "    rag_chain = prompt | llm | StrOutputParser()\n",
    "    generation = rag_chain.invoke({\"context\": docs, \"question\": query})\n",
    "    print(f\"{n}: {generation}\")"
   ]
  },
  {
   "cell_type": "markdown",
   "id": "d7f6afe8-011a-4fee-a1c3-8965b765fccf",
   "metadata": {},
   "source": [
    "### 문서에 기반한 답변인가"
   ]
  },
  {
   "cell_type": "code",
   "execution_count": 100,
   "id": "0772a01b-e898-4182-ab8d-433c1ef63390",
   "metadata": {},
   "outputs": [],
   "source": [
    "### Hallucination Grader\n",
    "\n",
    "# LLM\n",
    "llm = ChatOllama(model=model_name, format=\"json\", temperature=temperature)\n",
    "\n",
    "# Prompt\n",
    "prompt = PromptTemplate(\n",
    "    template=\"\"\"당신은 사실에 기반된 답변인지 확인하는 일을 합니다. \\n \n",
    "    여기에 사실이 있습니다:\n",
    "    \\n ------- \\n\n",
    "    {documents} \n",
    "    \\n ------- \\n\n",
    "    여기에 답변이 있습니다: {generation}\n",
    "    사실에 기반한 답변이면, '예' 라고 평가해주세요. \\n\n",
    "    사실에 기반한 답변이 아니면 '아니오' 라고 평가해주세요. \\n\n",
    "    JSON 형식으로 'flag' 키에 '예', '아니오' 평가를 해주세요. \\n\n",
    "    설명은 필요없습니다.\"\"\",\n",
    "    input_variables=[\"generation\", \"documents\"],\n",
    ")\n",
    "\n",
    "hallucination_grader = prompt | llm | JsonOutputParser()"
   ]
  },
  {
   "cell_type": "code",
   "execution_count": 373,
   "id": "30e78951-9db2-496e-851e-c4189e99dda4",
   "metadata": {},
   "outputs": [
    {
     "data": {
      "text/plain": [
       "{'flag': '예'}"
      ]
     },
     "execution_count": 373,
     "metadata": {},
     "output_type": "execute_result"
    }
   ],
   "source": [
    "hallucination_grader.invoke({\"documents\": docs, \"generation\": generation})"
   ]
  },
  {
   "cell_type": "markdown",
   "id": "e46e3c15-2536-4d55-9582-49f32c9043db",
   "metadata": {},
   "source": [
    "### 질문에 적절한 답변인가"
   ]
  },
  {
   "cell_type": "code",
   "execution_count": 281,
   "id": "3fe68b0c-256d-423e-98ab-d7f56da26061",
   "metadata": {},
   "outputs": [],
   "source": [
    "### Answer Grader\n",
    "\n",
    "# LLM\n",
    "llm = ChatOllama(model=model_name, format=\"json\", temperature=temperature)\n",
    "\n",
    "# Prompt\n",
    "prompt = PromptTemplate(\n",
    "    template=\"\"\"당신은 답변이 질문과 관련된 내용이 있는지 평가하는 일을 합니다. \\n\\n\n",
    "    여기에 사용자의 질문이 있습니다: {question} \\n\n",
    "    여기에 주어진 답변이 있습니다:\n",
    "    \\n ------- \\n\n",
    "    {generation} \n",
    "    \\n ------- \\n\n",
    "\n",
    "    질문과 관련된 내용이 답변에 있다면 '예' 라고 평가해주세요.\\n\n",
    "    질문과 관련된 내용이 답변에 없다면 '아니오' 라고 평가해주세요. \\n\n",
    "            \n",
    "    JSON 형식으로 'flag' 키에 '예', '아니오' 평가를 해주세요.\\n\n",
    "    설명은 필요없습니다.\"\"\",\n",
    "    input_variables=[\"generation\", \"question\"],\n",
    ")\n",
    "\n",
    "answer_grader = prompt | llm | JsonOutputParser()"
   ]
  },
  {
   "cell_type": "code",
   "execution_count": 112,
   "id": "8285bdf6-92d0-42bb-bbef-7a550f40c25f",
   "metadata": {},
   "outputs": [
    {
     "name": "stdout",
     "output_type": "stream",
     "text": [
      "SK하이닉스는 어떤 D램을 개발하였습니까?\n",
      "SK하이닉스는 '10나노급 6세대 D램' 세계 첫 개발을 통해 '11%· 전력효율 9%'의 기술을 적용하고 있습니다.\n"
     ]
    }
   ],
   "source": [
    "print(query)\n",
    "print(generation)"
   ]
  },
  {
   "cell_type": "code",
   "execution_count": 375,
   "id": "c8c60fce-a781-4547-a258-86fbfc990c9e",
   "metadata": {},
   "outputs": [
    {
     "name": "stdout",
     "output_type": "stream",
     "text": [
      "애플이 개발하고 있는 신기술은 무엇입니까?\n",
      "\"아이폰16 페이스 ID 카메라에 '메타렌즈' 적용설스스로 주행하며 이용자 돕는 가정용 로봇도 개발 중\"\n"
     ]
    }
   ],
   "source": [
    "print(query)\n",
    "print(generation)"
   ]
  },
  {
   "cell_type": "code",
   "execution_count": 374,
   "id": "81492716-e28e-47df-9216-6c0e116f5ecc",
   "metadata": {},
   "outputs": [
    {
     "data": {
      "text/plain": [
       "{'flag': '예'}"
      ]
     },
     "execution_count": 374,
     "metadata": {},
     "output_type": "execute_result"
    }
   ],
   "source": [
    "answer_grader.invoke({\"question\": query, \"generation\": generation})"
   ]
  },
  {
   "cell_type": "code",
   "execution_count": 308,
   "id": "0514a52a-29da-475f-bf03-fcba254bcd76",
   "metadata": {},
   "outputs": [
    {
     "data": {
      "text/plain": [
       "{'flag': '예'}"
      ]
     },
     "execution_count": 308,
     "metadata": {},
     "output_type": "execute_result"
    }
   ],
   "source": [
    "# 악마의 문장. 도대체 어찌 할 수가 없는 문장\n",
    "answer_grader.invoke({\"question\": query, \"generation\": \"SK하이닉스에서 어떤 D램을 개발했나요?\"})"
   ]
  },
  {
   "cell_type": "markdown",
   "id": "1eabaec5",
   "metadata": {},
   "source": [
    "## LangGraph"
   ]
  },
  {
   "cell_type": "code",
   "execution_count": 119,
   "id": "189edee7-e0cb-4d74-ab3b-16f5b9651d39",
   "metadata": {},
   "outputs": [],
   "source": [
    "class GraphState(TypedDict):\n",
    "    \"\"\"\n",
    "    Represents the state of our graph.\n",
    "\n",
    "    Attributes:\n",
    "        question: question\n",
    "        generation: LLM generation\n",
    "        documents: list of documents\n",
    "    \"\"\"\n",
    "\n",
    "    question: str\n",
    "    generation: str\n",
    "    documents: List[str]\n",
    "    retriever: FAISS"
   ]
  },
  {
   "cell_type": "markdown",
   "id": "8e5b9501-8166-4408-a278-4b6d4791e760",
   "metadata": {},
   "source": [
    "### Nodes"
   ]
  },
  {
   "cell_type": "markdown",
   "id": "ad765fe7-2070-4200-9e4b-1be5db355e96",
   "metadata": {},
   "source": [
    "#### A. 문서 검색"
   ]
  },
  {
   "cell_type": "code",
   "execution_count": 120,
   "id": "466d65c5-73b0-4d92-b15d-6ba38d885190",
   "metadata": {},
   "outputs": [],
   "source": [
    "def retrieve(state):\n",
    "    \"\"\"\n",
    "    Retrieve documents\n",
    "\n",
    "    Args:\n",
    "        state (dict): The current graph state\n",
    "\n",
    "    Returns:\n",
    "        state (dict): New key added to state, documents, that contains retrieved documents\n",
    "    \"\"\"\n",
    "    print(f\"\\n{'-----' * 15}\\n\")\n",
    "    print(\"\\n>>> A _ 문서 검색 <<<\\n\")\n",
    "    question = state[\"question\"]\n",
    "    retriever = state[\"retriever\"]\n",
    "\n",
    "    # Retrieval\n",
    "    # documents = retriever.get_relevant_documents(question)\n",
    "    documents = retriever.invoke(question)\n",
    "    print(f\"\\t> Retrived Documents: {len(documents)}\")\n",
    "    for index, doc in enumerate(documents):\n",
    "        print(f\"\\t> Retrived Documents {index}: {doc.page_content[:200].replace('\\n',' ')}...\\n\\n\")\n",
    "    return {\"documents\": documents, \"question\": question}"
   ]
  },
  {
   "cell_type": "markdown",
   "id": "b9c2d376-cda8-4adf-ae06-3cf085cd9734",
   "metadata": {},
   "source": [
    "#### B. 문서 평가"
   ]
  },
  {
   "cell_type": "code",
   "execution_count": 399,
   "id": "4c22db00-c160-4157-b649-b079371695d6",
   "metadata": {},
   "outputs": [],
   "source": [
    "def grade_documents(state):\n",
    "    \"\"\"\n",
    "    Determines whether the retrieved documents are relevant to the question.\n",
    "\n",
    "    Args:\n",
    "        state (dict): The current graph state\n",
    "\n",
    "    Returns:\n",
    "        state (dict): Updates documents key with only filtered relevant documents\n",
    "    \"\"\"\n",
    "\n",
    "    print(f\"\\n{'-----' * 15}\\n\")\n",
    "    print(\">>> B _ 문서 평가: 질문과 관련이 있는지 확인 <<<\\n\")\n",
    "    question = state[\"question\"]\n",
    "    documents = state[\"documents\"]\n",
    "\n",
    "    # Score each doc\n",
    "    filtered_docs = []\n",
    "    for index, d in enumerate(documents):\n",
    "        print(f\"\\t> 문서 {index} ... 확인중\")\n",
    "        \n",
    "        for i in range(3):\n",
    "            \n",
    "            flag = retrieval_grader.invoke(\n",
    "                {\"question\": question, \"document\": d.page_content}\n",
    "            )\n",
    "            print(f\"\\t...Flag: {flag}\")\n",
    "            \n",
    "            try:\n",
    "                grade = flag[\"flag\"]\n",
    "                break\n",
    "                \n",
    "            except:\n",
    "                print(f\"\\t...RETRY - {i+1}\")\n",
    "        \n",
    "        if grade == \"예\":\n",
    "            print(\"\\t...관련있음\\n\")\n",
    "            filtered_docs.append(d)\n",
    "            \n",
    "        else:\n",
    "            print(\"\\t...관련없음\\n\")\n",
    "            continue\n",
    "    \n",
    "    return {\"documents\": filtered_docs, \"question\": question}"
   ]
  },
  {
   "cell_type": "code",
   "execution_count": null,
   "id": "e4f001d0-c458-437c-8b18-02931596f09c",
   "metadata": {
    "scrolled": true
   },
   "outputs": [
    {
     "name": "stdout",
     "output_type": "stream",
     "text": [
      "\n",
      "---------------------------------------------------------------------------\n",
      "\n",
      ">>> B _ 문서 평가: 질문과 관련이 있는지 확인 <<<\n",
      "\n",
      "\t> 문서 0 ... 확인중\n",
      "\t...Flag: {'flag': '예'}\n",
      "\t...관련있음\n",
      "\n",
      "\t> 문서 1 ... 확인중\n"
     ]
    }
   ],
   "source": [
    "inputs = {\n",
    "    \"question\": query,\n",
    "    \"documents\": documents,\n",
    "}\n",
    "\n",
    "output = grade_documents(inputs)\n",
    "print(output)"
   ]
  },
  {
   "cell_type": "markdown",
   "id": "48f06f6b-2c68-4688-9490-27b6450dd2f7",
   "metadata": {},
   "source": [
    "#### C. 답변 생성"
   ]
  },
  {
   "cell_type": "code",
   "execution_count": 121,
   "id": "5e8b0ed9-a86d-4fd7-9798-d9020e4bf373",
   "metadata": {},
   "outputs": [],
   "source": [
    "def generate(state):\n",
    "    \"\"\"\n",
    "    Generate answer\n",
    "\n",
    "    Args:\n",
    "        state (dict): The current graph state\n",
    "\n",
    "    Returns:\n",
    "        state (dict): New key added to state, generation, that contains LLM generation\n",
    "    \"\"\"\n",
    "    print(f\"\\n{'-----' * 15}\\n\")\n",
    "    print(\"\\n>>> C _ 답변 생성 <<<\\n\")\n",
    "    question = state[\"question\"]\n",
    "    documents = state[\"documents\"]\n",
    "\n",
    "    # RAG generation\n",
    "    generation = rag_chain.invoke({\"context\": documents, \"question\": question})\n",
    "    print(f\"\\t> Generation: {generation}\")\n",
    "    return {\"documents\": documents, \"question\": question, \"generation\": generation}"
   ]
  },
  {
   "cell_type": "code",
   "execution_count": 300,
   "id": "6affc30f-24c5-4ff1-9cb1-a5b8cbba7f83",
   "metadata": {
    "collapsed": true,
    "jupyter": {
     "outputs_hidden": true
    },
    "scrolled": true
   },
   "outputs": [
    {
     "name": "stdout",
     "output_type": "stream",
     "text": [
      "\n",
      "---------------------------------------------------------------------------\n",
      "\n",
      "\n",
      ">>> C _ 답변 생성 <<<\n",
      "\n",
      "\t> Generation: SK하이닉스는 '10나노급 6세대 D램' 세계 첫 개발을 시작했습니다.\n",
      "{'documents': Document(metadata={'source': 'https://n.news.naver.com/mnews/article/021/0002657064'}, page_content='SK하이닉스, ‘10나노급 6세대 D램’ 세계 첫 개발\\n\\n\\n속도 11%· 전력효율 9% 향상\\n\\n\\n\\nSK하이닉스가 현존하는 D램 중 가장 미세화된 ‘10나노(㎚·1나노는 10억 분의 1m)급 6세대(1c)’ 기술을 세계 최초로 개발했다고 29일 밝혔다. 메모리 선폭을 의미하는 나노 수치가 작아질수록 처리 속도는 빨라지고, 소비전력은 줄어든다. 11∼12나노인 6세대는 기존 12∼13나노인 5세대 메모리보다 속도는 11% 빠르고, 전력효율은 9% 이상 개선된다. 5세대 기술은 지난해 5월 삼성전자가 SK하이닉스보다 열흘 먼저 양산에 성공한 바 있어, 차세대 D램을 두고 K-메모리 경쟁이 극한 경쟁으로 이어질 전망이다.이날 SK하이닉스는 6세대 기술이 적용된 16Gb(기가비트) DDR5 D램을 개발하는 데 성공, 연내 양산 준비를 마치고 내년부터 제품을 공급할 계획이라고 밝혔다. DDR5는 저전력·고성능의 특징을 갖춘 D램 최신 규격으로 고성능 데이터센터 등에 쓰인다. SK하이닉스에 따르면 6세대 DDR5의 동작 속도는 8Gbps(초당 기가비트)로, 이전 세대 대비 11% 빨라졌으며 전력효율은 9% 이상 개선됐다. 설계 기술 혁신도 병행해 이전 세대 대비 생산성을 30% 이상 향상시켰다.SK하이닉스는 클라우드 서비스를 운영하는 글로벌 고객들이 SK하이닉스 6세대 D램을 데이터센터에 적용하면 전력 비용을 이전보다 최대 30%까지 줄일 수 있을 것으로 기대하고 있다. SK하이닉스는 향후 7세대 고대역폭 메모리(HBM)인 HBM4E 등에 6세대 기술을 적용한다는 계획이다. 삼성전자와 마이크론도 D램 초미세 공정을 추진, 6세대 1c 기술 개발이 임박한 것으로 알려져 있다.'), 'question': 'SK하이닉스는 어떤 D램을 개발하였습니까?', 'generation': \"SK하이닉스는 '10나노급 6세대 D램' 세계 첫 개발을 시작했습니다.\"}\n"
     ]
    }
   ],
   "source": [
    "inputs = {\n",
    "    \"question\": query,\n",
    "    \"retriever\": retriever,\n",
    "    \"documents\": documents[0]\n",
    "}\n",
    "\n",
    "output = generate(inputs)\n",
    "print(output)"
   ]
  },
  {
   "cell_type": "code",
   "execution_count": 391,
   "id": "590d37de-c71f-4bc6-a868-f0eec0dabe93",
   "metadata": {
    "scrolled": true
   },
   "outputs": [
    {
     "name": "stdout",
     "output_type": "stream",
     "text": [
      "\n",
      "---------------------------------------------------------------------------\n",
      "\n",
      "\n",
      ">>> C _ 답변 생성 <<<\n",
      "\n",
      "\t> Generation: \"아이폰16 페이스 ID 카메라에 '메타렌즈' 적용설스스로 주행하며 이용자 돕는 가정용 로봇도 개발 중\"\n",
      "{'documents': Document(metadata={'source': 'https://n.news.naver.com/mnews/article/366/0001014658'}, page_content='‘카툭튀’ 없는 렌즈부터 성격 가진 로봇까지… 애플이 내놓을 신기술은\\n\\n\\n아이폰16 페이스 ID 카메라에 ‘메타렌즈’ 적용설스스로 주행하며 이용자 돕는 가정용 로봇도 개발 중’시리’ 이용할 수 있는 스마트 반지 기술도 공개\\n\\n\\n\\n아이폰 카메라에 여러 개의 굴절 렌즈가 적용돼 있는 모습./애플 제공        애플이 ‘카툭튀(카메라가 툭 튀어나온 부분)’ 현상을 완화해 주는 메타렌즈를 아이폰에 적용하고, 사람처럼 성격을 가진 가정용 인공지능(AI) 로봇 출시를 검토 중인 것으로 전해졌다.29일 디지타임스 등 외신과 업계에 따르면 애플은 다음 달 공개하는 아이폰16 프로 페이스 ID 카메라에 ‘메타렌즈’를 적용한 것으로 알려졌다. 여러 개의 굴절 렌즈를 넣어 빛을 모아야 하는 기존 카메라와 달리, 메타렌즈는 하나의 렌즈만으로 동일한 기능을 할 수 있다. 스마트폰 카메라의 두께를 줄여 ‘카툭튀’ 현상을 완화할 수 있다.페이스 ID 카메라는 사진을 찍는 용도가 아닌 데다, 전면에 크기가 작아 기기의 두께를 획기적으로 줄이는데 영향을 미치지는 못할 것으로 보인다. 다만 애플 입장에서는 후면 카메라에 메타렌즈를 적용하기 전, 성능을 시험하는 용도로 활용할 수 있다.애플은 가정용 AI 로봇도 개발하고 있는 것으로 전해졌다. 이 로봇은 애플이 올해 포기한 자율주행차 프로젝트에서 개발한 기술을 활용, 이용자를 따라다니면서 음성 검색 등의 기능을 지원할 것으로 보인다. AI 비서 시리에 인간과 비슷한 성격을 더해 조금 더 자연스러운 대화를 지원하는 것이 특징이다.\\n\\n\\n\\n애플 에어팟 프로2./애플 제공        웨어러블(입는) 기기 관련 기술도 꾸준히 개발 중이다. 애플은 이달 스마트 반지 ‘애플 링’에 AI 비서 시리를 연결하는 특허를 공개했다. 애플 링에 마이크와 스피커를 적용해 이용자의 말을 인식하고 대답하는 기술이다. 심박수를 측정하는 등 헬스케어 용도에 머무르지 않고, 독립적인 기기로 만들어 활용도를 높이겠다는 구상이다. 애플은 다음 달 공개하는 iOS 18을 통해 머리를 흔드는 것만으로 걸려 오는 전화를 수락하거나 거절할 수 있는 기술을 적용할 예정이다.최근 애플은 주력 제품의 수익이 감소세에 접어들었다. 올 2분기 아이폰 판매수익은 52조4199억원으로 전년 동기 대비 0.8% 감소했다. 같은 기간 웨어러블·홈·액세서리 기기 수익은 10조8895억원으로 1.8% 줄었다.박강호 대신증권 연구원은 “중국의 애국 소비, 다양한 중저가형 제품 출시로 애플의 주력 제품인 아이폰 수익이 감소하고 있다”라며 “이 때문에 애플이 새로운 폼팩터(기기 형태)나 신기술이 적용된 기기로 돌파구를 찾고 있는 것”이라고 말했다.'), 'question': '애플이 개발하고 있는 신기술은 무엇입니까?', 'generation': '\"아이폰16 페이스 ID 카메라에 \\'메타렌즈\\' 적용설스스로 주행하며 이용자 돕는 가정용 로봇도 개발 중\"'}\n"
     ]
    }
   ],
   "source": [
    "inputs = {\n",
    "    \"question\": query,\n",
    "    \"retriever\": retriever,\n",
    "    \"documents\": docs\n",
    "}\n",
    "\n",
    "output = generate(inputs)\n",
    "print(output)"
   ]
  },
  {
   "cell_type": "markdown",
   "id": "85780e5e-5562-41c5-ab07-3b8ac5e3feb6",
   "metadata": {},
   "source": [
    "### Edges"
   ]
  },
  {
   "cell_type": "markdown",
   "id": "deb25ac2-4812-4f80-aa02-1849a5f78395",
   "metadata": {
    "jp-MarkdownHeadingCollapsed": true
   },
   "source": [
    "#### 답변 평가"
   ]
  },
  {
   "cell_type": "code",
   "execution_count": 392,
   "id": "eb44eb15-f0ea-4ce6-bb7d-cb1ae8f8b6e9",
   "metadata": {},
   "outputs": [],
   "source": [
    "def grade_generation_v_documents_and_question(state):\n",
    "    \"\"\"\n",
    "    Determines whether the generation is grounded in the document and answers question.\n",
    "\n",
    "    Args:\n",
    "        state (dict): The current graph state\n",
    "\n",
    "    Returns:\n",
    "        str: Decision for next node to call\n",
    "    \"\"\"\n",
    "\n",
    "    print(f\"\\n{'-----' * 15}\\n\")\n",
    "    print(\">>> 조건: 사실에 기반된 답변인지 확인 <<<\\n\")\n",
    "    question = state[\"question\"]\n",
    "    documents = state[\"documents\"]\n",
    "    generation = state[\"generation\"]\n",
    "\n",
    "    flag = hallucination_grader.invoke(\n",
    "        {\"documents\": documents, \"generation\": generation}\n",
    "    )\n",
    "    print(f\"\\t...flag: {flag}\")\n",
    "\n",
    "    try:\n",
    "        grade = flag[\"flag\"]\n",
    "\n",
    "        # Check hallucination\n",
    "        if grade == \"예\":\n",
    "            print(\"\\t...생성된 답변이 문서에 기반한 사실임.\")\n",
    "            # Check question-answering\n",
    "    \n",
    "            flag = answer_grader.invoke({\"question\": question, \"generation\": generation})\n",
    "            print(f\"\\t...확인 결과: {flag}\")\n",
    "        \n",
    "            grade = flag[\"flag\"]\n",
    "            if grade == \"예\":\n",
    "                print(\"\\t...답변이 적절함.\")\n",
    "                return \"적절함\"\n",
    "            else:\n",
    "                print(\"\\t...답변이 비적절함.\")\n",
    "                return \"비적절함\"\n",
    "        else:\n",
    "            print(\"\\t...생성된 답변이 문서에 기반된 사실이 아님. 다시 시도.\")\n",
    "            return \"비적절함\"\n",
    "    except:\n",
    "        return \"비적절함\""
   ]
  },
  {
   "cell_type": "code",
   "execution_count": 393,
   "id": "62d53329-98c4-4135-8fa4-16b0242077a8",
   "metadata": {
    "scrolled": true
   },
   "outputs": [
    {
     "name": "stdout",
     "output_type": "stream",
     "text": [
      "\n",
      "---------------------------------------------------------------------------\n",
      "\n",
      ">>> 조건: 사실에 기반된 답변인지 확인 <<<\n",
      "\n",
      "\t...flag: {'flag': '예'}\n",
      "\t...생성된 답변이 문서에 기반한 사실임.\n",
      "\t...확인 결과: {'flag': '예'}\n",
      "\t...답변이 적절함.\n",
      "적절함\n"
     ]
    }
   ],
   "source": [
    "inputs = {\n",
    "    \"question\": query,\n",
    "    \"documents\": documents[0],\n",
    "    \"generation\": generation,\n",
    "}\n",
    "\n",
    "output = grade_generation_v_documents_and_question(inputs)\n",
    "print(output)"
   ]
  },
  {
   "cell_type": "markdown",
   "id": "9037c7a3-26c9-4081-8932-99a84ca98d01",
   "metadata": {},
   "source": [
    "## Build Graph"
   ]
  },
  {
   "cell_type": "code",
   "execution_count": 125,
   "id": "eac039b4-9225-4aef-a6c1-8ecd02b47b48",
   "metadata": {},
   "outputs": [],
   "source": [
    "A = \"A _ 검색\"\n",
    "B = \"B _ 문서 평가\"\n",
    "C = \"C _ 생성\"\n",
    "D = \"D _ 쿼리 재생성\"\n",
    "E = \"E _ 웹 검색\""
   ]
  },
  {
   "cell_type": "code",
   "execution_count": 394,
   "id": "5ecc1e32-8cf4-4181-8b11-28e7cf7a9efa",
   "metadata": {},
   "outputs": [],
   "source": [
    "workflow = StateGraph(GraphState)\n",
    "\n",
    "# Define the nodes\n",
    "workflow.add_node(A, retrieve)  # retrieve\n",
    "workflow.add_node(B, grade_documents)  # grade documents\n",
    "workflow.add_node(C, generate)  # generatae"
   ]
  },
  {
   "cell_type": "code",
   "execution_count": 395,
   "id": "8d4085e1-7114-4706-a89c-861cfdf7cf1d",
   "metadata": {},
   "outputs": [],
   "source": [
    "# Build graph\n",
    "workflow.add_edge(START, A)\n",
    "workflow.add_edge(A, B)\n",
    "workflow.add_edge(B, C)\n",
    "\n",
    "workflow.add_conditional_edges(\n",
    "    C,\n",
    "    grade_generation_v_documents_and_question,\n",
    "    {\n",
    "        \"비적절함\": C,\n",
    "        \"적절함\": END,\n",
    "    },\n",
    ")\n",
    "\n",
    "# Compile\n",
    "app = workflow.compile()"
   ]
  },
  {
   "cell_type": "code",
   "execution_count": 396,
   "id": "87cc3ec0-d34c-4057-a8de-84bcb437a5cd",
   "metadata": {},
   "outputs": [
    {
     "data": {
      "image/jpeg": "[encoded data removed]",
      "text/plain": [
       "<IPython.core.display.Image object>"
      ]
     },
     "metadata": {},
     "output_type": "display_data"
    }
   ],
   "source": [
    "from IPython.display import Image, display\n",
    "\n",
    "try:\n",
    "    display(\n",
    "        Image(app.get_graph(xray=True).draw_mermaid_png())\n",
    "    )  # 실행 가능한 객체의 그래프를 mermaid 형식의 PNG로 그려서 표시합니다. xray=True는 추가적인 세부 정보를 포함합니다.\n",
    "except:\n",
    "    # 이 부분은 추가적인 의존성이 필요하며 선택적으로 실행됩니다.\n",
    "    pass"
   ]
  },
  {
   "cell_type": "markdown",
   "id": "251c7560-9303-4632-82d6-90042a6cf9ca",
   "metadata": {},
   "source": [
    "## 실행"
   ]
  },
  {
   "cell_type": "code",
   "execution_count": 397,
   "id": "33ca8adb-832f-4576-a78e-a42956ca8a00",
   "metadata": {},
   "outputs": [
    {
     "name": "stdout",
     "output_type": "stream",
     "text": [
      "애플이 개발하고 있는 신기술은 무엇입니까?\n"
     ]
    }
   ],
   "source": [
    "# query = \"사상 최고 해상도로 관측한 블랙홀의 이름은 무엇입니까?\"\n",
    "# query = \"SK하이닉스가 최근 개발한 것은 무엇입니까?\"\n",
    "\n",
    "print(query)\n",
    "\n",
    "# Run\n",
    "inputs = {\n",
    "    \"question\": query,\n",
    "    \"retriever\": retriever,\n",
    "    \"documents\": documents,\n",
    "}"
   ]
  },
  {
   "cell_type": "code",
   "execution_count": 398,
   "id": "338c9aec-b0e7-4380-be56-621494dec11d",
   "metadata": {
    "scrolled": true
   },
   "outputs": [
    {
     "name": "stdout",
     "output_type": "stream",
     "text": [
      "\n",
      "---------------------------------------------------------------------------\n",
      "\n",
      "\n",
      ">>> A _ 문서 검색 <<<\n",
      "\n",
      "\t> Retrived Documents: 3\n",
      "\t> Retrived Documents 0: SK하이닉스, ‘10나노급 6세대 D램’ 세계 첫 개발   속도 11%· 전력효율 9% 향상    SK하이닉스가 현존하는 D램 중 가장 미세화된 ‘10나노(㎚·1나노는 10억 분의 1m)급 6세대(1c)’ 기술을 세계 최초로 개발했다고 29일 밝혔다. 메모리 선폭을 의미하는 나노 수치가 작아질수록 처리 속도는 빨라지고, 소비전력은 줄어든다. 11∼12나노인...\n",
      "\n",
      "\n",
      "\t> Retrived Documents 1: ‘카툭튀’ 없는 렌즈부터 성격 가진 로봇까지… 애플이 내놓을 신기술은   아이폰16 페이스 ID 카메라에 ‘메타렌즈’ 적용설스스로 주행하며 이용자 돕는 가정용 로봇도 개발 중’시리’ 이용할 수 있는 스마트 반지 기술도 공개    아이폰 카메라에 여러 개의 굴절 렌즈가 적용돼 있는 모습./애플 제공        애플이 ‘카툭튀(카메라가 툭 튀어나온 부분)’ ...\n",
      "\n",
      "\n",
      "\t> Retrived Documents 2: [사이테크+] '사건의 지평선 망원경' 사상 최고 해상도로 M87* 블랙홀 관측   국제 연구팀 \"ETH에 0.87㎜ 파장 첫 적용…블랙홀 관측 사상 최고 해상도\" (서울=연합뉴스) 이주영 기자 = 전 세계 전파망원경들을 연결한 지구 크기 가상 망원경인 '사건의 지평선 망원경'(ETH)이 0.87㎜ 파장, 345㎓ 주파수로 M87 은하의 중앙 블랙홀(M87...\n",
      "\n",
      "\n",
      "노드 'A _ 검색' 완료. (0.436s)\n",
      "\n",
      "===========================================================================\n",
      "\n",
      "\n",
      "---------------------------------------------------------------------------\n",
      "\n",
      ">>> B _ 문서 평가: 질문과 관련이 있는지 확인 <<<\n",
      "\n",
      "\t> 문서 0 ... 확인중\n",
      "\t...Flag: {'flag': '예'}\n",
      "\t...관련있음\n",
      "\n",
      "\t> 문서 1 ... 확인중\n",
      "\t...Flag: {'flag': '예'}\n",
      "\t...관련있음\n",
      "\n",
      "\t> 문서 2 ... 확인중\n",
      "\t...Flag: {'flag': '예'}\n",
      "\t...관련있음\n",
      "\n",
      "노드 'B _ 문서 평가' 완료. (468.221s)\n",
      "\n",
      "===========================================================================\n",
      "\n",
      "\n",
      "---------------------------------------------------------------------------\n",
      "\n",
      "\n",
      ">>> C _ 답변 생성 <<<\n",
      "\n",
      "\t> Generation: \"ETH는 칠레 아타카마 사막의 대형 전파망원경 \\'아타카마 대형 밀리미터/서브밀리미터 집합체\\'(ALMA), 스페인 IRAM 30m 망원경, 프랑스 북부 확장 밀리미터 어레이(NOEMA), 그린란드 망원경 등 전파망원경 15~20개를 연결해 만든 지구 크기의 거대한 가상 망원경입니다. 이 연구에서는 0.87㎜ 파장 관측에 성공했지만, 데이터가 부족해 아직 이미지를 얻지는 못했습니다.\"\n",
      "\n",
      "---------------------------------------------------------------------------\n",
      "\n",
      ">>> 조건: 사실에 기반된 답변인지 확인 <<<\n",
      "\n",
      "\t...flag: {'flag': '예'}\n",
      "\t...생성된 답변이 문서에 기반한 사실임.\n",
      "\t...확인 결과: {'flag': '예'}\n",
      "\t...답변이 적절함.\n",
      "노드 'C _ 생성' 완료. (65.077s)\n",
      "\n",
      "===========================================================================\n",
      "\n",
      "8.896 min\n"
     ]
    }
   ],
   "source": [
    "start_time = time.time()\n",
    "node_time = start_time\n",
    "\n",
    "for output in app.stream(inputs):\n",
    "    for key, value in output.items():\n",
    "        current_time = time.time()\n",
    "        elapsed_time = current_time - node_time\n",
    "        node_time = current_time\n",
    "        print(f\"노드 '{key}' 완료. ({elapsed_time:.3f}s)\")\n",
    "    print(f\"\\n{'=====' * 15}\\n\")\n",
    "\n",
    "end_time = time.time()\n",
    "elapsed_time = end_time - start_time\n",
    "print(f\"{elapsed_time / 60:.3f} min\")"
   ]
  },
  {
   "cell_type": "code",
   "execution_count": 307,
   "id": "c380aadd-cfb3-487f-94c7-5ba736a0fa7d",
   "metadata": {},
   "outputs": [
    {
     "name": "stdout",
     "output_type": "stream",
     "text": [
      "SK하이닉스는 '10나노급 6세대 D램' 세계 첫 개발을 통해 '11%· 전력효율 9%'의 기술을 세계 최초로 개발하였습니다.\n"
     ]
    }
   ],
   "source": [
    "print(f\"{value['generation']}\")"
   ]
  },
  {
   "cell_type": "code",
   "execution_count": 134,
   "id": "23463804-1c6f-4b22-b51f-106a8c4f33ab",
   "metadata": {},
   "outputs": [
    {
     "name": "stdout",
     "output_type": "stream",
     "text": [
      "8.035 min\n"
     ]
    }
   ],
   "source": [
    "print(f\"{elapsed_time / 60:.3f} min\")"
   ]
  },
  {
   "cell_type": "markdown",
   "id": "9ee993d4-e25f-48ed-8f0e-d75bbab4da9a",
   "metadata": {},
   "source": [
    "# End"
   ]
  },
  {
   "cell_type": "code",
   "execution_count": null,
   "id": "3b655074-7056-44eb-a556-01649d82f07e",
   "metadata": {},
   "outputs": [],
   "source": []
  },
  {
   "cell_type": "code",
   "execution_count": null,
   "id": "0624022f-e69a-40e2-93b6-caa00a5ede53",
   "metadata": {},
   "outputs": [],
   "source": []
  },
  {
   "cell_type": "code",
   "execution_count": null,
   "id": "8a077f41-c09d-4326-b1c8-8fe23c3fc9e0",
   "metadata": {},
   "outputs": [],
   "source": []
  },
  {
   "cell_type": "code",
   "execution_count": null,
   "id": "02838bba-6b34-4402-b7d0-c82ff78010b6",
   "metadata": {},
   "outputs": [],
   "source": []
  },
  {
   "cell_type": "code",
   "execution_count": null,
   "id": "c5119c1c-0f1a-4596-b548-0035a5b3879d",
   "metadata": {},
   "outputs": [],
   "source": []
  }
 ],
 "metadata": {
  "kernelspec": {
   "display_name": "Python 3 (ipykernel)",
   "language": "python",
   "name": "python3"
  },
  "language_info": {
   "codemirror_mode": {
    "name": "ipython",
    "version": 3
   },
   "file_extension": ".py",
   "mimetype": "text/x-python",
   "name": "python",
   "nbconvert_exporter": "python",
   "pygments_lexer": "ipython3",
   "version": "3.12.4"
  }
 },
 "nbformat": 4,
 "nbformat_minor": 5
}
