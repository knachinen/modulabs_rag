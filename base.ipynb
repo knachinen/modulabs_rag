{
 "cells": [
  {
   "cell_type": "code",
   "execution_count": 1,
   "id": "c17731bb-2645-41a3-94c4-e7dcc8936740",
   "metadata": {},
   "outputs": [
    {
     "name": "stderr",
     "output_type": "stream",
     "text": [
      "USER_AGENT environment variable not set, consider setting it to identify your requests.\n"
     ]
    }
   ],
   "source": [
    "from tqdm.notebook import tqdm\n",
    "\n",
    "import pprint\n",
    "import bs4\n",
    "\n",
    "from langchain import hub\n",
    "from langchain_core.runnables import RunnablePassthrough\n",
    "from langchain_core.output_parsers import StrOutputParser\n",
    "from langchain_core.prompts import ChatPromptTemplate\n",
    "from langchain_core.runnables import RunnableConfig\n",
    "from langchain_core.output_parsers import JsonOutputParser\n",
    "from langchain_community.vectorstores import FAISS\n",
    "from langchain_community.document_loaders import WebBaseLoader\n",
    "from langchain_community.tools.tavily_search import TavilySearchResults\n",
    "from langchain_ollama import OllamaEmbeddings\n",
    "from langchain_ollama import ChatOllama\n",
    "from langchain_text_splitters import RecursiveCharacterTextSplitter\n",
    "from langchain.document_loaders import PyPDFLoader\n",
    "from langgraph.graph import StateGraph, START, END\n",
    "from langgraph.checkpoint.memory import MemorySaver\n",
    "from langgraph.errors import GraphRecursionError\n",
    "from langchain.prompts import PromptTemplate\n",
    "\n",
    "from typing import List\n",
    "from typing_extensions import TypedDict\n",
    "\n",
    "from abc import ABC, abstractmethod\n",
    "from operator import itemgetter"
   ]
  },
  {
   "cell_type": "code",
   "execution_count": 2,
   "id": "df9813a4-a375-43d1-abdc-3f8238e07fdf",
   "metadata": {},
   "outputs": [],
   "source": [
    "# model_name=\"gemma2:2b\"\n",
    "model_name = \"qwen2:0.5b\"\n",
    "embd = OllamaEmbeddings(model=model_name)\n",
    "llm = ChatOllama(model=model_name, temperature=0)"
   ]
  },
  {
   "cell_type": "markdown",
   "id": "a06b0614-a6b6-403c-af26-9cc614ab4c96",
   "metadata": {},
   "source": [
    "## .. 문서 - vectorstore"
   ]
  },
  {
   "cell_type": "markdown",
   "id": "4a8ec18f-052c-48fb-9d59-aa099f615663",
   "metadata": {
    "jp-MarkdownHeadingCollapsed": true
   },
   "source": [
    "### ... web"
   ]
  },
  {
   "cell_type": "code",
   "execution_count": 5,
   "id": "b17f6667-0a6d-4ed7-a3ba-d045919650bf",
   "metadata": {},
   "outputs": [],
   "source": [
    "def load_document_web(web_path):\n",
    "    loader = WebBaseLoader(\n",
    "        web_paths=web_path,\n",
    "        bs_kwargs=dict(\n",
    "            parse_only=bs4.SoupStrainer(\n",
    "                \"div\",\n",
    "                # attrs={\"class\": [\"mw-content-ltr mw-parser-output\"]},\n",
    "                attrs={\"class\": [\"newsct_article _article_body\",\n",
    "                             \"media_end_head_title\"]},\n",
    "            )\n",
    "        ),\n",
    "    )\n",
    "    docs = loader.load()\n",
    "    print(f\"문서의 수: {len(docs)}\")\n",
    "    return docs"
   ]
  },
  {
   "cell_type": "code",
   "execution_count": 6,
   "id": "d6a7b92d-83c7-4a70-99e4-a9b6ca74f349",
   "metadata": {},
   "outputs": [
    {
     "name": "stdout",
     "output_type": "stream",
     "text": [
      "문서의 수: 10\n"
     ]
    }
   ],
   "source": [
    "# web_path = \"https://n.news.naver.com/mnews/hotissue/article/001/0014896674?type=series&cid=1087298\"\n",
    "web_path = (\n",
    "    \"https://n.news.naver.com/mnews/hotissue/article/001/0014896674?type=series&cid=1087298\",\n",
    "    \"https://n.news.naver.com/mnews/article/366/0001014658\",\n",
    "    \"https://n.news.naver.com/mnews/article/021/0002657064\",\n",
    "    \"https://n.news.naver.com/mnews/article/119/0002868335\",    \n",
    "    \"https://n.news.naver.com/mnews/article/031/0000866996\",\n",
    "    \"https://n.news.naver.com/mnews/article/277/0005467269\",\n",
    "    \"https://n.news.naver.com/mnews/article/014/0005236428\",\n",
    "    \"https://n.news.naver.com/mnews/hotissue/article/081/0003477228?type=series&cid=1064685\",\n",
    "    \"https://n.news.naver.com/mnews/article/662/0000051263\",\n",
    "    \"https://n.news.naver.com/mnews/article/030/0003237005\",\n",
    ")\n",
    "docs = load_document_web(web_path)"
   ]
  },
  {
   "cell_type": "code",
   "execution_count": 7,
   "id": "fecd4e88-190b-4737-8650-0a9ba483e49b",
   "metadata": {},
   "outputs": [],
   "source": [
    "# from langchain.text_splitter import RecursiveCharacterTextSplitter\n",
    "\n",
    "# Initialize the text splitter with the chunk size and overlap settings\n",
    "text_splitter = RecursiveCharacterTextSplitter(chunk_size=4000, chunk_overlap=100)\n",
    "\n",
    "# Split the document into chunks\n",
    "# documents = text_splitter.split_text(docs)\n",
    "documents = text_splitter.split_documents(docs)"
   ]
  },
  {
   "cell_type": "code",
   "execution_count": 8,
   "id": "6889d66d-7631-44f5-b5ea-5b28262e2956",
   "metadata": {},
   "outputs": [
    {
     "name": "stdout",
     "output_type": "stream",
     "text": [
      "0: [사이테크+] '사건의 지평선 망원경' 사상 최고 해상도로 M87* 블랙홀 관측   국제 연구팀 \"EHT에 0.87㎜ 파장 첫 적용…블랙홀 관측 사상 최고 해상도\" (서울=연합뉴스\n",
      "\n",
      "1: ‘카툭튀’ 없는 렌즈부터 성격 가진 로봇까지… 애플이 내놓을 신기술은   아이폰16 페이스 ID 카메라에 ‘메타렌즈’ 적용설스스로 주행하며 이용자 돕는 가정용 로봇도 개발 중’시리\n",
      "\n",
      "2: SK하이닉스, ‘10나노급 6세대 D램’ 세계 첫 개발   속도 11%· 전력효율 9% 향상    SK하이닉스가 현존하는 D램 중 가장 미세화된 ‘10나노(㎚·1나노는 10억 분의\n",
      "\n",
      "3: KISA, AI Security Day 세미나…사이버 위협 대응 방안 논의   5일 용산 로얄파크컨벤션서 개최    ‘2024 AI Security Day’ 인공지능 보안 세미나 \n",
      "\n",
      "4: 이정헌 넥슨 대표 \"2027년까지 매출 7500억엔 달성 목표\"   \"종적 성장과 횡적 확장 전략 통해 IP 프랜차이즈 다수 확보\"국내 게임업계에서 독보적인 1위 자리를 굳힌 넥슨\n",
      "\n",
      "5: 아이폰16 출시일 맞춰 3단 폴더블폰 펼치는 中 화웨이   신제품 혈투…9월10일 잇달아 공개화웨이가 애플의 새로운 아이폰 시리즈 출시일에 맞춰 자사 신제품을 선보이기로 했다. 시\n",
      "\n",
      "6: 삼성SDS \"GPU 비중 높인 AI 클라우드로 발전…내달 美 진출\"   리얼 서밋 2024 개최SCP, 패브릭스·브리티코파일럿 강조엔비디아·델·MS·워크데이와 협력 강화내달 패브릭\n",
      "\n",
      "7: ‘금 나와라, 뚝딱!’ 현실로?…‘거대한 금덩어리’ 생성 과정 최초로 밝혀졌다[핵잼 사이언스]   \t\t\t[서울신문 나우뉴스]    자료사진 123rf.com근대 과학이 발달하기 이\n",
      "\n",
      "8: “바위 넘고 계단 오르는 ‘휠체어’ 가능할까”…세계 최초 ‘말랑한 바퀴’ 개발   한국기계연구원, 표면장력 원리 모사한 ‘모핑 휠’ 개발장애물에 따라 실시간으로 바퀴 모양 변화이동\n",
      "\n",
      "9: 中 반도체 자립 전략에 장비 산업 '쑥쑥'   \t\t\t중국이 미국 제재에 맞서 반도체 자립을 추진하면서 반도체 장비 산업이 빠르게 성장하는 것으로 나타났다.3일 중국 경제매체 커촹반\n",
      "\n"
     ]
    }
   ],
   "source": [
    "for i, d in enumerate(documents):\n",
    "    print(f\"{i}: {d.page_content[:100].replace('\\n',' ')}\\n\")"
   ]
  },
  {
   "cell_type": "markdown",
   "id": "67da911f-9656-41d0-bed2-b9a1836fda98",
   "metadata": {
    "jp-MarkdownHeadingCollapsed": true
   },
   "source": [
    "### ... vectorstore"
   ]
  },
  {
   "cell_type": "code",
   "execution_count": 3,
   "id": "1b00d261-a051-4665-82bb-0830798381fb",
   "metadata": {},
   "outputs": [
    {
     "data": {
      "text/plain": [
       "'data/qwen2-05b_naver-news'"
      ]
     },
     "execution_count": 3,
     "metadata": {},
     "output_type": "execute_result"
    }
   ],
   "source": [
    "faiss_path = f\"data/{model_name.replace(':','-').replace(\".\",'')}_naver-news\"\n",
    "faiss_path"
   ]
  },
  {
   "cell_type": "markdown",
   "id": "507df3a2-6bd5-441a-8243-63cfbef0f419",
   "metadata": {
    "jp-MarkdownHeadingCollapsed": true
   },
   "source": [
    "#### save"
   ]
  },
  {
   "cell_type": "code",
   "execution_count": 77,
   "id": "c7e5e168-a098-4324-a447-a0f70972f0e9",
   "metadata": {},
   "outputs": [
    {
     "data": {
      "application/vnd.jupyter.widget-view+json": {
       "model_id": "0feb70ebbea448f8ac58cbe910ac0d1c",
       "version_major": 2,
       "version_minor": 0
      },
      "text/plain": [
       "  0%|          | 0/3 [00:00<?, ?it/s]"
      ]
     },
     "metadata": {},
     "output_type": "display_data"
    }
   ],
   "source": [
    "vectorstore = None\n",
    "for d in tqdm(documents):\n",
    "    if vectorstore:\n",
    "        vectorstore.add_documents([d])\n",
    "    else:\n",
    "        vectorstore = FAISS.from_documents(\n",
    "            documents=[d], \n",
    "            embedding=embd\n",
    "        )\n",
    "\n",
    "vectorstore.save_local(faiss_path)"
   ]
  },
  {
   "cell_type": "code",
   "execution_count": 11,
   "id": "aa69aead-b9fb-456f-bf56-08001a00e86f",
   "metadata": {},
   "outputs": [
    {
     "data": {
      "application/vnd.jupyter.widget-view+json": {
       "model_id": "8c9115c9d10c4bbeace239e35af0a7c8",
       "version_major": 2,
       "version_minor": 0
      },
      "text/plain": [
       "  0%|          | 0/6 [00:00<?, ?it/s]"
      ]
     },
     "metadata": {},
     "output_type": "display_data"
    }
   ],
   "source": [
    "for d in tqdm(documents):\n",
    "    vectorstore.add_documents([d])\n",
    "\n",
    "vectorstore.save_local(faiss_path)"
   ]
  },
  {
   "cell_type": "markdown",
   "id": "ed67fb72-525c-4b67-8493-dbcc64a3958d",
   "metadata": {},
   "source": [
    "#### load"
   ]
  },
  {
   "cell_type": "code",
   "execution_count": 4,
   "id": "7a3cabd8-a976-4338-ad2f-35a7789c0817",
   "metadata": {
    "scrolled": true
   },
   "outputs": [],
   "source": [
    "vectorstore = FAISS.load_local(\n",
    "    faiss_path,\n",
    "    embeddings=embd,\n",
    "    allow_dangerous_deserialization=True\n",
    ")"
   ]
  },
  {
   "cell_type": "markdown",
   "id": "34c6e90e-20cd-410f-8cd2-c44870d31ec2",
   "metadata": {},
   "source": [
    "## .. Retriever"
   ]
  },
  {
   "cell_type": "markdown",
   "id": "89f3d95e-b284-47fe-bec1-454ce47585df",
   "metadata": {
    "jp-MarkdownHeadingCollapsed": true
   },
   "source": [
    "### ... query"
   ]
  },
  {
   "cell_type": "code",
   "execution_count": 5,
   "id": "6b3c6572-2ee7-4fb5-b12f-75494ebd60f1",
   "metadata": {},
   "outputs": [],
   "source": [
    "# query = \"사상 최고 해상도로 관측한 블랙홀의 이름은 무엇입니까?\"\n",
    "\n",
    "# query = \"SK하이닉스는 어떤 D램을 개발하였습니까?\"\n",
    "\n",
    "# query = \"애플은 어떤 기술을 개발하고 있나요?\"\n",
    "# query = \"애플이 개발하고 있는 신기술은 무엇입니까?\"\n",
    "# query = \"애플의 메타렌즈는 무엇입니까?\"\n",
    "query = \"애플이 '카툭튀' 현상을 완화해주는 기술은 무엇인가요?\""
   ]
  },
  {
   "cell_type": "markdown",
   "id": "cc7666f3-5595-49ba-bc33-76516f017d21",
   "metadata": {
    "jp-MarkdownHeadingCollapsed": true
   },
   "source": [
    "### ... retriever"
   ]
  },
  {
   "cell_type": "code",
   "execution_count": 13,
   "id": "1ea279db-ac3e-48a4-bb5f-fd13c6541ae3",
   "metadata": {},
   "outputs": [],
   "source": [
    "retriever = vectorstore.as_retriever(\n",
    "    search_type=\"mmr\",\n",
    "    search_kwargs={\n",
    "        \"k\": 10,\n",
    "        \"fetch_k\": 10,\n",
    "        \"lambda_mult\": 0.7\n",
    "    }\n",
    ")"
   ]
  },
  {
   "cell_type": "code",
   "execution_count": 6,
   "id": "5940a8b9-f3fa-44f7-bfd2-a36223a334c1",
   "metadata": {},
   "outputs": [],
   "source": [
    "retriever = vectorstore.as_retriever(\n",
    "    search_type=\"similarity\",  # use a basic similarity search\n",
    "    search_kwargs={\n",
    "        \"k\": 10,  # retrieve top 10 documents\n",
    "        \"fetch_k\": 10  # number of documents to fetch before filtering\n",
    "    }\n",
    ")"
   ]
  },
  {
   "cell_type": "code",
   "execution_count": 7,
   "id": "d4c4ad5e-af2e-45d7-a7e2-a403160a1769",
   "metadata": {},
   "outputs": [],
   "source": [
    "documents = retriever.invoke(query)"
   ]
  },
  {
   "cell_type": "markdown",
   "id": "3e1283d9-ad8f-4af6-bfbd-091728b34d00",
   "metadata": {
    "jp-MarkdownHeadingCollapsed": true
   },
   "source": [
    "### ... score check"
   ]
  },
  {
   "cell_type": "code",
   "execution_count": 7,
   "id": "57ac544b-9c29-4d42-8589-dfaee9d054de",
   "metadata": {
    "scrolled": true
   },
   "outputs": [
    {
     "name": "stdout",
     "output_type": "stream",
     "text": [
      "Score: 0.220\n",
      "SK하이닉스, ‘10나노급 6세대 D램’ 세계 첫 개발   속도 11%· 전력효율 9% 향\n",
      "\n",
      "Score: 0.285\n",
      "KISA, AI Security Day 세미나…사이버 위협 대응 방안 논의   5일 용산 \n",
      "\n",
      "Score: 0.312\n",
      "아이폰16 출시일 맞춰 3단 폴더블폰 펼치는 中 화웨이   신제품 혈투…9월10일 잇달아 \n",
      "\n",
      "Score: 0.328\n",
      "‘카툭튀’ 없는 렌즈부터 성격 가진 로봇까지… 애플이 내놓을 신기술은   아이폰16 페이스\n",
      "\n",
      "Score: 0.332\n",
      "“바위 넘고 계단 오르는 말랑한 바퀴”…세계 최초 개발   한국기계연구원, 표면장력 원리 \n",
      "\n",
      "Score: 0.352\n",
      "이정헌 넥슨 대표 \"2027년까지 매출 7500억엔 달성 목표\"   \"종적 성장과 횡적 확\n",
      "\n",
      "Score: 0.355\n",
      "‘금 나와라, 뚝딱!’ 현실로?…‘거대한 금덩어리’ 생성 과정 최초로 밝혀졌다[핵잼 사이언\n",
      "\n",
      "Score: 0.357\n",
      "中 반도체 자립 전략에 장비 산업 '쑥쑥'   \t\t\t중국이 미국 제재에 맞서 반도체 자립을\n",
      "\n",
      "Score: 0.562\n",
      "삼성SDS \"GPU 비중 높인 AI 클라우드로 발전…내달 美 진출\"   리얼 서밋 2024\n",
      "\n",
      "Score: 0.653\n",
      "[사이테크+] '사건의 지평선 망원경' 사상 최고 해상도로 M87* 블랙홀 관측   국제 \n",
      "\n"
     ]
    }
   ],
   "source": [
    "results = vectorstore.similarity_search_with_score(\n",
    "    query=query,\n",
    "    k=vectorstore.index.ntotal\n",
    ")\n",
    "\n",
    "scores = []\n",
    "\n",
    "for doc, score in results:\n",
    "    print(f\"Score: {score:.3f}\\n{doc.page_content[:50].replace('\\n',' ')}\\n\")\n",
    "    scores.append(score)\n",
    "\n",
    "# scores"
   ]
  },
  {
   "cell_type": "markdown",
   "id": "8ab46ebb-ada4-4808-8cda-7c53b81c53e5",
   "metadata": {
    "jp-MarkdownHeadingCollapsed": true
   },
   "source": [
    "### ... documents check"
   ]
  },
  {
   "cell_type": "code",
   "execution_count": 8,
   "id": "0aa70517-ec09-4e3f-a7ce-174229b543be",
   "metadata": {
    "scrolled": true
   },
   "outputs": [
    {
     "name": "stdout",
     "output_type": "stream",
     "text": [
      "0: SK하이닉스, ‘10나노급 6세대 D램’ 세계 첫 개발   속도 11%· 전력효율 9% 향\n",
      "\n",
      "1: KISA, AI Security Day 세미나…사이버 위협 대응 방안 논의   5일 용산 \n",
      "\n",
      "2: 아이폰16 출시일 맞춰 3단 폴더블폰 펼치는 中 화웨이   신제품 혈투…9월10일 잇달아 \n",
      "\n",
      "3: ‘카툭튀’ 없는 렌즈부터 성격 가진 로봇까지… 애플이 내놓을 신기술은   아이폰16 페이스\n",
      "\n",
      "4: “바위 넘고 계단 오르는 말랑한 바퀴”…세계 최초 개발   한국기계연구원, 표면장력 원리 \n",
      "\n",
      "5: 이정헌 넥슨 대표 \"2027년까지 매출 7500억엔 달성 목표\"   \"종적 성장과 횡적 확\n",
      "\n",
      "6: ‘금 나와라, 뚝딱!’ 현실로?…‘거대한 금덩어리’ 생성 과정 최초로 밝혀졌다[핵잼 사이언\n",
      "\n",
      "7: 中 반도체 자립 전략에 장비 산업 '쑥쑥'   \t\t\t중국이 미국 제재에 맞서 반도체 자립을\n",
      "\n",
      "8: 삼성SDS \"GPU 비중 높인 AI 클라우드로 발전…내달 美 진출\"   리얼 서밋 2024\n",
      "\n",
      "9: [사이테크+] '사건의 지평선 망원경' 사상 최고 해상도로 M87* 블랙홀 관측   국제 \n",
      "\n"
     ]
    }
   ],
   "source": [
    "for i, d in enumerate(documents):\n",
    "    print(f\"{i}: {d.page_content[:50].replace('\\n', ' ')}\\n\")"
   ]
  },
  {
   "cell_type": "markdown",
   "id": "484f5be2-092b-4032-8995-0a9a96797e6c",
   "metadata": {},
   "source": [
    "## .. LLMs"
   ]
  },
  {
   "cell_type": "code",
   "execution_count": 9,
   "id": "53d8ded8-38cf-4fab-a577-66e4ad8ae221",
   "metadata": {},
   "outputs": [],
   "source": [
    "temperature = 0.36"
   ]
  },
  {
   "cell_type": "markdown",
   "id": "5468837a-db81-42cc-9601-6342b2b282f7",
   "metadata": {
    "jp-MarkdownHeadingCollapsed": true
   },
   "source": [
    "### ... Triplet"
   ]
  },
  {
   "cell_type": "code",
   "execution_count": 10,
   "id": "459d74ee-bc25-44c5-b429-3ca99f4febb9",
   "metadata": {},
   "outputs": [],
   "source": [
    "template_triplet = \"\"\"후보 답변이 주어졌을 때, 후보 답변으로부터 질문을 조건으로 하여 지식 그래프(KG)를 추출하세요. \n",
    "    추출된 지식 그래프는 (\"주어\", \"서술어\", \"목적어\") 형식의 삼중항(triplet)으로 표현하며, 각 삼중항은 한 줄에 작성하세요. \n",
    "    위 작업 내용을 다시 읽어주세요: 후보 답변이 주어졌을 때, 후보 답변으로부터 질문을 조건으로 하여 지식 그래프(KG)를 추출하세요. \n",
    "    추출된 지식 그래프는 (\"주어\", \"서술어\", \"목적어\") 형식의 삼중항(triplet)으로 표현하며, 각 삼중항은 한 줄에 작성하세요. \n",
    "\n",
    "    위 작업의 예시는 다음과 같습니다.\n",
    "\n",
    "    ### 후보 답변:\n",
    "    KISA는 이번 세미나에서 ‘AI가 만든 사이버위협, AI가 막는 사이버위협’이라는 주제로 AI 기술의 순기능과 역기능을 조명한다. AI와 인간이 상생할 수 있는 안전한 환경 조성을 위해 다양한 세션을 제공할 예정이다.\n",
    "\n",
    "    ### 지식 그래프:\n",
    "    (\"KISA\", \"조명\", \"AI 기술의 순기능과 역기능\")\n",
    "    (\"KISA\", \"제공\", \"다양한 세션\")\n",
    "    (\"이번 세미나\", \"주제\", \"‘AI가 만든 사이버위협, AI가 막는 사이버위협’\")\n",
    "    \n",
    "    ### 후보 답변:\n",
    "    세종대왕은 1397년 4월 10일(음력)에 한성부 북부 준수방(지금의 서울특별시 종로구 통인동)에서 태종과 원경왕후의 셋째 아들로 태어났습니다. \n",
    "    세종대왕은 조선의 제4대 왕으로, 1418년에 왕위에 올라 32년간 재위하며 조선의 정치, 경제, 문화 등 모든 분야에서 큰 발전을 이루었습니다.\n",
    "\n",
    "    ### 지식 그래프:\n",
    "    (\"세종대왕\", \"출생\", \"1397년 4월 10일(음력)\")\n",
    "    (\"세종대왕\", \"출생지\", \"한성부 북부 준수방(지금의 서울특별시 종로구 통인동)\")\n",
    "    (\"세종대왕\", \"부모\", \"태종과 원경왕후\")\n",
    "    (\"세종대왕\", \"왕위에 오름\", \"1418년\")\n",
    "    (\"세종대왕\", \"재위 기간\", \"32년\")\n",
    "    \n",
    "     \\n\\n\\n\n",
    "\n",
    "     이제 아래에 주어진 질문과 후보 답변으로 지식 그래프를 추출해주세요.\n",
    "\n",
    "     ### 후보 답변:\n",
    "     {candidate}\n",
    "\n",
    "     ### 지식 그래프:\n",
    "\n",
    "     이 작업은 추출 작업이므로, 후보 답변의 내용이 사실인지 여부는 고려하지 말고, 단순히 해당 내용에서 삼중항을 추출하는 데 집중하세요.\n",
    "     설명이나 개인적인 추론을 덧붙이지 마세요.\n",
    "     \"\"\""
   ]
  },
  {
   "cell_type": "code",
   "execution_count": 11,
   "id": "66f3251e-62e2-4671-a692-6e27c8ae84ae",
   "metadata": {},
   "outputs": [],
   "source": [
    "prompt = PromptTemplate(\n",
    "    template=template_triplet,\n",
    "    input_variables=[\"candidate\"],\n",
    ")\n",
    "\n",
    "model_name_triplet = \"gemma2:2b\"\n",
    "llm = ChatOllama(model=model_name_triplet, temperature=0.1)\n",
    "rag_triplet = prompt | llm | StrOutputParser()"
   ]
  },
  {
   "cell_type": "code",
   "execution_count": 27,
   "id": "a284b4ed-358d-4216-a3c4-1d11e06fcdc7",
   "metadata": {
    "scrolled": true
   },
   "outputs": [
    {
     "name": "stdout",
     "output_type": "stream",
     "text": [
      "00:\n",
      "```\n",
      "(\"SK하이닉스\", \"개발\", \"10나노급 6세대 D램\")\n",
      "(\"SK하이닉스\", \"속도\", \"11% 빠르고 전력효율은 9% 이상 개선된다\")\n",
      "(\"SK하이닉스\", \"전력효율\", \"9% 이상 개선된다\")\n",
      "(\"SK하이닉스\", \"D램\", \"6세대 D램\")\n",
      "(\"SK하이닉스\", \"DDR5\", \"고성능 데이터센터 등에 쓰인다\")\n",
      "(\"SK하이닉스\", \"전력비용\", \"최대 30%까지 줄일 수 있을 것으로 기대하고 있다\")\n",
      "(\"SK하이닉스\", \"6세대 D램\", \"클라우드 서비스를 운영하는 글로벌 고객들이 SK하이닉스 6세대 D램을 데이터센터에 적용하면 전력 비용을 이전보다 최대 30%까지 줄일 수 있을 것으로 기대하고 있다\")\n",
      "(\"SK하이닉스\", \"HBM4E\", \"향후 7세대 고대역폭 메모리(HBM)인 HBM4E 등에 6세대 기술을 적용한다는 계획이다\")\n",
      "``` \n",
      "\n",
      "\n",
      "\n",
      "\n",
      "01:\n",
      "```\n",
      "(\"KISA\", \"세미나\", \"AI Security Day\")\n",
      "(\"KISA\", \"주제\", \"AI가 만든 사이버위협, AI가 막는 사이버위협\")\n",
      "(\"KISA\", \"방안 논의\", \"사이버 위협 대응 방안\")\n",
      "```\n",
      "\n",
      "02:\n",
      "```\n",
      "(\"화웨이\", \"신제품 출시\", \"3단 폴더블폰\")\n",
      "(\"화웨이\", \"공개\", \"9월10일 오후 2시30분\")\n",
      "(\"화웨이\", \"출시 일정\", \"애플 아이폰16 공개 당일\")\n",
      "(\"화웨이\", \"제품 출시\", \"삼성전자를 밀어냈다\")\n",
      "(\"화웨이\", \"중국 시장 점유율\", \"13%\")\n",
      "(\"애플\", \"아이폰\", \"9월 캘리포니아 쿠퍼티노 본사에서 가을 신제품 출시 콘퍼런스 개최\")\n",
      "(\"애플\", \"중국 시장 점유율\", \"14%\")\n",
      "(\"애플\", \"중국 시장 출하량\", \"약 970만대\")\n",
      "``` \n",
      "\n",
      "\n",
      "\n",
      "\n",
      "03:\n",
      "```\n",
      "(\"한국기계연구원\", \"개발\", \"모핑 휠\")\n",
      "(\"한국기계연구원\", \"실험\", \"투 휠 기반 휠체어\")\n",
      "(\"한국기계연구원\", \"표면장력 원리 모사\", \"모핑 휠\")\n",
      "(\"한국기계연구원\", \"장애물 극복\", \"바위와 계단 오르내리는 것\")\n",
      "``` \n",
      "\n",
      "\n",
      "04:\n",
      "```\n",
      "(\"애플\", \"메타렌즈 적용\", \"아이폰16 페이스 ID 카메라\")\n",
      "(\"애플\", \"AI 로봇 개발\", \"가정용 AI 로봇\")\n",
      "(\"애플\", \"성격 가진 로봇\", \"인공지능 (AI) 로봇\")\n",
      "(\"애플 링\", \"AI 비서 시리 연결\", \"특허\")\n",
      "(\"애플 링\", \"마이크와 스피커 적용\", \"말 인식 및 대답\")\n",
      "(\"애플 링\", \"독립적인 기기\", \"머리를 흔드는 것만으로 전화 수락/거절\")\n",
      "``` \n",
      "\n",
      "\n",
      "\n",
      "\n",
      "05:\n",
      "```\n",
      "(\"이정헌 넥슨 대표\", \"목적어\", \"2027년까지 매출 7500억엔 달성 목표\")\n",
      "(\"이정헌 넥슨 대표\", \"목적어\", \"영업이익 2500억엔(약 2조3000억원) 달성\")\n",
      "(\"넥슨\", \"전략\", \"종적 성장과 차세대 IP 육성을 통한 '횡적 확장'\")\n",
      "(\"넥슨\", \"목표\", \"7조 클럽 가입\")\n",
      "(\"넥슨\", \"전략\", \"라이브 오퍼레이션\")\n",
      "(\"넥슨\", \"IP\", \"다양한 신규 IP 창출\")\n",
      "``` \n",
      "\n",
      "\n",
      "\n",
      "\n",
      "06:\n",
      "```\n",
      "(\"연금술\", \"유행\", \"비금속을 인공적 수단을 통해 금 등의 귀금속으로 바꾸는\")\n",
      "(\"석영\", \"압전 전압\", \"지진이 석영에 가하는 '압전 전압'\")\n",
      "(\"석영\", \"압력\", \"지진이 석영에 가하는 '압전 전압'\")\n",
      "(\"금\", \"용해된 금\", \"액체에서 금이 침착(밑으로 가라앉아 들러붙음)\")\n",
      "(\"금\", \"형성\", \"지진이 석영에 가하는 '압전 전압'\")\n",
      "(\"금\", \"형성\", \"지진과 압력\")\n",
      "(\"금\", \"형성\", \"석영 광맥의 틈으로 침투한 뒤 지진이 일으키는 전기장과 만났을 때 금이 형성된다.\")\n",
      "(\"금\", \"형성\", \"대체로 큰 금덩어리가 지진 중 조산운동으로 형성되는 퇴적층에서 발견된다.\")\n",
      "(\"석영\", \"압전 광물\", \"석영은 압축되거나 늘리는 등 물리적인 스트레스를 받았을 때 전기장을 발생시키는 압전 광물이기도 하다.\")\n",
      "``` \n",
      "\n",
      "\n",
      "\n",
      "\n",
      "07:\n",
      "```\n",
      "(\"중국 반도체 장비 성장\", \"미국의 대중국 반도체 제재 때문\")\n",
      "(\"미국은 중국 반도체 성장을 견제하기 위해 자국 반도체 장비사들의 수출 제재뿐 아니라 동맹국에도 압박을 가하고 있다.\", \"동맹국 기업에 해외직접제품규칙(FDPR)을 적용하는 방식으로 제한을 가한다.\")\n",
      "(\"중국 반도체 장비 성장은 미국의 대중국 반도체 제재 때문이다\", \"미국은 중국 반도체 성장을 견제하기 위해 자국 반도체 장비사들의 수출 제재뿐 아니라 동맹국에도 압박을 가하고 있다.\")\n",
      "(\"나우라는 25억3200만 위안(약 4768억원)을 투자해 가장 규모가 컸다.\", \"중국 반도체 장비사 고객사는 자국 기업이 대부분이지만 내수 시장 규모는 더 커질 전망이다.\")\n",
      "``` \n",
      "\n",
      "\n",
      "\n",
      "\n",
      "08:\n",
      "```\n",
      "(\"삼성SDS\", \"GPU 비중 높인 AI 클라우드로 발전\", \"내달 美 진출\")\n",
      "(\"삼성SDS\", \"생성형 AI 서비스 활용\", \"패브릭스(FabriX)\")\n",
      "(\"삼성SDS\", \"생성형 AI 기반 협업솔루션\", \"브리티 코파일럿\")\n",
      "(\"삼성SDS\", \"내달 중 미국 시장에 패브릭스 출시\", \"MS 애저\")\n",
      "(\"삼성SDS\", \"퍼스널 에이전트 기능\", \"브리티 코파일럿\")\n",
      "(\"삼성SDS\", \"한국어 인식률\", \"언어 장벽 없음\")\n",
      "(\"삼성SDS\", \"한국 기업의 협력\", \"베트남 언어 추가\")\n",
      "``` \n",
      "\n",
      "\n",
      "09:\n",
      "## 지식 그래프:\n",
      "\n",
      "* **망원경:** ETH (0.87mm 파장), ALMA, APEX, IRAM 30m, NOEMA, GreenLanded 망원경\n",
      "* **관측 목적:** M87 은하 중앙 블랙홀(M87*) 해상도 높은 관측\n",
      "* **해상도:** 19 마이크로아크초 (예비 실험)\n",
      "* **목표 해상도:** 13 마이크로아크초 (전체 ETH 활용 가능성)\n",
      "\n",
      "\n",
      "\n",
      "\n"
     ]
    }
   ],
   "source": [
    "for i, d in enumerate(documents):\n",
    "    gen_triplet = rag_triplet.invoke({\"candidate\": d.page_content})\n",
    "    print(f\"{i:02}:\\n{gen_triplet}\\n\")"
   ]
  },
  {
   "cell_type": "code",
   "execution_count": 19,
   "id": "9a898eea-aa9b-480c-926b-2603cf745d96",
   "metadata": {
    "jupyter": {
     "source_hidden": true
    }
   },
   "outputs": [],
   "source": [
    "triplets = \"\"\"00:\n",
    "```\n",
    "(\"SK하이닉스\", \"개발\", \"10나노급 6세대 D램\")\n",
    "(\"SK하이닉스\", \"속도\", \"11% 빠르고 전력효율은 9% 이상 개선된다\")\n",
    "(\"SK하이닉스\", \"전력효율\", \"9% 이상 개선된다\")\n",
    "(\"SK하이닉스\", \"D램\", \"6세대 D램\")\n",
    "(\"SK하이닉스\", \"DDR5\", \"고성능 데이터센터 등에 쓰인다\")\n",
    "(\"SK하이닉스\", \"전력비용\", \"최대 30%까지 줄일 수 있을 것으로 기대하고 있다\")\n",
    "(\"SK하이닉스\", \"6세대 D램\", \"클라우드 서비스를 운영하는 글로벌 고객들이 SK하이닉스 6세대 D램을 데이터센터에 적용하면 전력 비용을 이전보다 최대 30%까지 줄일 수 있을 것으로 기대하고 있다\")\n",
    "(\"SK하이닉스\", \"HBM4E\", \"향후 7세대 고대역폭 메모리(HBM)인 HBM4E 등에 6세대 기술을 적용한다는 계획이다\")\n",
    "``` \n",
    "\n",
    "\n",
    "\n",
    "\n",
    "00:\n",
    "```\n",
    "(\"KISA\", \"세미나\", \"AI Security Day\")\n",
    "(\"KISA\", \"주제\", \"AI가 만든 사이버위협, AI가 막는 사이버위협\")\n",
    "(\"KISA\", \"방안 논의\", \"사이버 위협 대응 방안\")\n",
    "```\n",
    "\n",
    "00:\n",
    "```\n",
    "(\"화웨이\", \"신제품 출시\", \"3단 폴더블폰\")\n",
    "(\"화웨이\", \"공개\", \"9월10일 오후 2시30분\")\n",
    "(\"화웨이\", \"출시 일정\", \"애플 아이폰16 공개 당일\")\n",
    "(\"화웨이\", \"제품 출시\", \"삼성전자를 밀어냈다\")\n",
    "(\"화웨이\", \"중국 시장 점유율\", \"13%\")\n",
    "(\"애플\", \"아이폰\", \"9월 캘리포니아 쿠퍼티노 본사에서 가을 신제품 출시 콘퍼런스 개최\")\n",
    "(\"애플\", \"중국 시장 점유율\", \"14%\")\n",
    "(\"애플\", \"중국 시장 출하량\", \"약 970만대\")\n",
    "``` \n",
    "\n",
    "\n",
    "\n",
    "\n",
    "00:\n",
    "```\n",
    "(\"한국기계연구원\", \"개발\", \"모핑 휠\")\n",
    "(\"한국기계연구원\", \"실험\", \"투 휠 기반 휠체어\")\n",
    "(\"한국기계연구원\", \"표면장력 원리 모사\", \"모핑 휠\")\n",
    "(\"한국기계연구원\", \"장애물 극복\", \"바위와 계단 오르내리는 것\")\n",
    "``` \n",
    "\n",
    "\n",
    "00:\n",
    "```\n",
    "(\"애플\", \"메타렌즈 적용\", \"아이폰16 페이스 ID 카메라\")\n",
    "(\"애플\", \"AI 로봇 개발\", \"가정용 AI 로봇\")\n",
    "(\"애플\", \"성격 가진 로봇\", \"인공지능 (AI) 로봇\")\n",
    "(\"애플 링\", \"AI 비서 시리 연결\", \"특허\")\n",
    "(\"애플 링\", \"마이크와 스피커 적용\", \"말 인식 및 대답\")\n",
    "(\"애플 링\", \"독립적인 기기\", \"머리를 흔드는 것만으로 전화 수락/거절\")\n",
    "``` \n",
    "\n",
    "\n",
    "\n",
    "\n",
    "00:\n",
    "```\n",
    "(\"이정헌 넥슨 대표\", \"목적어\", \"2027년까지 매출 7500억엔 달성 목표\")\n",
    "(\"이정헌 넥슨 대표\", \"목적어\", \"영업이익 2500억엔(약 2조3000억원) 달성\")\n",
    "(\"넥슨\", \"전략\", \"종적 성장과 차세대 IP 육성을 통한 '횡적 확장'\")\n",
    "(\"넥슨\", \"목표\", \"7조 클럽 가입\")\n",
    "(\"넥슨\", \"전략\", \"라이브 오퍼레이션\")\n",
    "(\"넥슨\", \"IP\", \"다양한 신규 IP 창출\")\n",
    "``` \n",
    "\n",
    "\n",
    "\n",
    "\n",
    "00:\n",
    "```\n",
    "(\"연금술\", \"유행\", \"비금속을 인공적 수단을 통해 금 등의 귀금속으로 바꾸는\")\n",
    "(\"석영\", \"압전 전압\", \"지진이 석영에 가하는 '압전 전압'\")\n",
    "(\"석영\", \"압력\", \"지진이 석영에 가하는 '압전 전압'\")\n",
    "(\"금\", \"용해된 금\", \"액체에서 금이 침착(밑으로 가라앉아 들러붙음)\")\n",
    "(\"금\", \"형성\", \"지진이 석영에 가하는 '압전 전압'\")\n",
    "(\"금\", \"형성\", \"지진과 압력\")\n",
    "(\"금\", \"형성\", \"석영 광맥의 틈으로 침투한 뒤 지진이 일으키는 전기장과 만났을 때 금이 형성된다.\")\n",
    "(\"금\", \"형성\", \"대체로 큰 금덩어리가 지진 중 조산운동으로 형성되는 퇴적층에서 발견된다.\")\n",
    "(\"석영\", \"압전 광물\", \"석영은 압축되거나 늘리는 등 물리적인 스트레스를 받았을 때 전기장을 발생시키는 압전 광물이기도 하다.\")\n",
    "``` \n",
    "\n",
    "\n",
    "\n",
    "\n",
    "00:\n",
    "```\n",
    "(\"중국 반도체 장비 성장\", \"미국의 대중국 반도체 제재 때문\")\n",
    "(\"미국은 중국 반도체 성장을 견제하기 위해 자국 반도체 장비사들의 수출 제재뿐 아니라 동맹국에도 압박을 가하고 있다.\", \"동맹국 기업에 해외직접제품규칙(FDPR)을 적용하는 방식으로 제한을 가한다.\")\n",
    "(\"중국 반도체 장비 성장은 미국의 대중국 반도체 제재 때문이다\", \"미국은 중국 반도체 성장을 견제하기 위해 자국 반도체 장비사들의 수출 제재뿐 아니라 동맹국에도 압박을 가하고 있다.\")\n",
    "(\"나우라는 25억3200만 위안(약 4768억원)을 투자해 가장 규모가 컸다.\", \"중국 반도체 장비사 고객사는 자국 기업이 대부분이지만 내수 시장 규모는 더 커질 전망이다.\")\n",
    "``` \n",
    "\n",
    "\n",
    "\n",
    "\n",
    "00:\n",
    "```\n",
    "(\"삼성SDS\", \"GPU 비중 높인 AI 클라우드로 발전\", \"내달 美 진출\")\n",
    "(\"삼성SDS\", \"생성형 AI 서비스 활용\", \"패브릭스(FabriX)\")\n",
    "(\"삼성SDS\", \"생성형 AI 기반 협업솔루션\", \"브리티 코파일럿\")\n",
    "(\"삼성SDS\", \"내달 중 미국 시장에 패브릭스 출시\", \"MS 애저\")\n",
    "(\"삼성SDS\", \"퍼스널 에이전트 기능\", \"브리티 코파일럿\")\n",
    "(\"삼성SDS\", \"한국어 인식률\", \"언어 장벽 없음\")\n",
    "(\"삼성SDS\", \"한국 기업의 협력\", \"베트남 언어 추가\")\n",
    "``` \n",
    "\n",
    "\n",
    "00:\n",
    "## 지식 그래프:\n",
    "\n",
    "* **망원경:** ETH (0.87mm 파장), ALMA, APEX, IRAM 30m, NOEMA, GreenLanded 망원경\n",
    "* **관측 목적:** M87 은하 중앙 블랙홀(M87*) 해상도 높은 관측\n",
    "* **해상도:** 19 마이크로아크초 (예비 실험)\n",
    "* **목표 해상도:** 13 마이크로아크초 (전체 ETH 활용 가능성)\n",
    "\n",
    "\n",
    "\n",
    "\n",
    "\"\"\".split(\"00:\\n\")"
   ]
  },
  {
   "cell_type": "code",
   "execution_count": 20,
   "id": "e59eda69-c485-493a-b756-d9e5cab342db",
   "metadata": {},
   "outputs": [
    {
     "name": "stdout",
     "output_type": "stream",
     "text": [
      "```\n",
      "(\"애플\", \"카툭튀 현상 완화 기술\", \"무엇인가요?\")\n",
      "``` \n",
      "\n"
     ]
    }
   ],
   "source": [
    "gen_triplet_query = rag_triplet.invoke({\"candidate\": query})\n",
    "print(gen_triplet_query)"
   ]
  },
  {
   "cell_type": "markdown",
   "id": "e9dcf03f-2c9e-46bd-a5db-62ebe4aaae2a",
   "metadata": {
    "jp-MarkdownHeadingCollapsed": true
   },
   "source": [
    "### ... 문서 평가"
   ]
  },
  {
   "cell_type": "code",
   "execution_count": 12,
   "id": "77f0e7a4-9dd3-47ba-ad17-53c86ea62b4f",
   "metadata": {},
   "outputs": [],
   "source": [
    "template_retrieval = \"\"\"당신은 사용자의 질문과 관련된 참고문서를 평가하는 일을 합니다.\n",
    "    참고문서의 주어-서술어-목적어로 작성되어 있습니다.\n",
    "    참고문서에 사용자의 질문의 주어와 참고문서의 주어가 같고 관련된 키워드가 있다면, '예' 라고 평가해주세요.\n",
    "    참고문서에 사용자의 질문의 주어와 참고문서의 주어가 다르거나 관련된 키워드가 없다면 '아니오' 라고 평가해주세요.\n",
    "    특히 참고문서의 주어와 질문의 주어가 맞는지 주목해주세요.\n",
    "    \\n\\n\\n\n",
    "    참고문서: \\n\\n {document} \\n\\n\n",
    "    사용자의 질문: {question} \\n\\n\n",
    "    목표는 상관없는 문서를 거르는 것입니다. \\n\n",
    "    JSON 형식으로 'flag' 키에 '예', '아니오' 2가지 답을 주세요. 설명은 필요없습니다\"\"\""
   ]
  },
  {
   "cell_type": "code",
   "execution_count": 13,
   "id": "d08c6f78-8c3a-41ef-b720-523e038a4dd3",
   "metadata": {
    "scrolled": true
   },
   "outputs": [],
   "source": [
    "### Retrieval Grader\n",
    "prompt = PromptTemplate(\n",
    "    template=template_retrieval,\n",
    "    input_variables=[\"question\", \"document\"],\n",
    ")\n",
    "\n",
    "# LLM\n",
    "llm = ChatOllama(\n",
    "    # model=model_name,\n",
    "    model=\"gemma2:2b\",\n",
    "    format=\"json\",\n",
    "    temperature=temperature\n",
    "    # temperature=0.3\n",
    ")\n",
    "\n",
    "retrieval_grader = prompt | llm | JsonOutputParser()"
   ]
  },
  {
   "cell_type": "code",
   "execution_count": 132,
   "id": "26c12834-f629-407c-a7c9-97c38c347bb1",
   "metadata": {},
   "outputs": [
    {
     "name": "stdout",
     "output_type": "stream",
     "text": [
      "{'flag': '아니오'}\n"
     ]
    }
   ],
   "source": [
    "gen_grade = retrieval_grader.invoke({\"question\": query, \"document\": triplets[4]})\n",
    "print(gen_grade)"
   ]
  },
  {
   "cell_type": "code",
   "execution_count": 131,
   "id": "891d0d2d-1aaf-4b59-aad5-cc0a1f123f6b",
   "metadata": {},
   "outputs": [
    {
     "name": "stdout",
     "output_type": "stream",
     "text": [
      "{'flag': '예'}\n"
     ]
    }
   ],
   "source": [
    "gen_grade = retrieval_grader.invoke({\"question\": query, \"document\": triplets[5]})\n",
    "print(gen_grade)"
   ]
  },
  {
   "cell_type": "code",
   "execution_count": 125,
   "id": "9d751285-b5e7-405e-8fe1-fe83f03405d1",
   "metadata": {
    "scrolled": true
   },
   "outputs": [
    {
     "name": "stdout",
     "output_type": "stream",
     "text": [
      "0:\n",
      "{'flag': '아니오'}\n",
      "{'flag': '예'}\n",
      "\n",
      "1:\n",
      "{'flag': '아니오'}\n",
      "{'flag': '예'}\n",
      "\n",
      "2:\n",
      "{'flag': '아니오'}\n",
      "{'flag': '예'}\n",
      "\n"
     ]
    }
   ],
   "source": [
    "for i in range(3):\n",
    "    print(f\"{i}:\")\n",
    "    gen_grade = retrieval_grader.invoke({\"question\": query, \"document\": triplets[4]})\n",
    "    print(gen_grade)\n",
    "    gen_grade = retrieval_grader.invoke({\"question\": query, \"document\": triplets[5]})\n",
    "    print(gen_grade)\n",
    "    print()"
   ]
  },
  {
   "cell_type": "markdown",
   "id": "893657e8-4f56-40a7-8283-2ccc143a4a62",
   "metadata": {
    "jp-MarkdownHeadingCollapsed": true
   },
   "source": [
    "### ... 답변 생성"
   ]
  },
  {
   "cell_type": "code",
   "execution_count": 14,
   "id": "ca5e6d27-3815-41e0-8390-db21bb92e7ec",
   "metadata": {},
   "outputs": [],
   "source": [
    "template_generator = \"\"\"당신은 사용자의 질문에 답하는 일을 합니다.\n",
    "    참고문서와 키워드 요약문을 사용하여 질문에 답해주세요. \n",
    "    키워드 요약문은 주어, 서술어, 목적어 형태로 구성되어 있습니다.\n",
    "    최대 3문장으로 간단하게 답해주세요. \n",
    "    만약 당신이 답을 모른다면, 간단히 모른다고 답해주세요.\n",
    "    \\n\\n\\n\n",
    "    사용자의 질문는 여기에 있습니다: {question} \\n\n",
    "    참고문서는 여기에 있습니다: {context} \\n\n",
    "    키워드 요약문은 여기에 있습니다: {keyword} \\n\n",
    "    \\n\\n\\n\n",
    "    답:\"\"\""
   ]
  },
  {
   "cell_type": "code",
   "execution_count": 15,
   "id": "dbc298be-309c-4f4d-967d-f5965d65f5f5",
   "metadata": {},
   "outputs": [],
   "source": [
    "### Generate\n",
    "\n",
    "prompt = PromptTemplate(\n",
    "    template=template_generator,\n",
    "    input_variables=[\"context\", \"question\", \"keyword\"],\n",
    ")\n",
    "\n",
    "llm = ChatOllama(\n",
    "    model=\"gemma2:2b\",\n",
    "    # temperature=0.1\n",
    "    temperature=temperature\n",
    ")\n",
    "rag_chain = prompt | llm | StrOutputParser()"
   ]
  },
  {
   "cell_type": "code",
   "execution_count": 135,
   "id": "da8226f4-9992-4d6a-a343-92991d4889e0",
   "metadata": {
    "scrolled": true
   },
   "outputs": [
    {
     "name": "stdout",
     "output_type": "stream",
     "text": [
      "0 아이폰16 페이스 ID 카메라에 메타렌즈를 적용하여 '카툭튀' 현상을 완화하는 기술입니다. 애플은 성격 가진 AI 로봇 개발 중이며, 이로 인해 사용자의 필요에 맞는 서비스를 제공할 수 있도록 도와줄 것으로 예상됩니다.  애플 링에 마이크와 스피커를 적용하여 말 인식 및 대답 기술을 구현하는 데 활용될 예정입니다. \n",
      "\n"
     ]
    }
   ],
   "source": [
    "for i in range(1):\n",
    "    generation = rag_chain.invoke({\n",
    "        \"context\": documents[5],\n",
    "        \"keyword\": triplets[5],\n",
    "        \"question\": query})\n",
    "    print(i, generation)"
   ]
  },
  {
   "cell_type": "markdown",
   "id": "d7f6afe8-011a-4fee-a1c3-8965b765fccf",
   "metadata": {
    "jp-MarkdownHeadingCollapsed": true
   },
   "source": [
    "### ... 문서에 기반한 답변인가"
   ]
  },
  {
   "cell_type": "code",
   "execution_count": 16,
   "id": "c0cdb5a1-8488-4e6a-b895-31e35ee59889",
   "metadata": {},
   "outputs": [],
   "source": [
    "template_hallucination = \"\"\"당신은 사실에 기반된 답변인지 확인하는 일을 합니다. \\n \n",
    "    여기에 사실이 있습니다:\n",
    "    \\n ------- \\n\n",
    "    {documents} \n",
    "    \\n ------- \\n\n",
    "    여기에 답변이 있습니다: {generation}\n",
    "    사실에 기반한 답변이면, '예' 라고 평가해주세요. \\n\n",
    "    사실에 기반한 답변이 아니면 '아니오' 라고 평가해주세요. \\n\n",
    "    JSON 형식으로 'flag' 키에 '예', '아니오' 평가를 해주세요. \\n\n",
    "    설명은 필요없습니다.\"\"\""
   ]
  },
  {
   "cell_type": "code",
   "execution_count": 17,
   "id": "0772a01b-e898-4182-ab8d-433c1ef63390",
   "metadata": {},
   "outputs": [],
   "source": [
    "### Hallucination Grader\n",
    "\n",
    "# Prompt\n",
    "prompt = PromptTemplate(\n",
    "    template=template_hallucination,\n",
    "    input_variables=[\"generation\", \"documents\"],\n",
    ")\n",
    "\n",
    "# LLM\n",
    "llm = ChatOllama(\n",
    "    model=model_name,\n",
    "    format=\"json\",\n",
    "    temperature=temperature\n",
    ")\n",
    "hallucination_grader = prompt | llm | JsonOutputParser()"
   ]
  },
  {
   "cell_type": "code",
   "execution_count": 142,
   "id": "30e78951-9db2-496e-851e-c4189e99dda4",
   "metadata": {},
   "outputs": [
    {
     "data": {
      "text/plain": [
       "{'flag': '예'}"
      ]
     },
     "execution_count": 142,
     "metadata": {},
     "output_type": "execute_result"
    }
   ],
   "source": [
    "hallucination_grader.invoke({\n",
    "    \"documents\": documents[5].page_content,\n",
    "    \"generation\": generation\n",
    "})"
   ]
  },
  {
   "cell_type": "markdown",
   "id": "e46e3c15-2536-4d55-9582-49f32c9043db",
   "metadata": {
    "jp-MarkdownHeadingCollapsed": true
   },
   "source": [
    "### ... 질문에 적절한 답변인가"
   ]
  },
  {
   "cell_type": "code",
   "execution_count": 18,
   "id": "db005a9c-7151-4b7b-b7ab-dad5c9de0f9d",
   "metadata": {},
   "outputs": [],
   "source": [
    "template_verification = \"\"\"당신은 답변이 질문과 관련된 내용이 있는지 평가하는 일을 합니다. \\n\\n\n",
    "    여기에 사용자의 질문이 있습니다: {question} \\n\n",
    "    여기에 주어진 답변이 있습니다:\n",
    "    \\n ------- \\n\n",
    "    {generation} \n",
    "    \\n ------- \\n\n",
    "\n",
    "    질문과 관련된 내용이 답변에 있다면 '예' 라고 평가해주세요.\\n\n",
    "    질문과 관련된 내용이 답변에 없다면 '아니오' 라고 평가해주세요. \\n\n",
    "            \n",
    "    JSON 형식으로 'flag' 키에 '예', '아니오' 평가를 해주세요.\\n\n",
    "    설명은 필요없습니다.\"\"\""
   ]
  },
  {
   "cell_type": "code",
   "execution_count": 19,
   "id": "3fe68b0c-256d-423e-98ab-d7f56da26061",
   "metadata": {},
   "outputs": [],
   "source": [
    "### Answer Grader\n",
    "\n",
    "# Prompt\n",
    "prompt = PromptTemplate(\n",
    "    template=template_verification,\n",
    "    input_variables=[\"generation\", \"question\"],\n",
    ")\n",
    "\n",
    "# LLM\n",
    "llm = ChatOllama(\n",
    "    model=model_name,\n",
    "    format=\"json\",\n",
    "    temperature=temperature\n",
    ")\n",
    "answer_grader = prompt | llm | JsonOutputParser()"
   ]
  },
  {
   "cell_type": "code",
   "execution_count": 145,
   "id": "8285bdf6-92d0-42bb-bbef-7a550f40c25f",
   "metadata": {},
   "outputs": [
    {
     "name": "stdout",
     "output_type": "stream",
     "text": [
      "애플이 '카툭튀' 현상을 완화해주는 기술은 무엇인가요?\n",
      "아이폰16 페이스 ID 카메라에 메타렌즈를 적용하여 '카툭튀' 현상을 완화하는 기술입니다. 애플은 성격 가진 AI 로봇 개발 중이며, 이로 인해 사용자의 필요에 맞는 서비스를 제공할 수 있도록 도와줄 것으로 예상됩니다.  애플 링에 마이크와 스피커를 적용하여 말 인식 및 대답 기술을 구현하는 데 활용될 예정입니다. \n",
      "\n"
     ]
    }
   ],
   "source": [
    "print(query)\n",
    "print(generation)"
   ]
  },
  {
   "cell_type": "code",
   "execution_count": 153,
   "id": "81492716-e28e-47df-9216-6c0e116f5ecc",
   "metadata": {},
   "outputs": [
    {
     "data": {
      "text/plain": [
       "{'flag': '예'}"
      ]
     },
     "execution_count": 153,
     "metadata": {},
     "output_type": "execute_result"
    }
   ],
   "source": [
    "answer_grader.invoke({\"question\": query, \"generation\": generation})"
   ]
  },
  {
   "cell_type": "code",
   "execution_count": 308,
   "id": "0514a52a-29da-475f-bf03-fcba254bcd76",
   "metadata": {},
   "outputs": [
    {
     "data": {
      "text/plain": [
       "{'flag': '예'}"
      ]
     },
     "execution_count": 308,
     "metadata": {},
     "output_type": "execute_result"
    }
   ],
   "source": [
    "# 악마의 문장. 도대체 어찌 할 수가 없는 문장\n",
    "answer_grader.invoke({\"question\": query, \"generation\": \"SK하이닉스에서 어떤 D램을 개발했나요?\"})"
   ]
  },
  {
   "cell_type": "markdown",
   "id": "1eabaec5",
   "metadata": {},
   "source": [
    "## .. LangGraph"
   ]
  },
  {
   "cell_type": "code",
   "execution_count": 20,
   "id": "189edee7-e0cb-4d74-ab3b-16f5b9651d39",
   "metadata": {},
   "outputs": [],
   "source": [
    "class GraphState(TypedDict):\n",
    "    \"\"\"\n",
    "    Represents the state of our graph.\n",
    "\n",
    "    Attributes:\n",
    "        question: question\n",
    "        generation: LLM generation\n",
    "        documents: list of documents\n",
    "    \"\"\"\n",
    "\n",
    "    question: str\n",
    "    generation: str\n",
    "    documents: List[str]\n",
    "    triplets: List[str]"
   ]
  },
  {
   "cell_type": "markdown",
   "id": "8e5b9501-8166-4408-a278-4b6d4791e760",
   "metadata": {},
   "source": [
    "### ... Nodes"
   ]
  },
  {
   "cell_type": "markdown",
   "id": "ad765fe7-2070-4200-9e4b-1be5db355e96",
   "metadata": {},
   "source": [
    "#### A. 문서 검색"
   ]
  },
  {
   "cell_type": "code",
   "execution_count": 78,
   "id": "466d65c5-73b0-4d92-b15d-6ba38d885190",
   "metadata": {},
   "outputs": [],
   "source": [
    "def retrieve(state):\n",
    "    \"\"\"\n",
    "    Retrieve documents\n",
    "\n",
    "    Args:\n",
    "        state (dict): The current graph state\n",
    "\n",
    "    Returns:\n",
    "        state (dict): New key added to state, documents, that contains retrieved documents\n",
    "    \"\"\"\n",
    "    print(f\"\\n{'-----' * 15}\\n\")\n",
    "    print(\"\\n>>> A _ 문서 검색 <<<\\n\")\n",
    "    question = state[\"question\"]\n",
    "\n",
    "    # Retrieval\n",
    "    # documents = retriever.get_relevant_documents(question)\n",
    "    documents = retriever.invoke(question)\n",
    "    print(f\"\\t> Retrived Documents: {len(documents)}\")\n",
    "    for index, doc in enumerate(documents):\n",
    "        print(f\"\\t> Retrived Documents {index}: {doc.page_content[:200].replace('\\n',' ')}...\\n\\n\")\n",
    "    return {\"documents\": documents}"
   ]
  },
  {
   "cell_type": "code",
   "execution_count": 89,
   "id": "32f5c52b-3b53-4e29-a5ea-bba22489fd4b",
   "metadata": {
    "scrolled": true
   },
   "outputs": [
    {
     "name": "stdout",
     "output_type": "stream",
     "text": [
      "\n",
      "---------------------------------------------------------------------------\n",
      "\n",
      "\n",
      ">>> A _ 문서 검색 <<<\n",
      "\n",
      "\t> Retrived Documents: 10\n",
      "\t> Retrived Documents 0: SK하이닉스, ‘10나노급 6세대 D램’ 세계 첫 개발   속도 11%· 전력효율 9% 향상    SK하이닉스가 현존하는 D램 중 가장 미세화된 ‘10나노(㎚·1나노는 10억 분의 1m)급 6세대(1c)’ 기술을 세계 최초로 개발했다고 29일 밝혔다. 메모리 선폭을 의미하는 나노 수치가 작아질수록 처리 속도는 빨라지고, 소비전력은 줄어든다. 11∼12나노인...\n",
      "\n",
      "\n",
      "\t> Retrived Documents 1: KISA, AI Security Day 세미나…사이버 위협 대응 방안 논의   5일 용산 로얄파크컨벤션서 개최    ‘2024 AI Security Day’ 인공지능 보안 세미나 포스터. ⓒ한국인터넷진흥원[데일리안 = 김소희 기자] 한국인터넷진흥원(KISA)은 일상 속 인공지능(AI)과 관련된 다양한 사이버 위협 사례 공유 및 대응 방안을 논의하기 위한 ‘...\n",
      "\n",
      "\n",
      "\t> Retrived Documents 2: 아이폰16 출시일 맞춰 3단 폴더블폰 펼치는 中 화웨이   신제품 혈투…9월10일 잇달아 공개화웨이가 애플의 새로운 아이폰 시리즈 출시일에 맞춰 자사 신제품을 선보이기로 했다. 시장에서는 화웨이가 이날 세계 최초로 두 번 접는 3단 폴더블폰을 공개할 것으로 보고 있다.2일 중국 제일재경신문 등 현지 언론에 따르면 위청둥 화웨이 컨수머BG 최고경영자(CEO)...\n",
      "\n",
      "\n",
      "\t> Retrived Documents 3: ‘카툭튀’ 없는 렌즈부터 성격 가진 로봇까지… 애플이 내놓을 신기술은   아이폰16 페이스 ID 카메라에 ‘메타렌즈’ 적용설스스로 주행하며 이용자 돕는 가정용 로봇도 개발 중’시리’ 이용할 수 있는 스마트 반지 기술도 공개    아이폰 카메라에 여러 개의 굴절 렌즈가 적용돼 있는 모습./애플 제공        애플이 ‘카툭튀(카메라가 툭 튀어나온 부분)’ ...\n",
      "\n",
      "\n",
      "\t> Retrived Documents 4: “바위 넘고 계단 오르는 말랑한 바퀴”…세계 최초 개발   한국기계연구원, 표면장력 원리 모사한 ‘모핑 휠’ 개발장애물에 따라 실시간 바퀴 모양 변화이동체 적용 기술 개발도…휠체어 등 활용 가능    장애물의 높낮이에 따라 강성이 바뀌는 모핑 휠이 바위를 넘고 있다. 한국기계연구원 실시간으로 모양을 변화시켜 계단이나 바위 등 다양한 장애물을 극복할 수 있는...\n",
      "\n",
      "\n",
      "\t> Retrived Documents 5: 이정헌 넥슨 대표 \"2027년까지 매출 7500억엔 달성 목표\"   \"종적 성장과 횡적 확장 전략 통해 IP 프랜차이즈 다수 확보\"국내 게임업계에서 독보적인 1위 자리를 굳힌 넥슨이 오는 2027년까지 '7조 클럽' 가입을 목표로 제시했다.이정헌 넥슨 일본법인 대표는 3일 진행한 '제1회 캐피탈 마켓 브리핑 2024'에서 \"오는 2027년까지 매출 7500...\n",
      "\n",
      "\n",
      "\t> Retrived Documents 6: ‘금 나와라, 뚝딱!’ 현실로?…‘거대한 금덩어리’ 생성 과정 최초로 밝혀졌다[핵잼 사이언스]   \t\t\t[서울신문 나우뉴스]    자료사진 123rf.com근대 과학이 발달하기 이전, 이슬람부터 중세 유럽까지 세계 곳곳에서는 비금속을 인공적 수단을 통해 금 등의 귀금속으로 바꾸는 ‘연금술’이 유행했는데, 신비주의 성격이 강한 연금술과 연관된 흥미로운 연구결...\n",
      "\n",
      "\n",
      "\t> Retrived Documents 7: 中 반도체 자립 전략에 장비 산업 '쑥쑥'   \t\t\t중국이 미국 제재에 맞서 반도체 자립을 추진하면서 반도체 장비 산업이 빠르게 성장하는 것으로 나타났다.3일 중국 경제매체 커촹반일보 및 업계에 따르면 중국 A주(내국인 전용 주식)에 상장하면서 시가총액이 100억 위안을 넘은 반도체 장비 11개사의 상반기 실적을 분석한 결과, 63%에 이르는 7개사의 순이...\n",
      "\n",
      "\n",
      "\t> Retrived Documents 8: 삼성SDS \"GPU 비중 높인 AI 클라우드로 발전…내달 美 진출\"   리얼 서밋 2024 개최SCP, 패브릭스·브리티코파일럿 강조엔비디아·델·MS·워크데이와 협력 강화내달 패브릭스 美 진출다언어 미팅 솔루션 강점…국내외 점유율 확장 시동     황성우 삼성SDS 대표가 3일 서울 강남구 코엑스 오디토리움에서 열린 삼성SDS '리얼 서밋 2024'에서 기조...\n",
      "\n",
      "\n",
      "\t> Retrived Documents 9: [사이테크+] '사건의 지평선 망원경' 사상 최고 해상도로 M87* 블랙홀 관측   국제 연구팀 \"ETH에 0.87㎜ 파장 첫 적용…블랙홀 관측 사상 최고 해상도\" (서울=연합뉴스) 이주영 기자 = 전 세계 전파망원경들을 연결한 지구 크기 가상 망원경인 '사건의 지평선 망원경'(ETH)이 0.87㎜ 파장, 345㎓ 주파수로 M87 은하의 중앙 블랙홀(M87...\n",
      "\n",
      "\n"
     ]
    }
   ],
   "source": [
    "outputs_retrieve = retrieve(inputs)"
   ]
  },
  {
   "cell_type": "code",
   "execution_count": 93,
   "id": "f45c7da5-ffd3-4c3e-af41-506579e7e8a7",
   "metadata": {},
   "outputs": [],
   "source": [
    "outputs = {}"
   ]
  },
  {
   "cell_type": "code",
   "execution_count": 94,
   "id": "cd8161dc-6fbb-457f-a851-134e4b7884b2",
   "metadata": {},
   "outputs": [],
   "source": [
    "outputs[\"retrieve\"] = outputs_retrieve[\"documents\"]\n",
    "inputs[\"documents\"] = outputs_retrieve[\"documents\"][:5]"
   ]
  },
  {
   "cell_type": "markdown",
   "id": "803e0ef5-30a4-433a-bc98-b437933b918d",
   "metadata": {},
   "source": [
    "#### D. 삼중항 (triplet)"
   ]
  },
  {
   "cell_type": "code",
   "execution_count": 22,
   "id": "2582a868-bccb-4042-9353-1b502d62e9bd",
   "metadata": {},
   "outputs": [],
   "source": [
    "def make_triplet(state):\n",
    "    \"\"\"\n",
    "    Make documents into triplets\n",
    "\n",
    "    Args:\n",
    "        state (dict): The current graph state\n",
    "\n",
    "    Returns:\n",
    "        state (dict): triplet documents\n",
    "    \"\"\"\n",
    "    print(f\"\\n{'-----' * 15}\\n\")\n",
    "    print(\"\\n>>> D _ triplet <<<\\n\")\n",
    "    documents = state[\"documents\"]\n",
    "    triplets = []\n",
    "    for i, d in enumerate(documents):\n",
    "        gen_triplet = rag_triplet.invoke({\"candidate\": d.page_content})\n",
    "        triplets.append(gen_triplet)\n",
    "\n",
    "    return {\"triplets\": triplets}"
   ]
  },
  {
   "cell_type": "code",
   "execution_count": 95,
   "id": "5e0420dc-da58-424d-a674-e978dc548019",
   "metadata": {},
   "outputs": [
    {
     "name": "stdout",
     "output_type": "stream",
     "text": [
      "\n",
      "---------------------------------------------------------------------------\n",
      "\n",
      "\n",
      ">>> D _ triplet <<<\n",
      "\n"
     ]
    }
   ],
   "source": [
    "outputs_triplets = make_triplet(inputs)"
   ]
  },
  {
   "cell_type": "code",
   "execution_count": 96,
   "id": "b1263c85-2fd9-48e2-ace0-ff3dd8b709c7",
   "metadata": {},
   "outputs": [],
   "source": [
    "outputs[\"triplets\"] = outputs_triplets[\"triplets\"]\n",
    "inputs[\"triplets\"] = outputs_triplets[\"triplets\"]"
   ]
  },
  {
   "cell_type": "code",
   "execution_count": 97,
   "id": "ba5ec9e4-4af3-4c91-a9ca-0c60d6c48242",
   "metadata": {
    "scrolled": true
   },
   "outputs": [
    {
     "name": "stdout",
     "output_type": "stream",
     "text": [
      "```\n",
      "(\"SK하이닉스\", \"개발\", \"10나노급 6세대 D램\")\n",
      "(\"SK하이닉스\", \"속도\", \"11% 빠르고 전력효율은 9% 이상 개선된다\")\n",
      "(\"SK하이닉스\", \"전력효율\", \"9% 이상 개선된다\")\n",
      "(\"SK하이닉스\", \"D램\", \"6세대 D램\")\n",
      "(\"SK하이닉스\", \"DDR5\", \"고성능 데이터센터 등에 쓰인다\")\n",
      "(\"SK하이닉스\", \"전력비용\", \"최대 30%까지 줄일 수 있을 것으로 기대하고 있다\")\n",
      "(\"SK하이닉스\", \"6세대 D램\", \"클라우드 서비스를 운영하는 글로벌 고객들이 적용하면 전력 비용을 이전보다 최대 30%까지 줄일 수 있을 것으로 기대하고 있다\")\n",
      "``` \n",
      "\n",
      "\n",
      "\n",
      "```\n",
      "(\"KISA\", \"세미나\", \"AI Security Day\")\n",
      "(\"KISA\", \"주제\", \"AI가 만든 사이버위협, AI가 막는 사이버위협\")\n",
      "(\"KISA\", \"방안 논의\", \"사이버 위협 대응 방안\")\n",
      "```\n",
      "```\n",
      "(\"화웨이\", \"신제품 출시\", \"3단 폴더블폰\")\n",
      "(\"화웨이\", \"공개\", \"9월10일 오후 2시30분\")\n",
      "(\"화웨이\", \"출시 일정\", \"애플 아이폰16 공개 당일\")\n",
      "(\"화웨이\", \"제품 출시\", \"삼성전자를 밀어냈다\")\n",
      "(\"화웨이\", \"중국 시장 점유율\", \"13% (2분기)\")\n",
      "(\"애플\", \"아이폰\", \"9월 캘리포니아 쿠퍼티노 본사에서 가을 신제품 출시 콘퍼런스 개최\")\n",
      "(\"애플\", \"중국 시장 점유율\", \"14% (2분기) - 전년 동기 대비 쪼그라들면서 순위가 3위에서 6위로 내려앉게 됐다\")\n",
      "``` \n",
      "\n",
      "\n",
      "\n",
      "```\n",
      "(\"애플\", \"메타렌즈 적용\", \"아이폰16 프로 페이스 ID 카메라\")\n",
      "(\"애플\", \"AI 로봇 개발\", \"가정용 AI 로봇\")\n",
      "(\"애플\", \"AI 비서 시리\", \"인간과 비슷한 성격\")\n",
      "(\"애플 링\", \"AI 비서 시리 연결\", \"특허\")\n",
      "(\"애플 링\", \"마이크와 스피커\", \"이용자의 말 인식 및 대답\") \n",
      "``` \n",
      "\n",
      "\n",
      "\n",
      "```\n",
      "(\"한국기계연구원\", \"개발\", \"모핑 휠\")\n",
      "(\"한국기계연구원\", \"실시간 바퀴 모양 변화\", \"장애물 오르내리기\")\n",
      "(\"한국기계연구원\", \"모듈화 시스템\", \"다양한 이동체 적용\")\n",
      "(\"한국기계연구원\", \"표면장력 원리\", \"강성 변화\")\n",
      "(\"한국기계연구원\", \"실시간 바퀴 모양 변화\", \"휠체어 극복\")\n",
      "(\"한국기계연구원\", \"모핑 휠\", \"투 휠 기반 휠체어\")\n",
      "``` \n",
      "\n",
      "\n",
      "\n"
     ]
    }
   ],
   "source": [
    "for t in inputs[\"triplets\"]:\n",
    "    print(t)"
   ]
  },
  {
   "cell_type": "markdown",
   "id": "b9c2d376-cda8-4adf-ae06-3cf085cd9734",
   "metadata": {},
   "source": [
    "#### B. 문서 평가"
   ]
  },
  {
   "cell_type": "code",
   "execution_count": 52,
   "id": "4c22db00-c160-4157-b649-b079371695d6",
   "metadata": {},
   "outputs": [],
   "source": [
    "def grade_documents(state):\n",
    "    \"\"\"\n",
    "    Determines whether the retrieved documents are relevant to the question.\n",
    "\n",
    "    Args:\n",
    "        state (dict): The current graph state\n",
    "\n",
    "    Returns:\n",
    "        state (dict): Updates documents key with only filtered relevant documents\n",
    "    \"\"\"\n",
    "\n",
    "    print(f\"\\n{'-----' * 15}\\n\")\n",
    "    print(\">>> B _ 문서 평가: 질문과 관련이 있는지 확인 <<<\\n\")\n",
    "    question = state[\"question\"]\n",
    "    triplets = state[\"triplets\"]\n",
    "    documents = state[\"documents\"]\n",
    "\n",
    "    # Score each doc\n",
    "    filtered_docs = []\n",
    "    filtered_triplets = []\n",
    "    for index, t in enumerate(triplets):\n",
    "        print(f\"\\t> 문서 {index} ... 확인중\")\n",
    "        \n",
    "        for i in range(3):\n",
    "            \n",
    "            flag = retrieval_grader.invoke(\n",
    "                {\"question\": question, \"document\": t}\n",
    "            )\n",
    "            print(f\"\\t...Flag: {flag}\")\n",
    "            \n",
    "            try:\n",
    "                grade = flag[\"flag\"]\n",
    "                break\n",
    "                \n",
    "            except:\n",
    "                print(f\"\\t...RETRY - {i+1}\")\n",
    "        \n",
    "        if grade == \"예\":\n",
    "            print(\"\\t...관련있음\\n\")\n",
    "            print(f\"\\t...{t}\\n\")\n",
    "            filtered_triplets.append(t)\n",
    "            filtered_docs.append(documents[index])\n",
    "            \n",
    "        else:\n",
    "            print(\"\\t...관련없음\\n\")\n",
    "            continue\n",
    "    \n",
    "    return {\n",
    "        \"documents\": filtered_docs,\n",
    "        \"triplets\": filtered_triplets\n",
    "    }"
   ]
  },
  {
   "cell_type": "code",
   "execution_count": 98,
   "id": "cb5a272e-beb2-4b8b-bfb8-2d42a6266e29",
   "metadata": {
    "scrolled": true
   },
   "outputs": [
    {
     "name": "stdout",
     "output_type": "stream",
     "text": [
      "\n",
      "---------------------------------------------------------------------------\n",
      "\n",
      ">>> B _ 문서 평가: 질문과 관련이 있는지 확인 <<<\n",
      "\n",
      "\t> 문서 0 ... 확인중\n",
      "\t...Flag: {'flag': '아니오'}\n",
      "\t...관련없음\n",
      "\n",
      "\t> 문서 1 ... 확인중\n",
      "\t...Flag: {'flag': '아니오'}\n",
      "\t...관련없음\n",
      "\n",
      "\t> 문서 2 ... 확인중\n",
      "\t...Flag: {'flag': '아니오'}\n",
      "\t...관련없음\n",
      "\n",
      "\t> 문서 3 ... 확인중\n",
      "\t...Flag: {'flag': '예'}\n",
      "\t...관련있음\n",
      "\n",
      "\t...```\n",
      "(\"애플\", \"메타렌즈 적용\", \"아이폰16 프로 페이스 ID 카메라\")\n",
      "(\"애플\", \"AI 로봇 개발\", \"가정용 AI 로봇\")\n",
      "(\"애플\", \"AI 비서 시리\", \"인간과 비슷한 성격\")\n",
      "(\"애플 링\", \"AI 비서 시리 연결\", \"특허\")\n",
      "(\"애플 링\", \"마이크와 스피커\", \"이용자의 말 인식 및 대답\") \n",
      "``` \n",
      "\n",
      "\n",
      "\n",
      "\n",
      "\t> 문서 4 ... 확인중\n",
      "\t...Flag: {'flag': '아니오'}\n",
      "\t...관련없음\n",
      "\n"
     ]
    }
   ],
   "source": [
    "outputs_grade_doc = grade_documents(inputs)"
   ]
  },
  {
   "cell_type": "code",
   "execution_count": 99,
   "id": "3ca14502-0e3a-4a84-9b98-32f97bdbd323",
   "metadata": {},
   "outputs": [],
   "source": [
    "outputs[\"filtered_triplets\"] = outputs_grade_doc[\"triplets\"]\n",
    "outputs[\"filtered_documents\"] = outputs_grade_doc[\"documents\"]\n",
    "\n",
    "inputs[\"triplets\"] = outputs_grade_doc[\"triplets\"]\n",
    "inputs[\"documents\"] = outputs_grade_doc[\"documents\"]"
   ]
  },
  {
   "cell_type": "code",
   "execution_count": 100,
   "id": "cc5ad4bf-413d-4418-9841-180823522b20",
   "metadata": {},
   "outputs": [
    {
     "name": "stdout",
     "output_type": "stream",
     "text": [
      "```\n",
      "(\"애플\", \"메타렌즈 적용\", \"아이폰16 프로 페이스 ID 카메라\")\n",
      "(\"애플\", \"AI 로봇 개발\", \"가정용 AI 로봇\")\n",
      "(\"애플\", \"AI 비서 시리\", \"인간과 비슷한 성격\")\n",
      "(\"애플 링\", \"AI 비서 시리 연결\", \"특허\")\n",
      "(\"애플 링\", \"마이크와 스피커\", \"이용자의 말 인식 및 대답\") \n",
      "``` \n",
      "\n",
      "\n",
      "\n"
     ]
    }
   ],
   "source": [
    "for t in outputs[\"filtered_triplets\"]:\n",
    "    print(t)"
   ]
  },
  {
   "cell_type": "code",
   "execution_count": 101,
   "id": "c5ca70af-a1be-436a-b5be-b05c2cb798c5",
   "metadata": {},
   "outputs": [],
   "source": [
    "outputs[\"question\"] = inputs[\"question\"]"
   ]
  },
  {
   "cell_type": "markdown",
   "id": "48f06f6b-2c68-4688-9490-27b6450dd2f7",
   "metadata": {},
   "source": [
    "#### C. 답변 생성"
   ]
  },
  {
   "cell_type": "code",
   "execution_count": 68,
   "id": "5e8b0ed9-a86d-4fd7-9798-d9020e4bf373",
   "metadata": {},
   "outputs": [],
   "source": [
    "def generate(state):\n",
    "    \"\"\"\n",
    "    Generate answer\n",
    "\n",
    "    Args:\n",
    "        state (dict): The current graph state\n",
    "\n",
    "    Returns:\n",
    "        state (dict): New key added to state, generation, that contains LLM generation\n",
    "    \"\"\"\n",
    "    print(f\"\\n{'-----' * 15}\\n\")\n",
    "    print(\"\\n>>> C _ 답변 생성 <<<\\n\")\n",
    "    question = state[\"question\"]\n",
    "    documents = state[\"documents\"]\n",
    "    triplets = state[\"triplets\"]\n",
    "\n",
    "    # RAG generation\n",
    "    generation = rag_chain.invoke({\"context\": documents, \"question\": question, \"keyword\": triplets})\n",
    "    print(f\"\\t> Generation: {generation}\")\n",
    "    return {\"generation\": generation}"
   ]
  },
  {
   "cell_type": "code",
   "execution_count": 103,
   "id": "29bfdbeb-fa55-49d9-b2dd-981a89f470d4",
   "metadata": {},
   "outputs": [
    {
     "name": "stdout",
     "output_type": "stream",
     "text": [
      "\n",
      "---------------------------------------------------------------------------\n",
      "\n",
      "\n",
      ">>> C _ 답변 생성 <<<\n",
      "\n",
      "\t> Generation: 애플은 아이폰16 프로 페이스 ID 카메라에 메타렌즈를 적용하여 '카툭튀' 현상 완화를 목표로 하고 있습니다. 또한, 애플은 가정용 AI 로봇을 개발하고 있으며 이 로봇은 사람처럼 성격을 가진 AI 시리와 연동되어 사용자의 요청을 처리할 수 있습니다.  애플 링에 마이크와 스피커를 적용하여 이용자의 말을 인식하고 대답하는 기술도 개발 중입니다. \n",
      "\n"
     ]
    }
   ],
   "source": [
    "outputs_generate = generate(inputs)"
   ]
  },
  {
   "cell_type": "code",
   "execution_count": 104,
   "id": "60ff1bca-8e56-4be5-94a3-42c949e08cdc",
   "metadata": {},
   "outputs": [],
   "source": [
    "outputs[\"generation\"] = outputs_generate[\"generation\"]\n",
    "inputs[\"generation\"] = outputs_generate[\"generation\"]"
   ]
  },
  {
   "cell_type": "markdown",
   "id": "85780e5e-5562-41c5-ab07-3b8ac5e3feb6",
   "metadata": {},
   "source": [
    "### ... Edges"
   ]
  },
  {
   "cell_type": "markdown",
   "id": "deb25ac2-4812-4f80-aa02-1849a5f78395",
   "metadata": {},
   "source": [
    "#### 답변 평가"
   ]
  },
  {
   "cell_type": "code",
   "execution_count": 25,
   "id": "eb44eb15-f0ea-4ce6-bb7d-cb1ae8f8b6e9",
   "metadata": {},
   "outputs": [],
   "source": [
    "def grade_generation_v_documents_and_question(state):\n",
    "    \"\"\"\n",
    "    Determines whether the generation is grounded in the document and answers question.\n",
    "\n",
    "    Args:\n",
    "        state (dict): The current graph state\n",
    "\n",
    "    Returns:\n",
    "        str: Decision for next node to call\n",
    "    \"\"\"\n",
    "\n",
    "    print(f\"\\n{'-----' * 15}\\n\")\n",
    "    print(\">>> 조건: 사실에 기반된 답변인지 확인 <<<\\n\")\n",
    "    question = state[\"question\"]\n",
    "    documents = state[\"documents\"]\n",
    "    generation = state[\"generation\"]\n",
    "\n",
    "    flag = hallucination_grader.invoke(\n",
    "        {\"documents\": documents, \"generation\": generation}\n",
    "    )\n",
    "    print(f\"\\t...flag: {flag}\")\n",
    "\n",
    "    try:\n",
    "        grade = flag[\"flag\"]\n",
    "\n",
    "        # Check hallucination\n",
    "        if grade == \"예\":\n",
    "            print(\"\\t...생성된 답변이 문서에 기반한 사실임.\")\n",
    "            # Check question-answering\n",
    "    \n",
    "            flag = answer_grader.invoke({\"question\": question, \"generation\": generation})\n",
    "            print(f\"\\t...확인 결과: {flag}\")\n",
    "        \n",
    "            grade = flag[\"flag\"]\n",
    "            if grade == \"예\":\n",
    "                print(\"\\t...답변이 적절함.\")\n",
    "                return \"적절함\"\n",
    "            else:\n",
    "                print(\"\\t...답변이 비적절함.\")\n",
    "                return \"비적절함\"\n",
    "        else:\n",
    "            print(\"\\t...생성된 답변이 문서에 기반된 사실이 아님. 다시 시도.\")\n",
    "            return \"비적절함\"\n",
    "    except:\n",
    "        return \"비적절함\""
   ]
  },
  {
   "cell_type": "code",
   "execution_count": 105,
   "id": "79511c74-5a69-45e8-b1a6-74022be91fe4",
   "metadata": {},
   "outputs": [
    {
     "name": "stdout",
     "output_type": "stream",
     "text": [
      "\n",
      "---------------------------------------------------------------------------\n",
      "\n",
      ">>> 조건: 사실에 기반된 답변인지 확인 <<<\n",
      "\n",
      "\t...flag: {'flag': '예'}\n",
      "\t...생성된 답변이 문서에 기반한 사실임.\n",
      "\t...확인 결과: {'flag': '예'}\n",
      "\t...답변이 적절함.\n"
     ]
    }
   ],
   "source": [
    "outputs_grade_generation = grade_generation_v_documents_and_question(inputs)"
   ]
  },
  {
   "cell_type": "markdown",
   "id": "9037c7a3-26c9-4081-8932-99a84ca98d01",
   "metadata": {},
   "source": [
    "## .. Build Graph"
   ]
  },
  {
   "cell_type": "code",
   "execution_count": 106,
   "id": "eac039b4-9225-4aef-a6c1-8ecd02b47b48",
   "metadata": {},
   "outputs": [],
   "source": [
    "A = \"A _ 검색\"\n",
    "B = \"B _ 문서 평가\"\n",
    "C = \"C _ 생성\"\n",
    "D = \"D _ 삼중항\""
   ]
  },
  {
   "cell_type": "code",
   "execution_count": 131,
   "id": "5ecc1e32-8cf4-4181-8b11-28e7cf7a9efa",
   "metadata": {},
   "outputs": [],
   "source": [
    "workflow = StateGraph(GraphState)\n",
    "\n",
    "# Define the nodes\n",
    "workflow.add_node(A, retrieve)  # retrieve\n",
    "workflow.add_node(B, grade_documents)  # grade documents\n",
    "workflow.add_node(C, generate)  # generatae\n",
    "workflow.add_node(D, make_triplet)  # make triplets"
   ]
  },
  {
   "cell_type": "code",
   "execution_count": 132,
   "id": "8d4085e1-7114-4706-a89c-861cfdf7cf1d",
   "metadata": {},
   "outputs": [],
   "source": [
    "# Build graph\n",
    "workflow.add_edge(START, A)\n",
    "workflow.add_edge(A, D)\n",
    "workflow.add_edge(D, B)\n",
    "workflow.add_edge(B, C)\n",
    "\n",
    "# workflow.add_edge(C, END)\n",
    "workflow.add_conditional_edges(\n",
    "    C,\n",
    "    grade_generation_v_documents_and_question,\n",
    "    {\n",
    "        \"비적절함\": C,\n",
    "        \"적절함\": END,\n",
    "    },\n",
    ")\n",
    "\n",
    "# Compile\n",
    "app = workflow.compile()"
   ]
  },
  {
   "cell_type": "code",
   "execution_count": 133,
   "id": "87cc3ec0-d34c-4057-a8de-84bcb437a5cd",
   "metadata": {},
   "outputs": [
    {
     "data": {
      "image/jpeg": "[encoded data removed]",
      "text/plain": [
       "<IPython.core.display.Image object>"
      ]
     },
     "metadata": {},
     "output_type": "display_data"
    }
   ],
   "source": [
    "from IPython.display import Image, display\n",
    "\n",
    "try:\n",
    "    display(\n",
    "        Image(app.get_graph(xray=True).draw_mermaid_png())\n",
    "    )  # 실행 가능한 객체의 그래프를 mermaid 형식의 PNG로 그려서 표시합니다. xray=True는 추가적인 세부 정보를 포함합니다.\n",
    "except:\n",
    "    # 이 부분은 추가적인 의존성이 필요하며 선택적으로 실행됩니다.\n",
    "    pass"
   ]
  },
  {
   "cell_type": "markdown",
   "id": "251c7560-9303-4632-82d6-90042a6cf9ca",
   "metadata": {},
   "source": [
    "## .. 실행"
   ]
  },
  {
   "cell_type": "code",
   "execution_count": 88,
   "id": "33ca8adb-832f-4576-a78e-a42956ca8a00",
   "metadata": {},
   "outputs": [
    {
     "name": "stdout",
     "output_type": "stream",
     "text": [
      "애플이 '카툭튀' 현상을 완화해주는 기술은 무엇인가요?\n"
     ]
    }
   ],
   "source": [
    "# query = \"사상 최고 해상도로 관측한 블랙홀의 이름은 무엇입니까?\"\n",
    "# query = \"SK하이닉스가 최근 개발한 것은 무엇입니까?\"\n",
    "\n",
    "print(query)\n",
    "\n",
    "# Run\n",
    "inputs = {\n",
    "    \"question\": query,\n",
    "    # \"documents\": documents[2:5],\n",
    "}"
   ]
  },
  {
   "cell_type": "code",
   "execution_count": null,
   "id": "338c9aec-b0e7-4380-be56-621494dec11d",
   "metadata": {
    "scrolled": true
   },
   "outputs": [],
   "source": [
    "import time\n",
    "\n",
    "start_time = time.time()\n",
    "node_time = start_time\n",
    "\n",
    "for output in app.stream(inputs):\n",
    "    for key, value in output.items():\n",
    "        current_time = time.time()\n",
    "        elapsed_time = current_time - node_time\n",
    "        node_time = current_time\n",
    "        print(f\"노드 '{key}' 완료. ({elapsed_time:.3f}s)\")\n",
    "    print(f\"\\n{'=====' * 15}\\n\")\n",
    "\n",
    "end_time = time.time()\n",
    "elapsed_time = end_time - start_time\n",
    "print(f\"{elapsed_time / 60:.3f} min\")"
   ]
  },
  {
   "cell_type": "code",
   "execution_count": 307,
   "id": "c380aadd-cfb3-487f-94c7-5ba736a0fa7d",
   "metadata": {},
   "outputs": [
    {
     "name": "stdout",
     "output_type": "stream",
     "text": [
      "SK하이닉스는 '10나노급 6세대 D램' 세계 첫 개발을 통해 '11%· 전력효율 9%'의 기술을 세계 최초로 개발하였습니다.\n"
     ]
    }
   ],
   "source": [
    "print(f\"{value['generation']}\")"
   ]
  },
  {
   "cell_type": "code",
   "execution_count": 134,
   "id": "23463804-1c6f-4b22-b51f-106a8c4f33ab",
   "metadata": {},
   "outputs": [
    {
     "name": "stdout",
     "output_type": "stream",
     "text": [
      "8.035 min\n"
     ]
    }
   ],
   "source": [
    "print(f\"{elapsed_time / 60:.3f} min\")"
   ]
  },
  {
   "cell_type": "code",
   "execution_count": null,
   "id": "5123fd16-c035-475e-8da5-f0a51f239f8e",
   "metadata": {},
   "outputs": [],
   "source": []
  },
  {
   "cell_type": "markdown",
   "id": "9ee993d4-e25f-48ed-8f0e-d75bbab4da9a",
   "metadata": {},
   "source": [
    "# End"
   ]
  },
  {
   "cell_type": "code",
   "execution_count": null,
   "id": "3b655074-7056-44eb-a556-01649d82f07e",
   "metadata": {},
   "outputs": [],
   "source": []
  },
  {
   "cell_type": "code",
   "execution_count": null,
   "id": "0624022f-e69a-40e2-93b6-caa00a5ede53",
   "metadata": {},
   "outputs": [],
   "source": []
  },
  {
   "cell_type": "code",
   "execution_count": null,
   "id": "8a077f41-c09d-4326-b1c8-8fe23c3fc9e0",
   "metadata": {},
   "outputs": [],
   "source": []
  },
  {
   "cell_type": "code",
   "execution_count": null,
   "id": "02838bba-6b34-4402-b7d0-c82ff78010b6",
   "metadata": {},
   "outputs": [],
   "source": []
  },
  {
   "cell_type": "code",
   "execution_count": null,
   "id": "c5119c1c-0f1a-4596-b548-0035a5b3879d",
   "metadata": {},
   "outputs": [],
   "source": []
  }
 ],
 "metadata": {
  "kernelspec": {
   "display_name": "Python 3 (ipykernel)",
   "language": "python",
   "name": "python3"
  },
  "language_info": {
   "codemirror_mode": {
    "name": "ipython",
    "version": 3
   },
   "file_extension": ".py",
   "mimetype": "text/x-python",
   "name": "python",
   "nbconvert_exporter": "python",
   "pygments_lexer": "ipython3",
   "version": "3.12.4"
  }
 },
 "nbformat": 4,
 "nbformat_minor": 5
}
