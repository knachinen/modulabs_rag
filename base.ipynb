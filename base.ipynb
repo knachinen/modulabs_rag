{
 "cells": [
  {
   "cell_type": "code",
   "execution_count": 1,
   "id": "064d5c8c",
   "metadata": {},
   "outputs": [
    {
     "data": {
      "text/plain": [
       "True"
      ]
     },
     "execution_count": 1,
     "metadata": {},
     "output_type": "execute_result"
    }
   ],
   "source": [
    "# api key\n",
    "from dotenv import load_dotenv\n",
    "\n",
    "load_dotenv()"
   ]
  },
  {
   "cell_type": "code",
   "execution_count": 2,
   "id": "562b0043",
   "metadata": {},
   "outputs": [],
   "source": [
    "import os\n",
    "\n",
    "# 디버깅을 위한 프로젝트명을 기입합니다.\n",
    "os.environ[\"LANGCHAIN_PROJECT\"] = \"RAG Base\"\n",
    "\n",
    "# tracing 을 위해서는 아래 코드의 주석을 해제하고 실행합니다.\n",
    "os.environ[\"LANGCHAIN_TRACING_V2\"] = 'true'"
   ]
  },
  {
   "cell_type": "markdown",
   "id": "a06b0614-a6b6-403c-af26-9cc614ab4c96",
   "metadata": {},
   "source": [
    "## document retriever"
   ]
  },
  {
   "cell_type": "code",
   "execution_count": 122,
   "id": "c17731bb-2645-41a3-94c4-e7dcc8936740",
   "metadata": {},
   "outputs": [],
   "source": [
    "from tqdm.notebook import tqdm\n",
    "\n",
    "import pprint\n",
    "import bs4\n",
    "\n",
    "from langchain import hub\n",
    "from langchain_core.runnables import RunnablePassthrough\n",
    "from langchain_core.output_parsers import StrOutputParser\n",
    "from langchain_core.prompts import ChatPromptTemplate\n",
    "from langchain_core.runnables import RunnableConfig\n",
    "from langchain_core.output_parsers import JsonOutputParser\n",
    "from langchain_community.vectorstores import FAISS\n",
    "from langchain_community.document_loaders import WebBaseLoader\n",
    "from langchain_community.tools.tavily_search import TavilySearchResults\n",
    "from langchain_ollama import OllamaEmbeddings\n",
    "from langchain_ollama import ChatOllama\n",
    "from langchain_text_splitters import RecursiveCharacterTextSplitter\n",
    "from langchain.document_loaders import PyPDFLoader\n",
    "from langgraph.graph import StateGraph, START, END\n",
    "from langgraph.checkpoint.memory import MemorySaver\n",
    "from langgraph.errors import GraphRecursionError\n",
    "from langchain.prompts import PromptTemplate\n",
    "\n",
    "from typing import List\n",
    "from typing_extensions import TypedDict\n",
    "\n",
    "from abc import ABC, abstractmethod\n",
    "from operator import itemgetter"
   ]
  },
  {
   "cell_type": "code",
   "execution_count": null,
   "id": "3e615327-63e9-4a24-9f3a-2ae1e002b64a",
   "metadata": {},
   "outputs": [],
   "source": [
    "# from rag.utils import format_docs, format_searched_docs"
   ]
  },
  {
   "cell_type": "code",
   "execution_count": 270,
   "id": "df9813a4-a375-43d1-abdc-3f8238e07fdf",
   "metadata": {},
   "outputs": [],
   "source": [
    "model_name=\"gemma2:2b\"\n",
    "embd = OllamaEmbeddings(model=model_name)\n",
    "llm = ChatOllama(model=model_name, temperature=0)"
   ]
  },
  {
   "cell_type": "code",
   "execution_count": 271,
   "id": "2159b45c-5ef0-48b1-a68c-e9dacd2e1940",
   "metadata": {},
   "outputs": [],
   "source": [
    "doc_path = \"data/Retrieval-augmented generation - Wikipedia.pdf\"\n",
    "loader = PyPDFLoader(doc_path)\n",
    "docs = loader.load()"
   ]
  },
  {
   "cell_type": "code",
   "execution_count": 274,
   "id": "75e95c0d-00b2-464e-8615-451739738ef8",
   "metadata": {},
   "outputs": [],
   "source": [
    "text_splitter = RecursiveCharacterTextSplitter(chunk_size=1000, chunk_overlap=100)\n",
    "splits = text_splitter.split_documents(docs)"
   ]
  },
  {
   "cell_type": "code",
   "execution_count": 275,
   "id": "3338cb62-0f90-4bb9-ad88-234d58b507c0",
   "metadata": {},
   "outputs": [
    {
     "data": {
      "application/vnd.jupyter.widget-view+json": {
       "model_id": "cbf152e8e02c4b5f8aba603de1f30dce",
       "version_major": 2,
       "version_minor": 0
      },
      "text/plain": [
       "  0%|          | 0/13 [00:00<?, ?it/s]"
      ]
     },
     "metadata": {},
     "output_type": "display_data"
    }
   ],
   "source": [
    "vectorstore = None\n",
    "for d in tqdm(splits):\n",
    "    if vectorstore:\n",
    "        vectorstore.add_documents([d])\n",
    "    else:\n",
    "        vectorstore = FAISS.from_documents(\n",
    "            documents=[d], \n",
    "            embedding=embd\n",
    "        )"
   ]
  },
  {
   "cell_type": "code",
   "execution_count": 276,
   "id": "45680bb4-ffab-455d-924d-11d52f57e406",
   "metadata": {},
   "outputs": [
    {
     "data": {
      "text/plain": [
       "'Retrieval-augmented_generation_-_Wikipedia'"
      ]
     },
     "execution_count": 276,
     "metadata": {},
     "output_type": "execute_result"
    }
   ],
   "source": [
    "doc_name = doc_path.split('data/')[-1].split('.pdf')[0].replace(' ', '_')\n",
    "doc_name"
   ]
  },
  {
   "cell_type": "code",
   "execution_count": 277,
   "id": "56ad9e4e-5b0f-45f9-84a5-aacb37650cbc",
   "metadata": {},
   "outputs": [
    {
     "data": {
      "text/plain": [
       "'data/faiss_gemma2-2b_Retrieval-augmented_generation_-_Wikipedia'"
      ]
     },
     "execution_count": 277,
     "metadata": {},
     "output_type": "execute_result"
    }
   ],
   "source": [
    "faiss_path = f\"data/faiss_{model_name.replace(':','-')}_{doc_name}\"\n",
    "faiss_path"
   ]
  },
  {
   "cell_type": "code",
   "execution_count": 279,
   "id": "0bc1738d-dc1d-415b-95ce-309346af6246",
   "metadata": {},
   "outputs": [],
   "source": [
    "vectorstore.save_local(faiss_path)"
   ]
  },
  {
   "cell_type": "code",
   "execution_count": 280,
   "id": "599ffeac-1839-430c-9992-ca6c132ddd09",
   "metadata": {},
   "outputs": [],
   "source": [
    "vectorstore = FAISS.load_local(faiss_path, embd, allow_dangerous_deserialization=True)"
   ]
  },
  {
   "cell_type": "code",
   "execution_count": 281,
   "id": "e7564292-2c89-4281-a475-7347d38ba3f1",
   "metadata": {},
   "outputs": [],
   "source": [
    "retriever = vectorstore.as_retriever(\n",
    "    search_type=\"mmr\", search_kwargs={\"k\": 5}\n",
    ")"
   ]
  },
  {
   "cell_type": "markdown",
   "id": "484f5be2-092b-4032-8995-0a9a96797e6c",
   "metadata": {},
   "source": [
    "## LLMs"
   ]
  },
  {
   "cell_type": "code",
   "execution_count": 282,
   "id": "65584ff1-850d-40f2-9765-95f2a349b449",
   "metadata": {},
   "outputs": [
    {
     "data": {
      "text/plain": [
       "'RAG stands for Retrieval-Augmented Generation, which combines external documents with user input to generate tailored outputs using Large Language Models (LLMs).  The process involves retrieving relevant documents using a retriever, then feeding this information into an LLM prompt for further processing and output generation. \\n'"
      ]
     },
     "execution_count": 282,
     "metadata": {},
     "output_type": "execute_result"
    }
   ],
   "source": [
    "prompt = hub.pull(\"rlm/rag-prompt\")\n",
    "\n",
    "def format_docs(docs):\n",
    "    # 검색한 문서 결과를 하나의 문단으로 합쳐줍니다.\n",
    "    return \"\\n\\n\".join(doc.page_content for doc in docs)\n",
    "\n",
    "# 체인을 생성합니다.\n",
    "rag_chain = (\n",
    "    {\"context\": retriever | format_docs, \"question\": RunnablePassthrough()}\n",
    "    | prompt\n",
    "    | llm\n",
    "    | StrOutputParser()\n",
    ")\n",
    "\n",
    "rag_chain.invoke(\"What is RAG process?\")"
   ]
  },
  {
   "cell_type": "markdown",
   "id": "e9dcf03f-2c9e-46bd-a5db-62ebe4aaae2a",
   "metadata": {},
   "source": [
    "### A: Retrieval Grader"
   ]
  },
  {
   "cell_type": "code",
   "execution_count": 283,
   "id": "6c6f2223-ef4c-48a8-bc41-a08ce9a5fa7e",
   "metadata": {},
   "outputs": [
    {
     "name": "stdout",
     "output_type": "stream",
     "text": [
      "{'flag': 'yes'}\n"
     ]
    }
   ],
   "source": [
    "### Retrieval Grader\n",
    "\n",
    "# LLM\n",
    "llm = ChatOllama(model=model_name, format=\"json\", temperature=0)\n",
    "\n",
    "prompt = PromptTemplate(\n",
    "    template=\"\"\"You are a grader assessing relevance of a retrieved document to a user question. \\n \n",
    "    Here is the retrieved document: \\n\\n {document} \\n\\n\n",
    "    Here is the user question: {question} \\n\n",
    "    If the document contains keywords related to the user question, grade it as relevant. \\n\n",
    "    It does not need to be a stringent test. The goal is to filter out erroneous retrievals. \\n\n",
    "    Give a binary flag 'yes' or 'no' score to indicate whether the document is relevant to the question. \\n\n",
    "    Provide the binary flag as a JSON with a single key 'flag' and no premable or explanation.\"\"\",\n",
    "    input_variables=[\"question\", \"document\"],\n",
    ")\n",
    "\n",
    "retrieval_grader = prompt | llm | JsonOutputParser()\n",
    "docs = retriever.get_relevant_documents(question)\n",
    "doc_txt = docs[1].page_content\n",
    "print(retrieval_grader.invoke({\"question\": question, \"document\": doc_txt}))"
   ]
  },
  {
   "cell_type": "code",
   "execution_count": 304,
   "id": "95c9bd81-94ab-449d-9822-4559b2a8cc3c",
   "metadata": {
    "scrolled": true
   },
   "outputs": [
    {
     "data": {
      "text/plain": [
       "[Document(metadata={'source': 'data/Retrieval-augmented generation - Wikipedia.pdf', 'page': 0}, page_content='a generation phase. [1]\\nedit\\nThe data t o be r eferenced must fir st be conv erted int o LLM , numerical\\nrepresentations in the for m of large vectors. RAG can be used on unstructur ed (usually t ext),\\nsemi-structur ed, or structur ed data (for example ). These embeddings ar e\\nthen st ored in a  to allow for .embeddings\\nknowledge graphs [1]\\nvector datab ase document r etrieval\\nOverview of RAG process, combining external documents and user input into an LLM prompt to get\\ntailored output\\nedit\\nGiven a user quer y, a document r etriever is fir st called t o select the most r elevant documents\\nwhich will be used t o augment the quer y. This comp arison can be done using a v ariety o f\\nmethods, which depend in p art on the type o f indexing used.[3]\\n[1]'),\n",
       " Document(metadata={'source': 'data/Retrieval-augmented generation - Wikipedia.pdf', 'page': 4}, page_content='RLHF\\nSelf-supervised learning\\nTransformer\\nVariational autoencoder\\nVision transformer\\nWord embedding\\nClaude\\nGemini\\nGPT-2\\nGPT-3\\nGPT-4\\nLLaMA\\nImagesDALL-E\\nMidjourney\\nStable Diffusion\\nVideosSora'),\n",
       " Document(metadata={'source': 'data/Retrieval-augmented generation - Wikipedia.pdf', 'page': 3}, page_content='Jump up t o: ab\"What is RA G? - R etrieval-Augment ed Generation AI Explained - A WS\"\\nJump up t o: ab\"Next-Gen Lar ge Language Models: The R etrieval-Augment ed\\nGeneration (RA G) Handbook\"\\n^\\n\"Retrieval-Augment ed Generation for Knowledge-Int ensive NLP T asks\"\\narXiv2005.11401\\n^\"faiss\" GitHub\\n^ \"\"ColBER T: Efficient and Effectiv e Passage Sear ch\\nvia Cont extualized Lat e Interaction ov er BER T\"\"\\n^\\n\"\"SPLADE v2: Sp arse Lexical and Exp ansion Model for Infor mation R etrieval\"\"\\n^ \"\"Latent Retrieval for W eakly\\nSuper vised Open Domain Question Answ ering\"\"'),\n",
       " Document(metadata={'source': 'data/Retrieval-augmented generation - Wikipedia.pdf', 'page': 3}, page_content='Fixed length with ov erlap. This is fast and easy . Overlapping consecutiv e chunks help t o\\nmaintain semantic cont ext acr oss chunks.\\nSyntax b ased chunks can br eak document up by sent ences. Libraries such as sp aCy or\\nNLTK can also help.\\nFile for mat b ased chunking. Cer tain file types hav e natural chunks built in and it\\' s best t o\\nrespect them. For example, code files ar e best chunk ed and v ectorized as whole functions\\nor classes. HTML files should leav e <table> or b ase64 encoded <img> elements intact.\\nSimilar considerations should be tak en for pdf files. Libraries such as Unstructur ed or\\nLangchain can assist with this method.\\nChallenges\\n[]\\nReferences\\n[]\\n1. ^       Gao, Y unfan; Xiong, Y un; Gao, Xinyu; Jia, Kangxiang; P an, Jinliu; Bi,\\nYuxi; Dai, Yi; Sun, Jiaw ei; Wang, Meng; W ang, Hao fen (2023). \"R etrieval-Augment ed\\nGeneration for Lar ge Language Models: A Sur vey\". :  [ ].\\n2. ^   .\\nAmazon W eb Ser vices, Inc . Retrieved 16 July  2024.\\n3. ^'),\n",
       " Document(metadata={'source': 'data/Retrieval-augmented generation - Wikipedia.pdf', 'page': 2}, page_content='so. The mor e reproducible v ersion is called R etro++ and includes in-cont ext RA G.[13]\\nedit\\nConverting domain data int o vectors should be done thoughtfully . It is naiv e to conv ert an\\nentire document int o a single v ector and expect the r etriever to find details in that document\\nin response t o a quer y. There are various strat egies on how t o break up the data. This is\\ncalled Chunking.\\nThree types o f chunking strat egies ar e:')]"
      ]
     },
     "execution_count": 304,
     "metadata": {},
     "output_type": "execute_result"
    }
   ],
   "source": [
    "retriever.get_relevant_documents(\"What is Self-RAG?\")"
   ]
  },
  {
   "cell_type": "code",
   "execution_count": 284,
   "id": "e7b9f0ec-13f5-4ab8-a5b6-980b6018a7fb",
   "metadata": {
    "scrolled": true
   },
   "outputs": [
    {
     "name": "stdout",
     "output_type": "stream",
     "text": [
      "so. The mor e reproducible v ersion is called R etro++ and includes in-cont ext RA G.[13]\n",
      "edit\n",
      "Converting domain data int o vectors should be done thoughtfully . It is naiv e to conv ert an\n",
      "entire document int o a single v ector and expect the r etriever to find details in that document\n",
      "in response t o a quer y. There are various strat egies on how t o break up the data. This is\n",
      "called Chunking.\n",
      "Three types o f chunking strat egies ar e:\n",
      "\n",
      "Jump up t o: ab\"What is RA G? - R etrieval-Augment ed Generation AI Explained - A WS\"\n",
      "Jump up t o: ab\"Next-Gen Lar ge Language Models: The R etrieval-Augment ed\n",
      "Generation (RA G) Handbook\"\n",
      "^\n",
      "\"Retrieval-Augment ed Generation for Knowledge-Int ensive NLP T asks\"\n",
      "arXiv2005.11401\n",
      "^\"faiss\" GitHub\n",
      "^ \"\"ColBER T: Efficient and Effectiv e Passage Sear ch\n",
      "via Cont extualized Lat e Interaction ov er BER T\"\"\n",
      "^\n",
      "\"\"SPLADE v2: Sp arse Lexical and Exp ansion Model for Infor mation R etrieval\"\"\n",
      "^ \"\"Latent Retrieval for W eakly\n",
      "Super vised Open Domain Question Answ ering\"\"\n",
      "\n",
      "a generation phase. [1]\n",
      "edit\n",
      "The data t o be r eferenced must fir st be conv erted int o LLM , numerical\n",
      "representations in the for m of large vectors. RAG can be used on unstructur ed (usually t ext),\n",
      "semi-structur ed, or structur ed data (for example ). These embeddings ar e\n",
      "then st ored in a  to allow for .embeddings\n",
      "knowledge graphs [1]\n",
      "vector datab ase document r etrieval\n",
      "Overview of RAG process, combining external documents and user input into an LLM prompt to get\n",
      "tailored output\n",
      "edit\n",
      "Given a user quer y, a document r etriever is fir st called t o select the most r elevant documents\n",
      "which will be used t o augment the quer y. This comp arison can be done using a v ariety o f\n",
      "methods, which depend in p art on the type o f indexing used.[3]\n",
      "[1]\n",
      "\n",
      "Fixed length with ov erlap. This is fast and easy . Overlapping consecutiv e chunks help t o\n",
      "maintain semantic cont ext acr oss chunks.\n",
      "Syntax b ased chunks can br eak document up by sent ences. Libraries such as sp aCy or\n",
      "NLTK can also help.\n",
      "File for mat b ased chunking. Cer tain file types hav e natural chunks built in and it' s best t o\n",
      "respect them. For example, code files ar e best chunk ed and v ectorized as whole functions\n",
      "or classes. HTML files should leav e <table> or b ase64 encoded <img> elements intact.\n",
      "Similar considerations should be tak en for pdf files. Libraries such as Unstructur ed or\n",
      "Langchain can assist with this method.\n",
      "Challenges\n",
      "[]\n",
      "References\n",
      "[]\n",
      "1. ^       Gao, Y unfan; Xiong, Y un; Gao, Xinyu; Jia, Kangxiang; P an, Jinliu; Bi,\n",
      "Yuxi; Dai, Yi; Sun, Jiaw ei; Wang, Meng; W ang, Hao fen (2023). \"R etrieval-Augment ed\n",
      "Generation for Lar ge Language Models: A Sur vey\". :  [ ].\n",
      "2. ^   .\n",
      "Amazon W eb Ser vices, Inc . Retrieved 16 July  2024.\n",
      "3. ^\n",
      "\n",
      "[]\n",
      "Generation\n",
      "[]\n",
      "Improvements\n",
      "[]\n",
      "Encoder\n",
      "[]\n",
      "Performance can be impr oved with fast er dot pr oducts, appr oximate near est neighor s, or\n",
      "centroid sear ches.\n",
      "Accuracy can be impr oved with Lat e Interactions. [ ]\n",
      "Hybrid v ectors: dense v ector representations can be combined with sp arse  vectors\n",
      "in order to use the fast er sparse dot pr oducts rather than the slow er dense ones.\n",
      "Other [ ] methods can combine sp arse methods (BM25, SPL ADE) with dense\n",
      "ones lik e DRA GON.\n",
      "Retriever-centr ic methods\n",
      "[]edit\n",
      "The model feeds this r elevant retrieved infor mation int o the LLM via  of\n",
      "the user' s original quer y. Newer implementations (as o f 2023 ) can also incorporat e\n",
      "specific augmentation modules with abilities such as exp anding queries int o multiple\n",
      "domains, and using memor y and self -improvement t o learn from pr evious r etrievals.prompt engineering\n",
      "[2] [updat e]\n",
      "[1]\n",
      "edit\n",
      "Finally , the LLM can generat e output b ased on both the quer y and the r etrieved documents.\n",
      "\n"
     ]
    }
   ],
   "source": [
    "retrieved_docs = retriever.get_relevant_documents(question)\n",
    "\n",
    "for item in retrieved_docs:\n",
    "    print(f\"{item.page_content}\\n\")"
   ]
  },
  {
   "cell_type": "markdown",
   "id": "893657e8-4f56-40a7-8283-2ccc143a4a62",
   "metadata": {},
   "source": [
    "### Generate"
   ]
  },
  {
   "cell_type": "code",
   "execution_count": 285,
   "id": "b4908779-766b-4712-bcb7-a4a539e48ed6",
   "metadata": {},
   "outputs": [
    {
     "name": "stdout",
     "output_type": "stream",
     "text": [
      "RAG (Retrieval-Augmented Generation) is a process that combines external documents with user input to generate tailored outputs using Large Language Models (LLMs).  It involves retrieving relevant documents using a retriever, then feeding this information into an LLM prompt for further processing.  The output is generated based on both the query and the retrieved document content. \n",
      "\n"
     ]
    }
   ],
   "source": [
    "### Generate\n",
    "\n",
    "prompt = hub.pull(\"rlm/rag-prompt\")\n",
    "llm = ChatOllama(model=model_name, temperature=0)\n",
    "\n",
    "def format_docs(docs):\n",
    "    return \"\\n\\n\".join(doc.page_content for doc in docs)\n",
    "\n",
    "rag_chain = prompt | llm | StrOutputParser()\n",
    "generation = rag_chain.invoke({\"context\": docs, \"question\": question})\n",
    "print(generation)"
   ]
  },
  {
   "cell_type": "markdown",
   "id": "d7f6afe8-011a-4fee-a1c3-8965b765fccf",
   "metadata": {},
   "source": [
    "### Hallucination Grader"
   ]
  },
  {
   "cell_type": "code",
   "execution_count": 286,
   "id": "28df9d5f-34e7-46d2-9057-913c5ae7f412",
   "metadata": {},
   "outputs": [
    {
     "data": {
      "text/plain": [
       "{'flag': 'yes'}"
      ]
     },
     "execution_count": 286,
     "metadata": {},
     "output_type": "execute_result"
    }
   ],
   "source": [
    "### Hallucination Grader\n",
    "\n",
    "# LLM\n",
    "llm = ChatOllama(model=model_name, format=\"json\", temperature=0)\n",
    "\n",
    "# Prompt\n",
    "prompt = PromptTemplate(\n",
    "    template=\"\"\"You are a grader assessing whether an answer is grounded in / supported by a set of facts. \\n \n",
    "    Here are the facts:\n",
    "    \\n ------- \\n\n",
    "    {documents} \n",
    "    \\n ------- \\n\n",
    "    Here is the answer: {generation}\n",
    "    Give a binary flag 'yes' or 'no' to indicate whether the answer is grounded in / supported by a set of facts. \\n\n",
    "    Provide the binary flag as a JSON with a single key 'flag' and no preamble or explanation.\"\"\",\n",
    "    input_variables=[\"generation\", \"documents\"],\n",
    ")\n",
    "\n",
    "hallucination_grader = prompt | llm | JsonOutputParser()\n",
    "hallucination_grader.invoke({\"documents\": docs, \"generation\": generation})"
   ]
  },
  {
   "cell_type": "markdown",
   "id": "d77f69f9-9652-49e3-9548-3ffc0dc34ae4",
   "metadata": {},
   "source": [
    "### Answer Grader"
   ]
  },
  {
   "cell_type": "code",
   "execution_count": 287,
   "id": "787853e6-2d83-49df-8423-226a911d9906",
   "metadata": {},
   "outputs": [
    {
     "data": {
      "text/plain": [
       "{'flag': 'yes'}"
      ]
     },
     "execution_count": 287,
     "metadata": {},
     "output_type": "execute_result"
    }
   ],
   "source": [
    "### Answer Grader\n",
    "\n",
    "# LLM\n",
    "llm = ChatOllama(model=model_name, format=\"json\", temperature=0)\n",
    "\n",
    "# Prompt\n",
    "prompt = PromptTemplate(\n",
    "    template=\"\"\"You are a grader assessing whether an answer is useful to resolve a question. \\n \n",
    "    Here is the answer:\n",
    "    \\n ------- \\n\n",
    "    {generation} \n",
    "    \\n ------- \\n\n",
    "    Here is the question: {question}\n",
    "    Give a binary flag 'yes' or 'no' to indicate whether the answer is useful to resolve a question. \\n\n",
    "    Provide the binary flag as a JSON with a single key 'flag' and no preamble or explanation.\"\"\",\n",
    "    input_variables=[\"generation\", \"question\"],\n",
    ")\n",
    "\n",
    "answer_grader = prompt | llm | JsonOutputParser()\n",
    "answer_grader.invoke({\"question\": question, \"generation\": generation})"
   ]
  },
  {
   "cell_type": "markdown",
   "id": "6f4f05a1-0fd4-4671-a310-e9855155e23f",
   "metadata": {},
   "source": [
    "### Question Re-writer"
   ]
  },
  {
   "cell_type": "code",
   "execution_count": 288,
   "id": "fa30c004-4962-478a-8797-79a2267647a6",
   "metadata": {},
   "outputs": [
    {
     "data": {
      "text/plain": [
       "'**Improved Question:**\\n\\nHow does the Recursive Attention-based Graph (RAG) model work? \\n\\n\\n**Explanation of Improvements:**\\n\\n* **Specificity:**  The improved question focuses on the core functionality of RAG, specifically \"how it works.\" This is more relevant for vectorstore retrieval than a general definition.\\n* **Keywords:** The use of terms like \"Recursive Attention\" and \"Graph\" helps to ensure that the search query aligns with the specific data structure and processing techniques used in RAG models. \\n* **Clarity:**  The question is concise and easy to understand, making it more likely to be accurately interpreted by a vectorstore system.\\n\\n\\n**Why this works for Vectorstore Retrieval:**\\n\\nVectorstores are designed to efficiently store and retrieve information based on semantic similarity.  A well-structured query that includes relevant keywords helps the vectorstore system:\\n\\n* **Identify similar documents:** The improved question uses terms that are likely to be present in the document vectors associated with RAG models.\\n* **Match user intent:** By focusing on the \"how it works\" aspect, the query aims to understand the underlying process of RAG, which is crucial for retrieving relevant information. \\n\\n\\nLet me know if you\\'d like to explore other ways to improve your questions! \\n'"
      ]
     },
     "execution_count": 288,
     "metadata": {},
     "output_type": "execute_result"
    }
   ],
   "source": [
    "### Question Re-writer\n",
    "\n",
    "# LLM\n",
    "llm = ChatOllama(model=model_name, temperature=0)\n",
    "\n",
    "# Prompt\n",
    "re_write_prompt = PromptTemplate(\n",
    "    template=\"\"\"You a question re-writer that converts an input question to a better version that is optimized \\n \n",
    "     for vectorstore retrieval. Look at the initial and formulate an improved question. \\n\n",
    "     Here is the initial question: \\n\\n {question}. Improved question with no preamble: \\n \"\"\",\n",
    "    input_variables=[\"generation\", \"question\"],\n",
    ")\n",
    "\n",
    "question_rewriter = re_write_prompt | llm | StrOutputParser()\n",
    "question_rewriter.invoke({\"question\": question})"
   ]
  },
  {
   "cell_type": "markdown",
   "id": "1eabaec5",
   "metadata": {},
   "source": [
    "## LangGraph"
   ]
  },
  {
   "cell_type": "code",
   "execution_count": 320,
   "id": "189edee7-e0cb-4d74-ab3b-16f5b9651d39",
   "metadata": {},
   "outputs": [],
   "source": [
    "class GraphState(TypedDict):\n",
    "    \"\"\"\n",
    "    Represents the state of our graph.\n",
    "\n",
    "    Attributes:\n",
    "        question: question\n",
    "        generation: LLM generation\n",
    "        documents: list of documents\n",
    "    \"\"\"\n",
    "\n",
    "    question: str\n",
    "    generation: str\n",
    "    documents: List[str]\n",
    "    retriever: FAISS"
   ]
  },
  {
   "cell_type": "markdown",
   "id": "8e5b9501-8166-4408-a278-4b6d4791e760",
   "metadata": {},
   "source": [
    "### Nodes"
   ]
  },
  {
   "cell_type": "code",
   "execution_count": 321,
   "id": "466d65c5-73b0-4d92-b15d-6ba38d885190",
   "metadata": {},
   "outputs": [],
   "source": [
    "def retrieve(state):\n",
    "    \"\"\"\n",
    "    Retrieve documents\n",
    "\n",
    "    Args:\n",
    "        state (dict): The current graph state\n",
    "\n",
    "    Returns:\n",
    "        state (dict): New key added to state, documents, that contains retrieved documents\n",
    "    \"\"\"\n",
    "    print(\"\\n>>> A _ RETRIEVE <<<\\n\")\n",
    "    question = state[\"question\"]\n",
    "    retriever = state[\"retriever\"]\n",
    "\n",
    "    # Retrieval\n",
    "    documents = retriever.get_relevant_documents(question)\n",
    "    print(f\"\\t> Retrived Documents: {len(documents)}\")\n",
    "    return {\"documents\": documents, \"question\": question}"
   ]
  },
  {
   "cell_type": "code",
   "execution_count": 291,
   "id": "5e8b0ed9-a86d-4fd7-9798-d9020e4bf373",
   "metadata": {},
   "outputs": [],
   "source": [
    "def generate(state):\n",
    "    \"\"\"\n",
    "    Generate answer\n",
    "\n",
    "    Args:\n",
    "        state (dict): The current graph state\n",
    "\n",
    "    Returns:\n",
    "        state (dict): New key added to state, generation, that contains LLM generation\n",
    "    \"\"\"\n",
    "    print(\"\\n>>> C _ GENERATE <<<\\n\")\n",
    "    question = state[\"question\"]\n",
    "    documents = state[\"documents\"]\n",
    "\n",
    "    # RAG generation\n",
    "    generation = rag_chain.invoke({\"context\": documents, \"question\": question})\n",
    "    print(f\"\\t> Generation: {generation}\")\n",
    "    return {\"documents\": documents, \"question\": question, \"generation\": generation}"
   ]
  },
  {
   "cell_type": "code",
   "execution_count": 292,
   "id": "4c22db00-c160-4157-b649-b079371695d6",
   "metadata": {},
   "outputs": [],
   "source": [
    "def grade_documents(state):\n",
    "    \"\"\"\n",
    "    Determines whether the retrieved documents are relevant to the question.\n",
    "\n",
    "    Args:\n",
    "        state (dict): The current graph state\n",
    "\n",
    "    Returns:\n",
    "        state (dict): Updates documents key with only filtered relevant documents\n",
    "    \"\"\"\n",
    "\n",
    "    print(f\"\\n{'-----' * 10}\\n\")\n",
    "    print(\"\\n>>> B _ GRADE DOCUMENT: CHECK DOCUMENT RELEVANCE TO QUESTION <<<\\n\")\n",
    "    question = state[\"question\"]\n",
    "    documents = state[\"documents\"]\n",
    "\n",
    "    # Score each doc\n",
    "    filtered_docs = []\n",
    "    for index, d in enumerate(documents):\n",
    "        print(f\"\\t> CHECK DOCUMENT {index}\")\n",
    "        \n",
    "        for i in range(3):\n",
    "            \n",
    "            flag = retrieval_grader.invoke(\n",
    "                {\"question\": question, \"document\": d.page_content}\n",
    "            )\n",
    "            print(f\"\\t...Flag: {flag}\")\n",
    "            \n",
    "            try:\n",
    "                grade = flag[\"flag\"]\n",
    "                break\n",
    "                \n",
    "            except:\n",
    "                print(f\"\\t...RETRY - {i+1}\")\n",
    "        \n",
    "        if grade == \"yes\":\n",
    "            print(\"\\t...DOCUMENT RELEVANT\\n\")\n",
    "            filtered_docs.append(d)\n",
    "            \n",
    "        else:\n",
    "            print(\"\\t...DOCUMENT NOT RELEVANT\\n\")\n",
    "            continue\n",
    "    \n",
    "    return {\"documents\": filtered_docs, \"question\": question}"
   ]
  },
  {
   "cell_type": "code",
   "execution_count": 293,
   "id": "dbe4a546-5f90-4fb1-927c-a960e73216ac",
   "metadata": {},
   "outputs": [],
   "source": [
    "def transform_query(state):\n",
    "    \"\"\"\n",
    "    Transform the query to produce a better question.\n",
    "\n",
    "    Args:\n",
    "        state (dict): The current graph state\n",
    "\n",
    "    Returns:\n",
    "        state (dict): Updates question key with a re-phrased question\n",
    "    \"\"\"\n",
    "\n",
    "    print(f\"\\n{'-----' * 10}\\n\")\n",
    "    print(\"\\n>>> D _ TRANSFORM QUERY <<<\\n\")\n",
    "    question = state[\"question\"]\n",
    "    documents = state[\"documents\"]\n",
    "\n",
    "    # Re-write question\n",
    "    better_question = question_rewriter.invoke({\"question\": question})\n",
    "    print(f\"\\t> Better Question: {better_question}\")\n",
    "    return {\"documents\": documents, \"question\": better_question}"
   ]
  },
  {
   "cell_type": "code",
   "execution_count": 322,
   "id": "39e8f10f-213f-4e2f-98d7-59c1444677c9",
   "metadata": {},
   "outputs": [],
   "source": [
    "def websearch(state):\n",
    "\n",
    "    web_path = \"https://en.wikipedia.org/wiki/Black-throated_loon\"\n",
    "    file_path = web_path.split('https://')[-1].replace('.','-').replace('/','_')\n",
    "    \n",
    "    loader = WebBaseLoader(\n",
    "        web_paths=(web_path,),\n",
    "        bs_kwargs=dict(\n",
    "            parse_only=bs4.SoupStrainer(\n",
    "                \"div\",\n",
    "                attrs={\"class\": [\"mw-content-ltr mw-parser-output\"]},\n",
    "            )\n",
    "        ),\n",
    "    )\n",
    "    docs = loader.load()\n",
    "    # print(f\"문서의 수: {len(docs)}\")\n",
    "\n",
    "    text_splitter = RecursiveCharacterTextSplitter(chunk_size=1000, chunk_overlap=100)\n",
    "    splits = text_splitter.split_documents(docs)\n",
    "\n",
    "    vectorstore = None\n",
    "    for d in tqdm(splits):\n",
    "        if vectorstore:\n",
    "            vectorstore.add_documents([d])\n",
    "        else:\n",
    "            vectorstore = FAISS.from_documents(\n",
    "                documents=[d], \n",
    "                embedding=embd\n",
    "            )\n",
    "            \n",
    "    vectorstore.save_local(file_path)\n",
    "\n",
    "    retriever = vectorstore.as_retriever(\n",
    "        search_type=\"mmr\", search_kwargs={\"k\": 5}\n",
    "    )\n",
    "    \n",
    "    return {\"retriever\": retriever}"
   ]
  },
  {
   "cell_type": "markdown",
   "id": "85780e5e-5562-41c5-ab07-3b8ac5e3feb6",
   "metadata": {},
   "source": [
    "### Edges"
   ]
  },
  {
   "cell_type": "code",
   "execution_count": 323,
   "id": "52aeed98-9b01-486e-8dfc-0ba6119a5f84",
   "metadata": {},
   "outputs": [],
   "source": [
    "def decide_to_generate(state):\n",
    "    \"\"\"\n",
    "    Determines whether to generate an answer, or re-generate a question.\n",
    "\n",
    "    Args:\n",
    "        state (dict): The current graph state\n",
    "\n",
    "    Returns:\n",
    "        str: Binary decision for next node to call\n",
    "    \"\"\"\n",
    "\n",
    "    print(f\"\\n{'-----' * 10}\\n\")\n",
    "    print(\"\\n>>> CONDITIONAL: ASSESS GRADED DOCUMENTS <<<\\n\")\n",
    "    state[\"question\"]\n",
    "    filtered_documents = state[\"documents\"]\n",
    "\n",
    "    if not filtered_documents:\n",
    "        # All documents have been filtered check_relevance\n",
    "        # We will re-generate a new query\n",
    "        print(\n",
    "            \"\\t> ALL DOCUMENTS ARE NOT RELEVANT TO QUESTION, TRANSFORM QUERY. <GO TO D>\"\n",
    "        )\n",
    "        return \"Go to E _ Web Search\"\n",
    "    else:\n",
    "        # We have relevant documents, so generate answer\n",
    "        print(\"\\t> GENERATE. <GO TO A>\")\n",
    "        return \"Go to C _ Generate\""
   ]
  },
  {
   "cell_type": "code",
   "execution_count": 324,
   "id": "eb44eb15-f0ea-4ce6-bb7d-cb1ae8f8b6e9",
   "metadata": {},
   "outputs": [],
   "source": [
    "def grade_generation_v_documents_and_question(state):\n",
    "    \"\"\"\n",
    "    Determines whether the generation is grounded in the document and answers question.\n",
    "\n",
    "    Args:\n",
    "        state (dict): The current graph state\n",
    "\n",
    "    Returns:\n",
    "        str: Decision for next node to call\n",
    "    \"\"\"\n",
    "\n",
    "    print(f\"\\n{'-----' * 10}\\n\")\n",
    "    print(\"\\n\\n>>> CONDITIONAL: CHECK HALLUCINATIONS <<<\\n\")\n",
    "    question = state[\"question\"]\n",
    "    documents = state[\"documents\"]\n",
    "    generation = state[\"generation\"]\n",
    "\n",
    "    flag = hallucination_grader.invoke(\n",
    "        {\"documents\": documents, \"generation\": generation}\n",
    "    )\n",
    "    grade = flag[\"flag\"]\n",
    "\n",
    "    # Check hallucination\n",
    "    if grade == \"yes\":\n",
    "        # print(\"> GENERATION IS GROUNDED IN DOCUMENTS\")\n",
    "        # Check question-answering\n",
    "        # print(\"---GRADE GENERATION vs QUESTION---\")\n",
    "        flag = answer_grader.invoke({\"question\": question, \"generation\": generation})\n",
    "        print(f\"\\t> HALLUCINATION GRADER: {flag}\")\n",
    "        \n",
    "        grade = flag[\"flag\"]\n",
    "        if grade == \"yes\":\n",
    "            print(\"\\t...<USEFUL> GENERATION ADDRESSES QUESTION.\")\n",
    "            return \"useful\"\n",
    "        else:\n",
    "            print(\"\\t...<NOT USEFUL> GENERATION DOES NOT ADDRESS QUESTION.\")\n",
    "            return \"not useful\"\n",
    "    else:\n",
    "        print(\"\\t...<NOT SUPPORTED> GENERATION IS NOT GROUNDED IN DOCUMENTS, RE-TRY.\")\n",
    "        return \"not supported\""
   ]
  },
  {
   "cell_type": "markdown",
   "id": "9037c7a3-26c9-4081-8932-99a84ca98d01",
   "metadata": {},
   "source": [
    "## Build Graph"
   ]
  },
  {
   "cell_type": "code",
   "execution_count": 325,
   "id": "04fda153-7d9f-4e3d-ab39-f820a8b30905",
   "metadata": {},
   "outputs": [],
   "source": [
    "workflow = StateGraph(GraphState)\n",
    "\n",
    "# Define the nodes\n",
    "workflow.add_node(\"A _ Retrieve\", retrieve)  # retrieve\n",
    "workflow.add_node(\"B _ Grade Documents\", grade_documents)  # grade documents\n",
    "workflow.add_node(\"C _ Generate\", generate)  # generatae\n",
    "workflow.add_node(\"D _ Transform Query\", transform_query)  # transform_query\n",
    "workflow.add_node(\"E _ Web Search\", websearch)\n",
    "\n",
    "# Build graph\n",
    "workflow.add_edge(START, \"A _ Retrieve\")\n",
    "workflow.add_edge(\"A _ Retrieve\", \"B _ Grade Documents\")\n",
    "workflow.add_edge(\"D _ Transform Query\", \"A _ Retrieve\")\n",
    "workflow.add_edge(\"E _ Web Search\", \"A _ Retrieve\")\n",
    "\n",
    "workflow.add_conditional_edges(\n",
    "    \"B _ Grade Documents\",\n",
    "    decide_to_generate,\n",
    "    {\n",
    "        \"Go to E _ Web Search\": \"E _ Web Search\",\n",
    "        \"Go to C _ Generate\": \"C _ Generate\",\n",
    "    },\n",
    ")\n",
    "workflow.add_conditional_edges(\n",
    "    \"C _ Generate\",\n",
    "    grade_generation_v_documents_and_question,\n",
    "    {\n",
    "        \"not supported\": \"C _ Generate\",\n",
    "        # \"not supported\": END,\n",
    "        \"useful\": END,\n",
    "        \"not useful\": \"D _ Transform Query\",\n",
    "    },\n",
    ")\n",
    "\n",
    "# Compile\n",
    "app = workflow.compile()"
   ]
  },
  {
   "cell_type": "code",
   "execution_count": 313,
   "id": "87cc3ec0-d34c-4057-a8de-84bcb437a5cd",
   "metadata": {},
   "outputs": [
    {
     "data": {
      "image/jpeg": "[encoded data removed]",
      "text/plain": [
       "<IPython.core.display.Image object>"
      ]
     },
     "metadata": {},
     "output_type": "display_data"
    }
   ],
   "source": [
    "from IPython.display import Image, display\n",
    "\n",
    "try:\n",
    "    display(\n",
    "        Image(app.get_graph(xray=True).draw_mermaid_png())\n",
    "    )  # 실행 가능한 객체의 그래프를 mermaid 형식의 PNG로 그려서 표시합니다. xray=True는 추가적인 세부 정보를 포함합니다.\n",
    "except:\n",
    "    # 이 부분은 추가적인 의존성이 필요하며 선택적으로 실행됩니다.\n",
    "    pass"
   ]
  },
  {
   "cell_type": "code",
   "execution_count": null,
   "id": "a589e60a-cb65-48ed-8220-d96eed18d34f",
   "metadata": {
    "scrolled": true
   },
   "outputs": [
    {
     "name": "stdout",
     "output_type": "stream",
     "text": [
      "\n",
      ">>> A _ RETRIEVE <<<\n",
      "\n",
      "\t> Retrived Documents: 5\n",
      "\n",
      "===========================================================================\n",
      "\n",
      "Node 'A _ Retrieve':\n",
      "\n",
      "===========================================================================\n",
      "\n",
      "\n",
      "--------------------------------------------------\n",
      "\n",
      "\n",
      ">>> B _ GRADE DOCUMENT: CHECK DOCUMENT RELEVANCE TO QUESTION <<<\n",
      "\n",
      "\t> CHECK DOCUMENT 0\n",
      "\t...Flag: {'flag': 'no'}\n",
      "\t...DOCUMENT NOT RELEVANT\n",
      "\n",
      "\t> CHECK DOCUMENT 1\n",
      "\t...Flag: {'flag': 'no'}\n",
      "\t...DOCUMENT NOT RELEVANT\n",
      "\n",
      "\t> CHECK DOCUMENT 2\n",
      "\t...Flag: {'flag': 'no'}\n",
      "\t...DOCUMENT NOT RELEVANT\n",
      "\n",
      "\t> CHECK DOCUMENT 3\n",
      "\t...Flag: {'flag': 'no'}\n",
      "\t...DOCUMENT NOT RELEVANT\n",
      "\n",
      "\t> CHECK DOCUMENT 4\n",
      "\t...Flag: {'flag': 'no'}\n",
      "\t...DOCUMENT NOT RELEVANT\n",
      "\n",
      "\n",
      "--------------------------------------------------\n",
      "\n",
      "\n",
      ">>> CONDITIONAL: ASSESS GRADED DOCUMENTS <<<\n",
      "\n",
      "\t> ALL DOCUMENTS ARE NOT RELEVANT TO QUESTION, TRANSFORM QUERY. <GO TO D>\n",
      "\n",
      "===========================================================================\n",
      "\n",
      "Node 'B _ Grade Documents':\n",
      "\n",
      "===========================================================================\n",
      "\n"
     ]
    },
    {
     "data": {
      "application/vnd.jupyter.widget-view+json": {
       "model_id": "c043f3f0b6814359be8a77172367f1ba",
       "version_major": 2,
       "version_minor": 0
      },
      "text/plain": [
       "  0%|          | 0/39 [00:00<?, ?it/s]"
      ]
     },
     "metadata": {},
     "output_type": "display_data"
    }
   ],
   "source": [
    "from pprint import pprint\n",
    "\n",
    "# Run\n",
    "# inputs = {\"question\": \"Explain how to process in Retrieval Augmented Generation?\"}\n",
    "# inputs = {\"question\": \"What is LangGraph framework and how does it work?\"}\n",
    "inputs = {\n",
    "    \"question\": \"Where are Black-throated loons typically found?\",\n",
    "    \"retriever\": retriever\n",
    "}\n",
    "for output in app.stream(inputs):\n",
    "    print(f\"\\n{'=====' * 15}\\n\")\n",
    "    for key, value in output.items():\n",
    "        # Node\n",
    "        print(f\"Node '{key}':\")\n",
    "        # Optional: print full state at each node\n",
    "        # pprint.pprint(value[\"keys\"], indent=2, width=80, depth=None)\n",
    "    print(f\"\\n{'=====' * 15}\\n\")"
   ]
  },
  {
   "cell_type": "code",
   "execution_count": 306,
   "id": "6d79f8c8-64f3-46a7-856b-6cd019ca4a9f",
   "metadata": {},
   "outputs": [
    {
     "name": "stdout",
     "output_type": "stream",
     "text": [
      "('Self-RAG is a framework for using large language models (LLMs) to generate '\n",
      " 'text by combining external documents and user input. It works by retrieving '\n",
      " 'relevant documents from an external source, then augmenting the LLM prompt '\n",
      " 'with this information to produce more tailored outputs.  \\n')\n"
     ]
    }
   ],
   "source": [
    "# Final generation\n",
    "pprint(value[\"generation\"])"
   ]
  },
  {
   "cell_type": "code",
   "execution_count": null,
   "id": "d6c83cb1-f4df-4ae9-9f17-fa5bb635c0c6",
   "metadata": {},
   "outputs": [],
   "source": []
  },
  {
   "cell_type": "code",
   "execution_count": null,
   "id": "718c10ac-1dea-4262-a47d-77b597bab69c",
   "metadata": {},
   "outputs": [],
   "source": []
  },
  {
   "cell_type": "code",
   "execution_count": null,
   "id": "77728349-55f3-4c4c-abe6-20f4a33193cb",
   "metadata": {},
   "outputs": [],
   "source": []
  },
  {
   "cell_type": "code",
   "execution_count": null,
   "id": "205cf6cb-beba-4424-a47d-6758268aab86",
   "metadata": {},
   "outputs": [],
   "source": []
  },
  {
   "cell_type": "code",
   "execution_count": null,
   "id": "d2834d9f-4066-442a-b07c-fa2f0b9764c0",
   "metadata": {},
   "outputs": [],
   "source": []
  },
  {
   "cell_type": "code",
   "execution_count": null,
   "id": "d0352a3a-2da3-4e38-b6a2-5e0022ce55a4",
   "metadata": {},
   "outputs": [],
   "source": []
  },
  {
   "cell_type": "code",
   "execution_count": null,
   "id": "cafdb47c-b6bf-431c-b985-e20e7bef26ff",
   "metadata": {},
   "outputs": [],
   "source": []
  },
  {
   "cell_type": "code",
   "execution_count": null,
   "id": "d28a22e4-c811-40d6-9e1a-31a00c9de1dd",
   "metadata": {},
   "outputs": [],
   "source": []
  },
  {
   "cell_type": "code",
   "execution_count": null,
   "id": "2ee8f0e8-9849-4512-a2a8-aab1ee8b4db6",
   "metadata": {},
   "outputs": [],
   "source": []
  },
  {
   "cell_type": "code",
   "execution_count": null,
   "id": "4d922355-657b-428f-89b3-408beeb3bf9b",
   "metadata": {},
   "outputs": [],
   "source": []
  },
  {
   "cell_type": "code",
   "execution_count": null,
   "id": "9ee79b7f-ce23-4d9a-943b-0e70aa233de0",
   "metadata": {},
   "outputs": [],
   "source": []
  },
  {
   "cell_type": "code",
   "execution_count": null,
   "id": "1abe822d-7f21-40f2-9f86-2e60268abf1c",
   "metadata": {},
   "outputs": [],
   "source": []
  },
  {
   "cell_type": "code",
   "execution_count": null,
   "id": "cd656521-dad3-42a0-8b62-6ea53e983238",
   "metadata": {},
   "outputs": [],
   "source": []
  },
  {
   "cell_type": "code",
   "execution_count": null,
   "id": "95921e98-4ad4-4ca1-a2ce-77a1005439ca",
   "metadata": {},
   "outputs": [],
   "source": []
  },
  {
   "cell_type": "code",
   "execution_count": null,
   "id": "6bdf7b6c-f408-4b3d-afb4-70807c38f3b5",
   "metadata": {},
   "outputs": [],
   "source": []
  },
  {
   "cell_type": "code",
   "execution_count": null,
   "id": "d331696e-af9e-4280-b499-d7707b886b5d",
   "metadata": {},
   "outputs": [],
   "source": []
  },
  {
   "cell_type": "code",
   "execution_count": null,
   "id": "a4cd98e8-82dd-436c-ac32-16c0d0fa1974",
   "metadata": {},
   "outputs": [],
   "source": []
  },
  {
   "cell_type": "code",
   "execution_count": null,
   "id": "304c5f7d-ce84-44c8-81b3-bfdb0114f992",
   "metadata": {},
   "outputs": [],
   "source": []
  },
  {
   "cell_type": "code",
   "execution_count": null,
   "id": "e6fd74fe-8311-4fc2-9773-3628be57c923",
   "metadata": {},
   "outputs": [],
   "source": []
  },
  {
   "cell_type": "code",
   "execution_count": null,
   "id": "b2eb4e7f-83ee-4599-b08c-17237287f8f4",
   "metadata": {},
   "outputs": [],
   "source": []
  },
  {
   "cell_type": "code",
   "execution_count": null,
   "id": "c259b62d-5b62-4ecf-8916-7cbf362e43f4",
   "metadata": {},
   "outputs": [],
   "source": []
  },
  {
   "cell_type": "code",
   "execution_count": null,
   "id": "f14ff813-acf7-40d8-b6d7-4175f6f1f3e6",
   "metadata": {},
   "outputs": [],
   "source": []
  },
  {
   "cell_type": "code",
   "execution_count": null,
   "id": "994a34eb-259e-40a7-bc81-8241859ef887",
   "metadata": {},
   "outputs": [],
   "source": []
  },
  {
   "cell_type": "code",
   "execution_count": null,
   "id": "23463804-1c6f-4b22-b51f-106a8c4f33ab",
   "metadata": {},
   "outputs": [],
   "source": []
  },
  {
   "cell_type": "code",
   "execution_count": null,
   "id": "224f6a7a-db58-402d-a92e-168f05b054e8",
   "metadata": {},
   "outputs": [],
   "source": []
  },
  {
   "cell_type": "code",
   "execution_count": null,
   "id": "3b655074-7056-44eb-a556-01649d82f07e",
   "metadata": {},
   "outputs": [],
   "source": []
  },
  {
   "cell_type": "code",
   "execution_count": null,
   "id": "0624022f-e69a-40e2-93b6-caa00a5ede53",
   "metadata": {},
   "outputs": [],
   "source": []
  },
  {
   "cell_type": "code",
   "execution_count": null,
   "id": "8a077f41-c09d-4326-b1c8-8fe23c3fc9e0",
   "metadata": {},
   "outputs": [],
   "source": []
  },
  {
   "cell_type": "code",
   "execution_count": null,
   "id": "02838bba-6b34-4402-b7d0-c82ff78010b6",
   "metadata": {},
   "outputs": [],
   "source": []
  },
  {
   "cell_type": "code",
   "execution_count": null,
   "id": "c5119c1c-0f1a-4596-b548-0035a5b3879d",
   "metadata": {},
   "outputs": [],
   "source": []
  }
 ],
 "metadata": {
  "kernelspec": {
   "display_name": "Python 3 (ipykernel)",
   "language": "python",
   "name": "python3"
  },
  "language_info": {
   "codemirror_mode": {
    "name": "ipython",
    "version": 3
   },
   "file_extension": ".py",
   "mimetype": "text/x-python",
   "name": "python",
   "nbconvert_exporter": "python",
   "pygments_lexer": "ipython3",
   "version": "3.12.4"
  }
 },
 "nbformat": 4,
 "nbformat_minor": 5
}
