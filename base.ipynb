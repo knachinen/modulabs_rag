{
 "cells": [
  {
   "cell_type": "code",
   "execution_count": 1,
   "id": "064d5c8c",
   "metadata": {},
   "outputs": [
    {
     "data": {
      "text/plain": [
       "True"
      ]
     },
     "execution_count": 1,
     "metadata": {},
     "output_type": "execute_result"
    }
   ],
   "source": [
    "# api key\n",
    "from dotenv import load_dotenv\n",
    "\n",
    "load_dotenv()"
   ]
  },
  {
   "cell_type": "code",
   "execution_count": 2,
   "id": "562b0043",
   "metadata": {},
   "outputs": [],
   "source": [
    "import os\n",
    "\n",
    "# 디버깅을 위한 프로젝트명을 기입합니다.\n",
    "os.environ[\"LANGCHAIN_PROJECT\"] = \"RAG Base\"\n",
    "\n",
    "# tracing 을 위해서는 아래 코드의 주석을 해제하고 실행합니다.\n",
    "# os.environ[\"LANGCHAIN_TRACING_V2\"] = 'true'"
   ]
  },
  {
   "cell_type": "code",
   "execution_count": 1,
   "id": "c17731bb-2645-41a3-94c4-e7dcc8936740",
   "metadata": {},
   "outputs": [
    {
     "name": "stderr",
     "output_type": "stream",
     "text": [
      "USER_AGENT environment variable not set, consider setting it to identify your requests.\n"
     ]
    }
   ],
   "source": [
    "from tqdm.notebook import tqdm\n",
    "\n",
    "import pprint\n",
    "import bs4\n",
    "\n",
    "from langchain import hub\n",
    "from langchain_core.runnables import RunnablePassthrough\n",
    "from langchain_core.output_parsers import StrOutputParser\n",
    "from langchain_core.prompts import ChatPromptTemplate\n",
    "from langchain_core.runnables import RunnableConfig\n",
    "from langchain_core.output_parsers import JsonOutputParser\n",
    "from langchain_community.vectorstores import FAISS\n",
    "from langchain_community.document_loaders import WebBaseLoader\n",
    "from langchain_community.tools.tavily_search import TavilySearchResults\n",
    "from langchain_ollama import OllamaEmbeddings\n",
    "from langchain_ollama import ChatOllama\n",
    "from langchain_text_splitters import RecursiveCharacterTextSplitter\n",
    "from langchain.document_loaders import PyPDFLoader\n",
    "from langgraph.graph import StateGraph, START, END\n",
    "from langgraph.checkpoint.memory import MemorySaver\n",
    "from langgraph.errors import GraphRecursionError\n",
    "from langchain.prompts import PromptTemplate\n",
    "\n",
    "from typing import List\n",
    "from typing_extensions import TypedDict\n",
    "\n",
    "from abc import ABC, abstractmethod\n",
    "from operator import itemgetter"
   ]
  },
  {
   "cell_type": "code",
   "execution_count": 4,
   "id": "df9813a4-a375-43d1-abdc-3f8238e07fdf",
   "metadata": {},
   "outputs": [],
   "source": [
    "# model_name=\"gemma2:2b\"\n",
    "model_name = \"qwen2:0.5b\"\n",
    "embd = OllamaEmbeddings(model=model_name)\n",
    "llm = ChatOllama(model=model_name, temperature=0)"
   ]
  },
  {
   "cell_type": "markdown",
   "id": "a06b0614-a6b6-403c-af26-9cc614ab4c96",
   "metadata": {},
   "source": [
    "## 문서 - vectorstore"
   ]
  },
  {
   "cell_type": "markdown",
   "id": "4a8ec18f-052c-48fb-9d59-aa099f615663",
   "metadata": {},
   "source": [
    "### web"
   ]
  },
  {
   "cell_type": "code",
   "execution_count": 5,
   "id": "b17f6667-0a6d-4ed7-a3ba-d045919650bf",
   "metadata": {},
   "outputs": [],
   "source": [
    "def load_document_web(web_path):\n",
    "    loader = WebBaseLoader(\n",
    "        web_paths=web_path,\n",
    "        bs_kwargs=dict(\n",
    "            parse_only=bs4.SoupStrainer(\n",
    "                \"div\",\n",
    "                # attrs={\"class\": [\"mw-content-ltr mw-parser-output\"]},\n",
    "                attrs={\"class\": [\"newsct_article _article_body\",\n",
    "                             \"media_end_head_title\"]},\n",
    "            )\n",
    "        ),\n",
    "    )\n",
    "    docs = loader.load()\n",
    "    print(f\"문서의 수: {len(docs)}\")\n",
    "    return docs"
   ]
  },
  {
   "cell_type": "code",
   "execution_count": 8,
   "id": "805757de-9c90-437c-a9a5-6a5457dab93f",
   "metadata": {},
   "outputs": [
    {
     "name": "stdout",
     "output_type": "stream",
     "text": [
      "문서의 수: 4\n"
     ]
    }
   ],
   "source": [
    "# web_path = \"https://n.news.naver.com/mnews/hotissue/article/001/0014896674?type=series&cid=1087298\"\n",
    "web_path = (\n",
    "    \"https://n.news.naver.com/mnews/hotissue/article/001/0014896674?type=series&cid=1087298\",\n",
    "    \"https://n.news.naver.com/mnews/article/366/0001014658\",\n",
    "    \"https://n.news.naver.com/mnews/article/021/0002657064\",\n",
    "    \"https://n.news.naver.com/mnews/article/119/0002868335\",    \n",
    ")\n",
    "docs = load_document_web(web_path)"
   ]
  },
  {
   "cell_type": "code",
   "execution_count": 6,
   "id": "3716d91f-3544-4fa3-af9f-f39e11228974",
   "metadata": {},
   "outputs": [
    {
     "name": "stdout",
     "output_type": "stream",
     "text": [
      "문서의 수: 6\n"
     ]
    }
   ],
   "source": [
    "web_path = (\n",
    "    \"https://n.news.naver.com/mnews/article/031/0000866996\",\n",
    "    \"https://n.news.naver.com/mnews/article/277/0005467269\",\n",
    "    \"https://n.news.naver.com/mnews/article/014/0005236428\",\n",
    "    \"https://n.news.naver.com/mnews/hotissue/article/081/0003477228?type=series&cid=1064685\",\n",
    "    \"https://n.news.naver.com/mnews/article/662/0000051263\",\n",
    "    \"https://n.news.naver.com/mnews/article/030/0003237005\",\n",
    ")\n",
    "docs = load_document_web(web_path)"
   ]
  },
  {
   "cell_type": "code",
   "execution_count": 7,
   "id": "fecd4e88-190b-4737-8650-0a9ba483e49b",
   "metadata": {},
   "outputs": [],
   "source": [
    "# from langchain.text_splitter import RecursiveCharacterTextSplitter\n",
    "\n",
    "# Initialize the text splitter with the chunk size and overlap settings\n",
    "text_splitter = RecursiveCharacterTextSplitter(chunk_size=4000, chunk_overlap=100)\n",
    "\n",
    "# Split the document into chunks\n",
    "# documents = text_splitter.split_text(docs)\n",
    "documents = text_splitter.split_documents(docs)"
   ]
  },
  {
   "cell_type": "code",
   "execution_count": 8,
   "id": "6889d66d-7631-44f5-b5ea-5b28262e2956",
   "metadata": {},
   "outputs": [
    {
     "name": "stdout",
     "output_type": "stream",
     "text": [
      "0: 이정헌 넥슨 대표 \"2027년까지 매출 7500억엔 달성 목표\"   \"종적 성장과 횡적 확장 전략 통해 IP 프랜차이즈 다수 확보\"국내 게임업계에서 독보적인 1위 자리를 굳힌 넥슨\n",
      "\n",
      "1: 아이폰16 출시일 맞춰 3단 폴더블폰 펼치는 中 화웨이   신제품 혈투…9월10일 잇달아 공개화웨이가 애플의 새로운 아이폰 시리즈 출시일에 맞춰 자사 신제품을 선보이기로 했다. 시\n",
      "\n",
      "2: 삼성SDS \"GPU 비중 높인 AI 클라우드로 발전…내달 美 진출\"   리얼 서밋 2024 개최SCP, 패브릭스·브리티코파일럿 강조엔비디아·델·MS·워크데이와 협력 강화내달 패브릭\n",
      "\n",
      "3: ‘금 나와라, 뚝딱!’ 현실로?…‘거대한 금덩어리’ 생성 과정 최초로 밝혀졌다[핵잼 사이언스]   \t\t\t[서울신문 나우뉴스]    자료사진 123rf.com근대 과학이 발달하기 이\n",
      "\n",
      "4: “바위 넘고 계단 오르는 말랑한 바퀴”…세계 최초 개발   한국기계연구원, 표면장력 원리 모사한 ‘모핑 휠’ 개발장애물에 따라 실시간 바퀴 모양 변화이동체 적용 기술 개발도…휠체어\n",
      "\n",
      "5: 中 반도체 자립 전략에 장비 산업 '쑥쑥'   \t\t\t중국이 미국 제재에 맞서 반도체 자립을 추진하면서 반도체 장비 산업이 빠르게 성장하는 것으로 나타났다.3일 중국 경제매체 커촹반\n",
      "\n"
     ]
    }
   ],
   "source": [
    "for i, d in enumerate(documents):\n",
    "    print(f\"{i}: {d.page_content[:100].replace('\\n',' ')}\\n\")"
   ]
  },
  {
   "cell_type": "markdown",
   "id": "67da911f-9656-41d0-bed2-b9a1836fda98",
   "metadata": {},
   "source": [
    "### vectorstore"
   ]
  },
  {
   "cell_type": "code",
   "execution_count": 9,
   "id": "1b00d261-a051-4665-82bb-0830798381fb",
   "metadata": {},
   "outputs": [
    {
     "data": {
      "text/plain": [
       "'data/qwen2-05b_naver-news'"
      ]
     },
     "execution_count": 9,
     "metadata": {},
     "output_type": "execute_result"
    }
   ],
   "source": [
    "faiss_path = f\"data/{model_name.replace(':','-').replace(\".\",'')}_naver-news\"\n",
    "faiss_path"
   ]
  },
  {
   "cell_type": "code",
   "execution_count": 77,
   "id": "c7e5e168-a098-4324-a447-a0f70972f0e9",
   "metadata": {},
   "outputs": [
    {
     "data": {
      "application/vnd.jupyter.widget-view+json": {
       "model_id": "0feb70ebbea448f8ac58cbe910ac0d1c",
       "version_major": 2,
       "version_minor": 0
      },
      "text/plain": [
       "  0%|          | 0/3 [00:00<?, ?it/s]"
      ]
     },
     "metadata": {},
     "output_type": "display_data"
    }
   ],
   "source": [
    "vectorstore = None\n",
    "for d in tqdm(documents):\n",
    "    if vectorstore:\n",
    "        vectorstore.add_documents([d])\n",
    "    else:\n",
    "        vectorstore = FAISS.from_documents(\n",
    "            documents=[d], \n",
    "            embedding=embd\n",
    "        )\n",
    "\n",
    "vectorstore.save_local(faiss_path)"
   ]
  },
  {
   "cell_type": "code",
   "execution_count": 11,
   "id": "aa69aead-b9fb-456f-bf56-08001a00e86f",
   "metadata": {},
   "outputs": [
    {
     "data": {
      "application/vnd.jupyter.widget-view+json": {
       "model_id": "8c9115c9d10c4bbeace239e35af0a7c8",
       "version_major": 2,
       "version_minor": 0
      },
      "text/plain": [
       "  0%|          | 0/6 [00:00<?, ?it/s]"
      ]
     },
     "metadata": {},
     "output_type": "display_data"
    }
   ],
   "source": [
    "for d in tqdm(documents):\n",
    "    vectorstore.add_documents([d])\n",
    "\n",
    "vectorstore.save_local(faiss_path)"
   ]
  },
  {
   "cell_type": "code",
   "execution_count": 12,
   "id": "7a3cabd8-a976-4338-ad2f-35a7789c0817",
   "metadata": {
    "scrolled": true
   },
   "outputs": [],
   "source": [
    "vectorstore = FAISS.load_local(\n",
    "    faiss_path,\n",
    "    embeddings=embd,\n",
    "    allow_dangerous_deserialization=True\n",
    ")"
   ]
  },
  {
   "cell_type": "markdown",
   "id": "34c6e90e-20cd-410f-8cd2-c44870d31ec2",
   "metadata": {},
   "source": [
    "## Retriever"
   ]
  },
  {
   "cell_type": "code",
   "execution_count": 80,
   "id": "262dea72-7941-486e-822f-69e374d0fcc9",
   "metadata": {},
   "outputs": [],
   "source": [
    "query = \"사상 최고 해상도로 관측한 블랙홀의 이름은 무엇입니까?\"\n",
    "documents = retriever.invoke(query)"
   ]
  },
  {
   "cell_type": "code",
   "execution_count": 296,
   "id": "eed2dfe2-1359-435f-a8a9-81664a8bce0e",
   "metadata": {},
   "outputs": [],
   "source": [
    "query = \"SK하이닉스는 어떤 D램을 개발하였습니까?\"\n",
    "documents = retriever.invoke(query)"
   ]
  },
  {
   "cell_type": "code",
   "execution_count": 14,
   "id": "d9c71cfb-336e-4699-bee8-b229b8e4ac57",
   "metadata": {},
   "outputs": [],
   "source": [
    "# query = \"애플은 어떤 기술을 개발하고 있나요?\"\n",
    "query = \"애플이 개발하고 있는 신기술은 무엇입니까?\"\n",
    "# query = \"애플의 메타렌즈는 무엇입니까?\"\n",
    "# query = \"애플이 '카툭튀' 현상을 완화해주는 기술은 무엇인가요?\"\n",
    "documents = retriever.invoke(query)"
   ]
  },
  {
   "cell_type": "code",
   "execution_count": 18,
   "id": "57ac544b-9c29-4d42-8589-dfaee9d054de",
   "metadata": {},
   "outputs": [
    {
     "name": "stdout",
     "output_type": "stream",
     "text": [
      "Score: 0.193\n",
      "SK하이닉스, ‘10나노급 6세대 D램’ 세계 첫 개발   속도 11%· 전력효율 9% 향\n",
      "\n",
      "Score: 0.246\n",
      "KISA, AI Security Day 세미나…사이버 위협 대응 방안 논의   5일 용산 \n",
      "\n",
      "Score: 0.281\n",
      "아이폰16 출시일 맞춰 3단 폴더블폰 펼치는 中 화웨이   신제품 혈투…9월10일 잇달아 \n",
      "\n",
      "Score: 0.284\n",
      "‘카툭튀’ 없는 렌즈부터 성격 가진 로봇까지… 애플이 내놓을 신기술은   아이폰16 페이스\n",
      "\n",
      "Score: 0.303\n",
      "“바위 넘고 계단 오르는 말랑한 바퀴”…세계 최초 개발   한국기계연구원, 표면장력 원리 \n",
      "\n",
      "Score: 0.313\n",
      "‘금 나와라, 뚝딱!’ 현실로?…‘거대한 금덩어리’ 생성 과정 최초로 밝혀졌다[핵잼 사이언\n",
      "\n",
      "Score: 0.319\n",
      "이정헌 넥슨 대표 \"2027년까지 매출 7500억엔 달성 목표\"   \"종적 성장과 횡적 확\n",
      "\n",
      "Score: 0.319\n",
      "中 반도체 자립 전략에 장비 산업 '쑥쑥'   \t\t\t중국이 미국 제재에 맞서 반도체 자립을\n",
      "\n",
      "Score: 0.495\n",
      "삼성SDS \"GPU 비중 높인 AI 클라우드로 발전…내달 美 진출\"   리얼 서밋 2024\n",
      "\n",
      "Score: 0.592\n",
      "[사이테크+] '사건의 지평선 망원경' 사상 최고 해상도로 M87* 블랙홀 관측   국제 \n",
      "\n"
     ]
    }
   ],
   "source": [
    "results = vectorstore.similarity_search_with_score(\n",
    "    query=query,\n",
    "    k=vectorstore.index.ntotal\n",
    ")\n",
    "\n",
    "scores = []\n",
    "\n",
    "for doc, score in results:\n",
    "    print(f\"Score: {score:.3f}\\n{doc.page_content[:50].replace('\\n',' ')}\\n\")\n",
    "    scores.append(score)\n",
    "\n",
    "# scores"
   ]
  },
  {
   "cell_type": "code",
   "execution_count": 19,
   "id": "1ea279db-ac3e-48a4-bb5f-fd13c6541ae3",
   "metadata": {},
   "outputs": [],
   "source": [
    "retriever = vectorstore.as_retriever(\n",
    "    search_type=\"mmr\",\n",
    "    search_kwargs={\n",
    "        \"k\": 10,\n",
    "        \"fetch_k\": 10,\n",
    "        \"lambda_mult\": 0.7\n",
    "    }\n",
    ")"
   ]
  },
  {
   "cell_type": "code",
   "execution_count": 22,
   "id": "0aa70517-ec09-4e3f-a7ce-174229b543be",
   "metadata": {},
   "outputs": [
    {
     "name": "stdout",
     "output_type": "stream",
     "text": [
      "0: SK하이닉스, ‘10나노급 6세대 D램’ 세계 첫 개발   속도 11%· 전력효율 9% 향\n",
      "\n",
      "1: KISA, AI Security Day 세미나…사이버 위협 대응 방안 논의   5일 용산 \n",
      "\n",
      "2: 아이폰16 출시일 맞춰 3단 폴더블폰 펼치는 中 화웨이   신제품 혈투…9월10일 잇달아 \n",
      "\n",
      "3: “바위 넘고 계단 오르는 말랑한 바퀴”…세계 최초 개발   한국기계연구원, 표면장력 원리 \n",
      "\n",
      "4: ‘카툭튀’ 없는 렌즈부터 성격 가진 로봇까지… 애플이 내놓을 신기술은   아이폰16 페이스\n",
      "\n",
      "5: 이정헌 넥슨 대표 \"2027년까지 매출 7500억엔 달성 목표\"   \"종적 성장과 횡적 확\n",
      "\n",
      "6: ‘금 나와라, 뚝딱!’ 현실로?…‘거대한 금덩어리’ 생성 과정 최초로 밝혀졌다[핵잼 사이언\n",
      "\n",
      "7: 中 반도체 자립 전략에 장비 산업 '쑥쑥'   \t\t\t중국이 미국 제재에 맞서 반도체 자립을\n",
      "\n",
      "8: 삼성SDS \"GPU 비중 높인 AI 클라우드로 발전…내달 美 진출\"   리얼 서밋 2024\n",
      "\n",
      "9: [사이테크+] '사건의 지평선 망원경' 사상 최고 해상도로 M87* 블랙홀 관측   국제 \n",
      "\n"
     ]
    }
   ],
   "source": [
    "for i, d in enumerate(documents):\n",
    "    print(f\"{i}: {d.page_content[:50].replace('\\n', ' ')}\\n\")"
   ]
  },
  {
   "cell_type": "markdown",
   "id": "484f5be2-092b-4032-8995-0a9a96797e6c",
   "metadata": {},
   "source": [
    "## LLMs"
   ]
  },
  {
   "cell_type": "code",
   "execution_count": 23,
   "id": "53d8ded8-38cf-4fab-a577-66e4ad8ae221",
   "metadata": {},
   "outputs": [],
   "source": [
    "temperature = 0.1"
   ]
  },
  {
   "cell_type": "markdown",
   "id": "5468837a-db81-42cc-9601-6342b2b282f7",
   "metadata": {},
   "source": [
    "### Triplet"
   ]
  },
  {
   "cell_type": "code",
   "execution_count": 24,
   "id": "459d74ee-bc25-44c5-b429-3ca99f4febb9",
   "metadata": {},
   "outputs": [],
   "source": [
    "template_triplet = \"\"\"후보 답변이 주어졌을 때, 후보 답변으로부터 질문을 조건으로 하여 지식 그래프(KG)를 추출하세요. \n",
    "    추출된 지식 그래프는 (\"주어\", \"서술어\", \"목적어\") 형식의 삼중항(triplet)으로 표현하며, 각 삼중항은 한 줄에 작성하세요. \n",
    "    위 작업 내용을 다시 읽어주세요: 후보 답변이 주어졌을 때, 후보 답변으로부터 질문을 조건으로 하여 지식 그래프(KG)를 추출하세요. \n",
    "    추출된 지식 그래프는 (\"주어\", \"서술어\", \"목적어\") 형식의 삼중항(triplet)으로 표현하며, 각 삼중항은 한 줄에 작성하세요. \n",
    "\n",
    "    위 작업의 예시는 다음과 같습니다.\n",
    "\n",
    "    ### 후보 답변:\n",
    "    KISA는 이번 세미나에서 ‘AI가 만든 사이버위협, AI가 막는 사이버위협’이라는 주제로 AI 기술의 순기능과 역기능을 조명한다. AI와 인간이 상생할 수 있는 안전한 환경 조성을 위해 다양한 세션을 제공할 예정이다.\n",
    "\n",
    "    ### 지식 그래프:\n",
    "    (\"KISA\", \"조명\", \"AI 기술의 순기능과 역기능\")\n",
    "    (\"KISA\", \"제공\", \"다양한 세션\")\n",
    "    (\"이번 세미나\", \"주제\", \"‘AI가 만든 사이버위협, AI가 막는 사이버위협’\")\n",
    "    \n",
    "    ### 후보 답변:\n",
    "    세종대왕은 1397년 4월 10일(음력)에 한성부 북부 준수방(지금의 서울특별시 종로구 통인동)에서 태종과 원경왕후의 셋째 아들로 태어났습니다. \n",
    "    세종대왕은 조선의 제4대 왕으로, 1418년에 왕위에 올라 32년간 재위하며 조선의 정치, 경제, 문화 등 모든 분야에서 큰 발전을 이루었습니다.\n",
    "\n",
    "    ### 지식 그래프:\n",
    "    (\"세종대왕\", \"출생\", \"1397년 4월 10일(음력)\")\n",
    "    (\"세종대왕\", \"출생지\", \"한성부 북부 준수방(지금의 서울특별시 종로구 통인동)\")\n",
    "    (\"세종대왕\", \"부모\", \"태종과 원경왕후\")\n",
    "    (\"세종대왕\", \"왕위에 오름\", \"1418년\")\n",
    "    (\"세종대왕\", \"재위 기간\", \"32년\")\n",
    "    \n",
    "     \\n\\n\\n\n",
    "\n",
    "     이제 아래에 주어진 질문과 후보 답변으로 지식 그래프를 추출해주세요.\n",
    "\n",
    "     ### 후보 답변:\n",
    "     {candidate}\n",
    "\n",
    "     ### 지식 그래프:\n",
    "\n",
    "     이 작업은 추출 작업이므로, 후보 답변의 내용이 사실인지 여부는 고려하지 말고, 단순히 해당 내용에서 삼중항을 추출하는 데 집중하세요.\n",
    "     설명이나 개인적인 추론을 덧붙이지 마세요.\n",
    "     \"\"\""
   ]
  },
  {
   "cell_type": "code",
   "execution_count": 25,
   "id": "66f3251e-62e2-4671-a692-6e27c8ae84ae",
   "metadata": {},
   "outputs": [],
   "source": [
    "prompt = PromptTemplate(\n",
    "    template=template_triplet,\n",
    "    input_variables=[\"candidate\"],\n",
    ")\n",
    "\n",
    "model_name_triplet = \"gemma2:2b\"\n",
    "llm = ChatOllama(model=model_name_triplet, temperature=0.1)\n",
    "rag_triplet = prompt | llm | StrOutputParser()"
   ]
  },
  {
   "cell_type": "code",
   "execution_count": 26,
   "id": "3cd1a790-92a0-487c-b612-3881404aec7e",
   "metadata": {},
   "outputs": [
    {
     "data": {
      "text/plain": [
       "'애플이 개발하고 있는 신기술은 무엇입니까?'"
      ]
     },
     "execution_count": 26,
     "metadata": {},
     "output_type": "execute_result"
    }
   ],
   "source": [
    "# question = \"애플이 '카툭튀' 현상을 완화해주는 기술은 무엇인가요?\"\n",
    "query"
   ]
  },
  {
   "cell_type": "code",
   "execution_count": 24,
   "id": "65bf208b-15d8-415f-8cfe-f6a92e564d91",
   "metadata": {},
   "outputs": [],
   "source": [
    "doc = documents[0].page_content"
   ]
  },
  {
   "cell_type": "code",
   "execution_count": 27,
   "id": "a284b4ed-358d-4216-a3c4-1d11e06fcdc7",
   "metadata": {
    "scrolled": true
   },
   "outputs": [
    {
     "name": "stdout",
     "output_type": "stream",
     "text": [
      "00:\n",
      "```\n",
      "(\"SK하이닉스\", \"개발\", \"10나노급 6세대 D램\")\n",
      "(\"SK하이닉스\", \"속도\", \"11% 빠르고 전력효율은 9% 이상 개선된다\")\n",
      "(\"SK하이닉스\", \"전력효율\", \"9% 이상 개선된다\")\n",
      "(\"SK하이닉스\", \"D램\", \"6세대 D램\")\n",
      "(\"SK하이닉스\", \"DDR5\", \"고성능 데이터센터 등에 쓰인다\")\n",
      "(\"SK하이닉스\", \"전력비용\", \"최대 30%까지 줄일 수 있을 것으로 기대하고 있다\")\n",
      "(\"SK하이닉스\", \"6세대 D램\", \"클라우드 서비스를 운영하는 글로벌 고객들이 SK하이닉스 6세대 D램을 데이터센터에 적용하면 전력 비용을 이전보다 최대 30%까지 줄일 수 있을 것으로 기대하고 있다\")\n",
      "(\"SK하이닉스\", \"HBM4E\", \"향후 7세대 고대역폭 메모리(HBM)인 HBM4E 등에 6세대 기술을 적용한다는 계획이다\")\n",
      "``` \n",
      "\n",
      "\n",
      "\n",
      "\n",
      "01:\n",
      "```\n",
      "(\"KISA\", \"세미나\", \"AI Security Day\")\n",
      "(\"KISA\", \"주제\", \"AI가 만든 사이버위협, AI가 막는 사이버위협\")\n",
      "(\"KISA\", \"방안 논의\", \"사이버 위협 대응 방안\")\n",
      "```\n",
      "\n",
      "02:\n",
      "```\n",
      "(\"화웨이\", \"신제품 출시\", \"3단 폴더블폰\")\n",
      "(\"화웨이\", \"공개\", \"9월10일 오후 2시30분\")\n",
      "(\"화웨이\", \"출시 일정\", \"애플 아이폰16 공개 당일\")\n",
      "(\"화웨이\", \"제품 출시\", \"삼성전자를 밀어냈다\")\n",
      "(\"화웨이\", \"중국 시장 점유율\", \"13%\")\n",
      "(\"애플\", \"아이폰\", \"9월 캘리포니아 쿠퍼티노 본사에서 가을 신제품 출시 콘퍼런스 개최\")\n",
      "(\"애플\", \"중국 시장 점유율\", \"14%\")\n",
      "(\"애플\", \"중국 시장 출하량\", \"약 970만대\")\n",
      "``` \n",
      "\n",
      "\n",
      "\n",
      "\n",
      "03:\n",
      "```\n",
      "(\"한국기계연구원\", \"개발\", \"모핑 휠\")\n",
      "(\"한국기계연구원\", \"실험\", \"투 휠 기반 휠체어\")\n",
      "(\"한국기계연구원\", \"표면장력 원리 모사\", \"모핑 휠\")\n",
      "(\"한국기계연구원\", \"장애물 극복\", \"바위와 계단 오르내리는 것\")\n",
      "``` \n",
      "\n",
      "\n",
      "04:\n",
      "```\n",
      "(\"애플\", \"메타렌즈 적용\", \"아이폰16 페이스 ID 카메라\")\n",
      "(\"애플\", \"AI 로봇 개발\", \"가정용 AI 로봇\")\n",
      "(\"애플\", \"성격 가진 로봇\", \"인공지능 (AI) 로봇\")\n",
      "(\"애플 링\", \"AI 비서 시리 연결\", \"특허\")\n",
      "(\"애플 링\", \"마이크와 스피커 적용\", \"말 인식 및 대답\")\n",
      "(\"애플 링\", \"독립적인 기기\", \"머리를 흔드는 것만으로 전화 수락/거절\")\n",
      "``` \n",
      "\n",
      "\n",
      "\n",
      "\n",
      "05:\n",
      "```\n",
      "(\"이정헌 넥슨 대표\", \"목적어\", \"2027년까지 매출 7500억엔 달성 목표\")\n",
      "(\"이정헌 넥슨 대표\", \"목적어\", \"영업이익 2500억엔(약 2조3000억원) 달성\")\n",
      "(\"넥슨\", \"전략\", \"종적 성장과 차세대 IP 육성을 통한 '횡적 확장'\")\n",
      "(\"넥슨\", \"목표\", \"7조 클럽 가입\")\n",
      "(\"넥슨\", \"전략\", \"라이브 오퍼레이션\")\n",
      "(\"넥슨\", \"IP\", \"다양한 신규 IP 창출\")\n",
      "``` \n",
      "\n",
      "\n",
      "\n",
      "\n",
      "06:\n",
      "```\n",
      "(\"연금술\", \"유행\", \"비금속을 인공적 수단을 통해 금 등의 귀금속으로 바꾸는\")\n",
      "(\"석영\", \"압전 전압\", \"지진이 석영에 가하는 '압전 전압'\")\n",
      "(\"석영\", \"압력\", \"지진이 석영에 가하는 '압전 전압'\")\n",
      "(\"금\", \"용해된 금\", \"액체에서 금이 침착(밑으로 가라앉아 들러붙음)\")\n",
      "(\"금\", \"형성\", \"지진이 석영에 가하는 '압전 전압'\")\n",
      "(\"금\", \"형성\", \"지진과 압력\")\n",
      "(\"금\", \"형성\", \"석영 광맥의 틈으로 침투한 뒤 지진이 일으키는 전기장과 만났을 때 금이 형성된다.\")\n",
      "(\"금\", \"형성\", \"대체로 큰 금덩어리가 지진 중 조산운동으로 형성되는 퇴적층에서 발견된다.\")\n",
      "(\"석영\", \"압전 광물\", \"석영은 압축되거나 늘리는 등 물리적인 스트레스를 받았을 때 전기장을 발생시키는 압전 광물이기도 하다.\")\n",
      "``` \n",
      "\n",
      "\n",
      "\n",
      "\n",
      "07:\n",
      "```\n",
      "(\"중국 반도체 장비 성장\", \"미국의 대중국 반도체 제재 때문\")\n",
      "(\"미국은 중국 반도체 성장을 견제하기 위해 자국 반도체 장비사들의 수출 제재뿐 아니라 동맹국에도 압박을 가하고 있다.\", \"동맹국 기업에 해외직접제품규칙(FDPR)을 적용하는 방식으로 제한을 가한다.\")\n",
      "(\"중국 반도체 장비 성장은 미국의 대중국 반도체 제재 때문이다\", \"미국은 중국 반도체 성장을 견제하기 위해 자국 반도체 장비사들의 수출 제재뿐 아니라 동맹국에도 압박을 가하고 있다.\")\n",
      "(\"나우라는 25억3200만 위안(약 4768억원)을 투자해 가장 규모가 컸다.\", \"중국 반도체 장비사 고객사는 자국 기업이 대부분이지만 내수 시장 규모는 더 커질 전망이다.\")\n",
      "``` \n",
      "\n",
      "\n",
      "\n",
      "\n",
      "08:\n",
      "```\n",
      "(\"삼성SDS\", \"GPU 비중 높인 AI 클라우드로 발전\", \"내달 美 진출\")\n",
      "(\"삼성SDS\", \"생성형 AI 서비스 활용\", \"패브릭스(FabriX)\")\n",
      "(\"삼성SDS\", \"생성형 AI 기반 협업솔루션\", \"브리티 코파일럿\")\n",
      "(\"삼성SDS\", \"내달 중 미국 시장에 패브릭스 출시\", \"MS 애저\")\n",
      "(\"삼성SDS\", \"퍼스널 에이전트 기능\", \"브리티 코파일럿\")\n",
      "(\"삼성SDS\", \"한국어 인식률\", \"언어 장벽 없음\")\n",
      "(\"삼성SDS\", \"한국 기업의 협력\", \"베트남 언어 추가\")\n",
      "``` \n",
      "\n",
      "\n",
      "09:\n",
      "## 지식 그래프:\n",
      "\n",
      "* **망원경:** ETH (0.87mm 파장), ALMA, APEX, IRAM 30m, NOEMA, GreenLanded 망원경\n",
      "* **관측 목적:** M87 은하 중앙 블랙홀(M87*) 해상도 높은 관측\n",
      "* **해상도:** 19 마이크로아크초 (예비 실험)\n",
      "* **목표 해상도:** 13 마이크로아크초 (전체 ETH 활용 가능성)\n",
      "\n",
      "\n",
      "\n",
      "\n"
     ]
    }
   ],
   "source": [
    "for i, d in enumerate(documents):\n",
    "    gen_triplet = rag_triplet.invoke({\"candidate\": d.page_content})\n",
    "    print(f\"{i:02}:\\n{gen_triplet}\\n\")"
   ]
  },
  {
   "cell_type": "code",
   "execution_count": 29,
   "id": "17861993-eeee-48f8-a5e1-ed360ff5eadc",
   "metadata": {
    "collapsed": true,
    "jupyter": {
     "outputs_hidden": true
    },
    "scrolled": true
   },
   "outputs": [
    {
     "name": "stdout",
     "output_type": "stream",
     "text": [
      "```\n",
      "(\"SK하이닉스\", \"개발\", \"10나노급 6세대 D램\")\n",
      "(\"SK하이닉스\", \"속도\", \"11% 빠르고 전력효율은 9% 이상 개선된다\")\n",
      "(\"SK하이닉스\", \"전력효율\", \"9% 이상 개선된다\")\n",
      "(\"SK하이닉스\", \"D램\", \"6세대 D램\")\n",
      "(\"SK하이닉스\", \"DDR5\", \"고성능 데이터센터 등에 쓰인다\")\n",
      "(\"SK하이닉스\", \"전력비용\", \"최대 30%까지 줄일 수 있을 것으로 기대하고 있다\")\n",
      "(\"SK하이닉스\", \"6세대 D램\", \"클라우드 서비스를 운영하는 글로벌 고객들이 적용하면 전력 비용을 이전보다 최대 30%까지 줄일 수 있을 것으로 기대하고 있다\")\n",
      "``` \n",
      "\n",
      "\n",
      "\n"
     ]
    }
   ],
   "source": [
    "gen_triplet = rag_triplet.invoke({\"candidate\": doc})\n",
    "print(gen_triplet)"
   ]
  },
  {
   "cell_type": "code",
   "execution_count": 49,
   "id": "9a374907-08c8-4494-a902-78a806ec0be8",
   "metadata": {
    "collapsed": true,
    "jupyter": {
     "outputs_hidden": true
    },
    "scrolled": true
   },
   "outputs": [
    {
     "name": "stdout",
     "output_type": "stream",
     "text": [
      "```\n",
      "(\"KISA\", \"세미나\", \"AI Security Day\")\n",
      "(\"KISA\", \"주제\", \"AI가 만든 사이버위협, AI가 막는 사이버위협\")\n",
      "(\"KISA\", \"방안 논의\", \"사이버 위협 대응 방안\")\n",
      "```\n"
     ]
    }
   ],
   "source": [
    "gen_triplet = rag_triplet.invoke({\"candidate\": documents[1].page_content})\n",
    "print(gen_triplet)"
   ]
  },
  {
   "cell_type": "code",
   "execution_count": 52,
   "id": "34502f97-0d6a-4221-a90c-b98563b7c7a2",
   "metadata": {
    "collapsed": true,
    "jupyter": {
     "outputs_hidden": true
    },
    "scrolled": true
   },
   "outputs": [
    {
     "name": "stdout",
     "output_type": "stream",
     "text": [
      "```\n",
      "(\"애플\", \"메타렌즈 적용\", \"아이폰16 페이스 ID 카메라\")\n",
      "(\"애플\", \"AI 로봇 개발\", \"가정용 AI 로봇\")\n",
      "(\"애플\", \"AI 비서 시리\", \"인간과 비슷한 성격\")\n",
      "(\"애플 링\", \"AI 비서 시리 연결\", \"특허\")\n",
      "(\"애플 링\", \"마이크와 스피커\", \"AI 비서 시리 연결\") \n",
      "``` \n",
      "\n",
      "\n",
      "\n"
     ]
    }
   ],
   "source": [
    "gen_triplet = rag_triplet.invoke({\"candidate\": documents[2].page_content})\n",
    "print(gen_triplet)"
   ]
  },
  {
   "cell_type": "code",
   "execution_count": 69,
   "id": "5113f082-4f6c-4b23-b2e1-f71a1efec1b3",
   "metadata": {
    "collapsed": true,
    "jupyter": {
     "outputs_hidden": true
    },
    "scrolled": true
   },
   "outputs": [
    {
     "name": "stdout",
     "output_type": "stream",
     "text": [
      "## 지식 그래프:\n",
      "\n",
      "* **ETH:**  0.87mm 파장, M87 은하 중앙 블랙홀(M87*) 관측\n",
      "* **연구팀:**  6개의 망원경 (ALMA, APEX, IRAM 30m, NOEMA, 그린란드) 활용\n",
      "* **해상도:** 19 마이크로아크초 (microarcsecond)\n",
      "* **목표 해상도:** 13 마이크로아크초 (micrometer arcsecond)까지 높이기\n",
      "* **참고 사항:**  전파망원경 연결, 수증기 흡수 문제점\n",
      "\n",
      "\n",
      "\n"
     ]
    }
   ],
   "source": [
    "gen_triplet = rag_triplet.invoke({\"candidate\": documents[3].page_content})\n",
    "print(gen_triplet)"
   ]
  },
  {
   "cell_type": "code",
   "execution_count": 31,
   "id": "8440ed60-47cf-4dc3-bc91-8ec377215a2b",
   "metadata": {},
   "outputs": [],
   "source": [
    "gen_triplet = \"\"\"```\n",
    "(\"화웨이\", \"신제품 출시\", \"3단 폴더블폰\")\n",
    "(\"화웨이\", \"공개\", \"9월10일 오후 2시30분\")\n",
    "(\"화웨이\", \"출시 일정\", \"애플 아이폰16 공개 당일\")\n",
    "(\"화웨이\", \"제품 출시\", \"삼성전자를 밀어냈다\")\n",
    "(\"화웨이\", \"중국 시장 점유율\", \"13%\")\n",
    "(\"애플\", \"아이폰\", \"9월 캘리포니아 쿠퍼티노 본사에서 가을 신제품 출시 콘퍼런스 개최\")\n",
    "(\"애플\", \"중국 시장 점유율\", \"14%\")\n",
    "(\"애플\", \"중국 시장 출하량\", \"약 970만대\")\n",
    "``` \n",
    "\n",
    "\n",
    "\"\"\""
   ]
  },
  {
   "cell_type": "code",
   "execution_count": 34,
   "id": "de5c4182-c8bd-49b9-b4d5-f67006b211e1",
   "metadata": {},
   "outputs": [],
   "source": [
    "gen_triplet = \"\"\"```\n",
    "(\"애플\", \"메타렌즈 적용\", \"아이폰16 페이스 ID 카메라\")\n",
    "(\"애플\", \"AI 로봇 개발\", \"가정용 AI 로봇\")\n",
    "(\"애플\", \"성격 가진 로봇\", \"인공지능 (AI) 로봇\")\n",
    "(\"애플 링\", \"AI 비서 시리 연결\", \"특허\")\n",
    "(\"애플 링\", \"마이크와 스피커 적용\", \"말 인식 및 대답\")\n",
    "(\"애플 링\", \"독립적인 기기\", \"머리를 흔드는 것만으로 전화 수락/거절\")\n",
    "``` \n",
    "\n",
    "\"\"\""
   ]
  },
  {
   "cell_type": "markdown",
   "id": "e9dcf03f-2c9e-46bd-a5db-62ebe4aaae2a",
   "metadata": {},
   "source": [
    "### 문서 평가"
   ]
  },
  {
   "cell_type": "code",
   "execution_count": 30,
   "id": "749bafb8-7a88-4f5e-929a-5626192c4dfb",
   "metadata": {},
   "outputs": [],
   "source": [
    "template_retrieval = \"\"\"당신은 사용자의 질문과 관련된 참고문서를 평가하는 일을 합니다.\n",
    "    참고문서의 주어-서술어-목적어로 작성되어 있습니다.\n",
    "    참고문서에 사용자의 질문의 주어와 참고문서의 주어가 같고 관련된 키워드가 있다면, '예' 라고 평가해주세요.\n",
    "    참고문서에 사용자의 질문의 주어와 참고문서의 주어가 다르거나 관련된 키워드가 없다면 '아니오' 라고 평가해주세요.\n",
    "    특히 참고문서의 주어와 질문의 주어가 맞는지 주목해주세요.\n",
    "    작업내용을 다시 읽어주세요: 당신은 사용자의 질문과 관련된 참고문서를 평가하는 일을 합니다.\n",
    "    참고문서의 주어-서술어-목적어로 작성되어 있습니다.\n",
    "    참고문서에 사용자의 질문의 주어와 참고문서의 주어가 같고 관련된 키워드가 있다면, '예' 라고 평가해주세요.\n",
    "    참고문서에 사용자의 질문의 주어와 참고문서의 주어가 다르거나 관련된 키워드가 없다면 '아니오' 라고 평가해주세요.\n",
    "    특히 참고문서의 주어와 질문의 주어가 맞는지 주목해주세요.\n",
    "    \\n\\n\\n\n",
    "    참고문서: \\n\\n {document} \\n\\n\n",
    "    사용자의 질문: {question} \\n\\n\n",
    "    목표는 상관없는 문서를 거르는 것입니다. \\n\n",
    "    JSON 형식으로 'flag' 키에 '예', '아니오' 2가지 답을 주세요. 설명은 필요없습니다\"\"\""
   ]
  },
  {
   "cell_type": "code",
   "execution_count": 32,
   "id": "d08c6f78-8c3a-41ef-b720-523e038a4dd3",
   "metadata": {
    "scrolled": true
   },
   "outputs": [],
   "source": [
    "### Retrieval Grader\n",
    "prompt = PromptTemplate(\n",
    "    template=template_retrieval,\n",
    "    input_variables=[\"question\", \"document\"],\n",
    ")\n",
    "\n",
    "# LLM\n",
    "llm = ChatOllama(model=model_name, format=\"json\", temperature=temperature)\n",
    "retrieval_grader = prompt | llm | JsonOutputParser()"
   ]
  },
  {
   "cell_type": "code",
   "execution_count": 35,
   "id": "26c12834-f629-407c-a7c9-97c38c347bb1",
   "metadata": {},
   "outputs": [
    {
     "name": "stdout",
     "output_type": "stream",
     "text": [
      "{'flag': '예', 'description': '애플이 개발하고 있는 신기술은 메타렌즈 적용, AI 로봇 개발, 가정용 AI 로봇, 인공지능 (AI) 로봇, 말 인식 및 대답 등입니다.'}\n"
     ]
    }
   ],
   "source": [
    "gen_grade = retrieval_grader.invoke({\"question\": query, \"document\": gen_triplet})\n",
    "print(gen_grade)"
   ]
  },
  {
   "cell_type": "markdown",
   "id": "893657e8-4f56-40a7-8283-2ccc143a4a62",
   "metadata": {},
   "source": [
    "### 답변 생성"
   ]
  },
  {
   "cell_type": "code",
   "execution_count": 36,
   "id": "d9951da1-90f9-463f-9cd7-5514184d6daa",
   "metadata": {},
   "outputs": [],
   "source": [
    "template_generator = \"\"\"당신은 사용자의 질문에 답하는 일을 합니다.\n",
    "    참고문서와 키워드 요약문을 사용하여 질문에 답해주세요. \n",
    "    키워드 요약문은 주어, 서술어, 목적어 형태로 구성되어 있습니다.\n",
    "    최대 3문장으로 간단하게 답해주세요. \n",
    "    만약 당신이 답을 모른다면, 간단히 모른다고 답해주세요.\n",
    "    작업내용을 다시 읽어주세요:\n",
    "    당신은 사용자의 질문에 답하는 일을 합니다.\n",
    "    참고문서와 키워드 요약문을 사용하여 질문에 답해주세요. \n",
    "    키워드 요약문은 주어, 서술어, 목적어 형태로 구성되어 있습니다.\n",
    "    최대 3문장으로 간단하게 답해주세요. \n",
    "    만약 당신이 답을 모른다면, 간단히 모른다고 답해주세요.\n",
    "    \\n\\n\\n\n",
    "    사용자의 질문는 여기에 있습니다: {question} \\n\n",
    "    참고문서는 여기에 있습니다: {context} \\n\n",
    "    키워드 요약문은 여기에 있습니다: {keyword} \\n\n",
    "    \\n\\n\\n\n",
    "    답:\"\"\""
   ]
  },
  {
   "cell_type": "code",
   "execution_count": 37,
   "id": "dbc298be-309c-4f4d-967d-f5965d65f5f5",
   "metadata": {},
   "outputs": [],
   "source": [
    "### Generate\n",
    "\n",
    "prompt = PromptTemplate(\n",
    "    template=template_generator,\n",
    "    input_variables=[\"context\", \"question\", \"keyword\"],\n",
    ")\n",
    "\n",
    "llm = ChatOllama(model=\"gemma2:2b\", temperature=0.1)\n",
    "rag_chain = prompt | llm | StrOutputParser()"
   ]
  },
  {
   "cell_type": "code",
   "execution_count": 112,
   "id": "da8226f4-9992-4d6a-a343-92991d4889e0",
   "metadata": {
    "scrolled": true
   },
   "outputs": [
    {
     "name": "stdout",
     "output_type": "stream",
     "text": [
      "0 애플은 아이폰16 페이스 ID 카메라에 메타렌즈를 적용하고, 성격을 가진 가정용 AI 로봇 개발 중입니다. 또한, 애플 링(AI 비서 시리 연결)에 마이크와 스피커를 적용하여 AI 비서 시리를 이용할 수 있는 웨어러블 기기 기술도 개발 중입니다.  \n",
      "\n",
      "1 애플은 아이폰16 페이스 ID 카메라에 메타렌즈를 적용하고, 성격을 가진 가정용 AI 로봇 개발 중입니다. 또한, 애플 링에 AI 비서 시리를 연결하는 특허를 공개했습니다.  \n",
      "\n",
      "2 애플은 아이폰16 페이스 ID 카메라에 메타렌즈를 적용하여 카툭튀 현상을 완화하고, 가정용 AI 로봇 개발 중입니다. 또한, 애플 링에 AI 비서 시리를 연결하는 특허를 공개하며 스마트 반지 기술을 개발하고 있습니다. \n",
      "\n"
     ]
    }
   ],
   "source": [
    "for i in range(3):\n",
    "    generation = rag_chain.invoke({\n",
    "        \"context\": documents[2],\n",
    "        \"keyword\": gen_triplet_apple,\n",
    "        \"question\": query})\n",
    "    print(i, generation)"
   ]
  },
  {
   "cell_type": "markdown",
   "id": "d7f6afe8-011a-4fee-a1c3-8965b765fccf",
   "metadata": {},
   "source": [
    "### 문서에 기반한 답변인가"
   ]
  },
  {
   "cell_type": "code",
   "execution_count": 38,
   "id": "c0cdb5a1-8488-4e6a-b895-31e35ee59889",
   "metadata": {},
   "outputs": [],
   "source": [
    "template_hallucination = \"\"\"당신은 사실에 기반된 답변인지 확인하는 일을 합니다. \\n \n",
    "    여기에 사실이 있습니다:\n",
    "    \\n ------- \\n\n",
    "    {documents} \n",
    "    \\n ------- \\n\n",
    "    여기에 답변이 있습니다: {generation}\n",
    "    사실에 기반한 답변이면, '예' 라고 평가해주세요. \\n\n",
    "    사실에 기반한 답변이 아니면 '아니오' 라고 평가해주세요. \\n\n",
    "    JSON 형식으로 'flag' 키에 '예', '아니오' 평가를 해주세요. \\n\n",
    "    설명은 필요없습니다.\"\"\""
   ]
  },
  {
   "cell_type": "code",
   "execution_count": 40,
   "id": "0772a01b-e898-4182-ab8d-433c1ef63390",
   "metadata": {},
   "outputs": [],
   "source": [
    "### Hallucination Grader\n",
    "\n",
    "# Prompt\n",
    "prompt = PromptTemplate(\n",
    "    template=template_hallucination,\n",
    "    input_variables=[\"generation\", \"documents\"],\n",
    ")\n",
    "\n",
    "# LLM\n",
    "llm = ChatOllama(model=model_name, format=\"json\", temperature=temperature)\n",
    "hallucination_grader = prompt | llm | JsonOutputParser()"
   ]
  },
  {
   "cell_type": "code",
   "execution_count": 373,
   "id": "30e78951-9db2-496e-851e-c4189e99dda4",
   "metadata": {},
   "outputs": [
    {
     "data": {
      "text/plain": [
       "{'flag': '예'}"
      ]
     },
     "execution_count": 373,
     "metadata": {},
     "output_type": "execute_result"
    }
   ],
   "source": [
    "hallucination_grader.invoke({\"documents\": docs, \"generation\": generation})"
   ]
  },
  {
   "cell_type": "markdown",
   "id": "e46e3c15-2536-4d55-9582-49f32c9043db",
   "metadata": {},
   "source": [
    "### 질문에 적절한 답변인가"
   ]
  },
  {
   "cell_type": "code",
   "execution_count": 41,
   "id": "db005a9c-7151-4b7b-b7ab-dad5c9de0f9d",
   "metadata": {},
   "outputs": [],
   "source": [
    "template_verification = \"\"\"당신은 답변이 질문과 관련된 내용이 있는지 평가하는 일을 합니다. \\n\\n\n",
    "    여기에 사용자의 질문이 있습니다: {question} \\n\n",
    "    여기에 주어진 답변이 있습니다:\n",
    "    \\n ------- \\n\n",
    "    {generation} \n",
    "    \\n ------- \\n\n",
    "\n",
    "    질문과 관련된 내용이 답변에 있다면 '예' 라고 평가해주세요.\\n\n",
    "    질문과 관련된 내용이 답변에 없다면 '아니오' 라고 평가해주세요. \\n\n",
    "            \n",
    "    JSON 형식으로 'flag' 키에 '예', '아니오' 평가를 해주세요.\\n\n",
    "    설명은 필요없습니다.\"\"\""
   ]
  },
  {
   "cell_type": "code",
   "execution_count": 42,
   "id": "3fe68b0c-256d-423e-98ab-d7f56da26061",
   "metadata": {},
   "outputs": [],
   "source": [
    "### Answer Grader\n",
    "\n",
    "# Prompt\n",
    "prompt = PromptTemplate(\n",
    "    template=template_verification,\n",
    "    input_variables=[\"generation\", \"question\"],\n",
    ")\n",
    "\n",
    "# LLM\n",
    "llm = ChatOllama(model=model_name, format=\"json\", temperature=temperature)\n",
    "answer_grader = prompt | llm | JsonOutputParser()"
   ]
  },
  {
   "cell_type": "code",
   "execution_count": 112,
   "id": "8285bdf6-92d0-42bb-bbef-7a550f40c25f",
   "metadata": {},
   "outputs": [
    {
     "name": "stdout",
     "output_type": "stream",
     "text": [
      "SK하이닉스는 어떤 D램을 개발하였습니까?\n",
      "SK하이닉스는 '10나노급 6세대 D램' 세계 첫 개발을 통해 '11%· 전력효율 9%'의 기술을 적용하고 있습니다.\n"
     ]
    }
   ],
   "source": [
    "print(query)\n",
    "print(generation)"
   ]
  },
  {
   "cell_type": "code",
   "execution_count": 375,
   "id": "c8c60fce-a781-4547-a258-86fbfc990c9e",
   "metadata": {},
   "outputs": [
    {
     "name": "stdout",
     "output_type": "stream",
     "text": [
      "애플이 개발하고 있는 신기술은 무엇입니까?\n",
      "\"아이폰16 페이스 ID 카메라에 '메타렌즈' 적용설스스로 주행하며 이용자 돕는 가정용 로봇도 개발 중\"\n"
     ]
    }
   ],
   "source": [
    "print(query)\n",
    "print(generation)"
   ]
  },
  {
   "cell_type": "code",
   "execution_count": 374,
   "id": "81492716-e28e-47df-9216-6c0e116f5ecc",
   "metadata": {},
   "outputs": [
    {
     "data": {
      "text/plain": [
       "{'flag': '예'}"
      ]
     },
     "execution_count": 374,
     "metadata": {},
     "output_type": "execute_result"
    }
   ],
   "source": [
    "answer_grader.invoke({\"question\": query, \"generation\": generation})"
   ]
  },
  {
   "cell_type": "code",
   "execution_count": 308,
   "id": "0514a52a-29da-475f-bf03-fcba254bcd76",
   "metadata": {},
   "outputs": [
    {
     "data": {
      "text/plain": [
       "{'flag': '예'}"
      ]
     },
     "execution_count": 308,
     "metadata": {},
     "output_type": "execute_result"
    }
   ],
   "source": [
    "# 악마의 문장. 도대체 어찌 할 수가 없는 문장\n",
    "answer_grader.invoke({\"question\": query, \"generation\": \"SK하이닉스에서 어떤 D램을 개발했나요?\"})"
   ]
  },
  {
   "cell_type": "markdown",
   "id": "1eabaec5",
   "metadata": {},
   "source": [
    "## LangGraph"
   ]
  },
  {
   "cell_type": "code",
   "execution_count": 43,
   "id": "189edee7-e0cb-4d74-ab3b-16f5b9651d39",
   "metadata": {},
   "outputs": [],
   "source": [
    "class GraphState(TypedDict):\n",
    "    \"\"\"\n",
    "    Represents the state of our graph.\n",
    "\n",
    "    Attributes:\n",
    "        question: question\n",
    "        generation: LLM generation\n",
    "        documents: list of documents\n",
    "    \"\"\"\n",
    "\n",
    "    question: str\n",
    "    generation: str\n",
    "    documents: List[str]\n",
    "    retriever: FAISS"
   ]
  },
  {
   "cell_type": "markdown",
   "id": "8e5b9501-8166-4408-a278-4b6d4791e760",
   "metadata": {},
   "source": [
    "### Nodes"
   ]
  },
  {
   "cell_type": "markdown",
   "id": "ad765fe7-2070-4200-9e4b-1be5db355e96",
   "metadata": {},
   "source": [
    "#### A. 문서 검색"
   ]
  },
  {
   "cell_type": "code",
   "execution_count": 120,
   "id": "466d65c5-73b0-4d92-b15d-6ba38d885190",
   "metadata": {},
   "outputs": [],
   "source": [
    "def retrieve(state):\n",
    "    \"\"\"\n",
    "    Retrieve documents\n",
    "\n",
    "    Args:\n",
    "        state (dict): The current graph state\n",
    "\n",
    "    Returns:\n",
    "        state (dict): New key added to state, documents, that contains retrieved documents\n",
    "    \"\"\"\n",
    "    print(f\"\\n{'-----' * 15}\\n\")\n",
    "    print(\"\\n>>> A _ 문서 검색 <<<\\n\")\n",
    "    question = state[\"question\"]\n",
    "    retriever = state[\"retriever\"]\n",
    "\n",
    "    # Retrieval\n",
    "    # documents = retriever.get_relevant_documents(question)\n",
    "    documents = retriever.invoke(question)\n",
    "    print(f\"\\t> Retrived Documents: {len(documents)}\")\n",
    "    for index, doc in enumerate(documents):\n",
    "        print(f\"\\t> Retrived Documents {index}: {doc.page_content[:200].replace('\\n',' ')}...\\n\\n\")\n",
    "    return {\"documents\": documents, \"question\": question}"
   ]
  },
  {
   "cell_type": "markdown",
   "id": "b9c2d376-cda8-4adf-ae06-3cf085cd9734",
   "metadata": {},
   "source": [
    "#### B. 문서 평가"
   ]
  },
  {
   "cell_type": "code",
   "execution_count": 399,
   "id": "4c22db00-c160-4157-b649-b079371695d6",
   "metadata": {},
   "outputs": [],
   "source": [
    "def grade_documents(state):\n",
    "    \"\"\"\n",
    "    Determines whether the retrieved documents are relevant to the question.\n",
    "\n",
    "    Args:\n",
    "        state (dict): The current graph state\n",
    "\n",
    "    Returns:\n",
    "        state (dict): Updates documents key with only filtered relevant documents\n",
    "    \"\"\"\n",
    "\n",
    "    print(f\"\\n{'-----' * 15}\\n\")\n",
    "    print(\">>> B _ 문서 평가: 질문과 관련이 있는지 확인 <<<\\n\")\n",
    "    question = state[\"question\"]\n",
    "    documents = state[\"documents\"]\n",
    "\n",
    "    # Score each doc\n",
    "    filtered_docs = []\n",
    "    for index, d in enumerate(documents):\n",
    "        print(f\"\\t> 문서 {index} ... 확인중\")\n",
    "        \n",
    "        for i in range(3):\n",
    "            \n",
    "            flag = retrieval_grader.invoke(\n",
    "                {\"question\": question, \"document\": d.page_content}\n",
    "            )\n",
    "            print(f\"\\t...Flag: {flag}\")\n",
    "            \n",
    "            try:\n",
    "                grade = flag[\"flag\"]\n",
    "                break\n",
    "                \n",
    "            except:\n",
    "                print(f\"\\t...RETRY - {i+1}\")\n",
    "        \n",
    "        if grade == \"예\":\n",
    "            print(\"\\t...관련있음\\n\")\n",
    "            filtered_docs.append(d)\n",
    "            \n",
    "        else:\n",
    "            print(\"\\t...관련없음\\n\")\n",
    "            continue\n",
    "    \n",
    "    return {\"documents\": filtered_docs, \"question\": question}"
   ]
  },
  {
   "cell_type": "code",
   "execution_count": null,
   "id": "e4f001d0-c458-437c-8b18-02931596f09c",
   "metadata": {
    "scrolled": true
   },
   "outputs": [
    {
     "name": "stdout",
     "output_type": "stream",
     "text": [
      "\n",
      "---------------------------------------------------------------------------\n",
      "\n",
      ">>> B _ 문서 평가: 질문과 관련이 있는지 확인 <<<\n",
      "\n",
      "\t> 문서 0 ... 확인중\n",
      "\t...Flag: {'flag': '예'}\n",
      "\t...관련있음\n",
      "\n",
      "\t> 문서 1 ... 확인중\n"
     ]
    }
   ],
   "source": [
    "inputs = {\n",
    "    \"question\": query,\n",
    "    \"documents\": documents,\n",
    "}\n",
    "\n",
    "output = grade_documents(inputs)\n",
    "print(output)"
   ]
  },
  {
   "cell_type": "markdown",
   "id": "48f06f6b-2c68-4688-9490-27b6450dd2f7",
   "metadata": {},
   "source": [
    "#### C. 답변 생성"
   ]
  },
  {
   "cell_type": "code",
   "execution_count": 121,
   "id": "5e8b0ed9-a86d-4fd7-9798-d9020e4bf373",
   "metadata": {},
   "outputs": [],
   "source": [
    "def generate(state):\n",
    "    \"\"\"\n",
    "    Generate answer\n",
    "\n",
    "    Args:\n",
    "        state (dict): The current graph state\n",
    "\n",
    "    Returns:\n",
    "        state (dict): New key added to state, generation, that contains LLM generation\n",
    "    \"\"\"\n",
    "    print(f\"\\n{'-----' * 15}\\n\")\n",
    "    print(\"\\n>>> C _ 답변 생성 <<<\\n\")\n",
    "    question = state[\"question\"]\n",
    "    documents = state[\"documents\"]\n",
    "\n",
    "    # RAG generation\n",
    "    generation = rag_chain.invoke({\"context\": documents, \"question\": question})\n",
    "    print(f\"\\t> Generation: {generation}\")\n",
    "    return {\"documents\": documents, \"question\": question, \"generation\": generation}"
   ]
  },
  {
   "cell_type": "code",
   "execution_count": 300,
   "id": "6affc30f-24c5-4ff1-9cb1-a5b8cbba7f83",
   "metadata": {
    "collapsed": true,
    "jupyter": {
     "outputs_hidden": true
    },
    "scrolled": true
   },
   "outputs": [
    {
     "name": "stdout",
     "output_type": "stream",
     "text": [
      "\n",
      "---------------------------------------------------------------------------\n",
      "\n",
      "\n",
      ">>> C _ 답변 생성 <<<\n",
      "\n",
      "\t> Generation: SK하이닉스는 '10나노급 6세대 D램' 세계 첫 개발을 시작했습니다.\n",
      "{'documents': Document(metadata={'source': 'https://n.news.naver.com/mnews/article/021/0002657064'}, page_content='SK하이닉스, ‘10나노급 6세대 D램’ 세계 첫 개발\\n\\n\\n속도 11%· 전력효율 9% 향상\\n\\n\\n\\nSK하이닉스가 현존하는 D램 중 가장 미세화된 ‘10나노(㎚·1나노는 10억 분의 1m)급 6세대(1c)’ 기술을 세계 최초로 개발했다고 29일 밝혔다. 메모리 선폭을 의미하는 나노 수치가 작아질수록 처리 속도는 빨라지고, 소비전력은 줄어든다. 11∼12나노인 6세대는 기존 12∼13나노인 5세대 메모리보다 속도는 11% 빠르고, 전력효율은 9% 이상 개선된다. 5세대 기술은 지난해 5월 삼성전자가 SK하이닉스보다 열흘 먼저 양산에 성공한 바 있어, 차세대 D램을 두고 K-메모리 경쟁이 극한 경쟁으로 이어질 전망이다.이날 SK하이닉스는 6세대 기술이 적용된 16Gb(기가비트) DDR5 D램을 개발하는 데 성공, 연내 양산 준비를 마치고 내년부터 제품을 공급할 계획이라고 밝혔다. DDR5는 저전력·고성능의 특징을 갖춘 D램 최신 규격으로 고성능 데이터센터 등에 쓰인다. SK하이닉스에 따르면 6세대 DDR5의 동작 속도는 8Gbps(초당 기가비트)로, 이전 세대 대비 11% 빨라졌으며 전력효율은 9% 이상 개선됐다. 설계 기술 혁신도 병행해 이전 세대 대비 생산성을 30% 이상 향상시켰다.SK하이닉스는 클라우드 서비스를 운영하는 글로벌 고객들이 SK하이닉스 6세대 D램을 데이터센터에 적용하면 전력 비용을 이전보다 최대 30%까지 줄일 수 있을 것으로 기대하고 있다. SK하이닉스는 향후 7세대 고대역폭 메모리(HBM)인 HBM4E 등에 6세대 기술을 적용한다는 계획이다. 삼성전자와 마이크론도 D램 초미세 공정을 추진, 6세대 1c 기술 개발이 임박한 것으로 알려져 있다.'), 'question': 'SK하이닉스는 어떤 D램을 개발하였습니까?', 'generation': \"SK하이닉스는 '10나노급 6세대 D램' 세계 첫 개발을 시작했습니다.\"}\n"
     ]
    }
   ],
   "source": [
    "inputs = {\n",
    "    \"question\": query,\n",
    "    \"retriever\": retriever,\n",
    "    \"documents\": documents[0]\n",
    "}\n",
    "\n",
    "output = generate(inputs)\n",
    "print(output)"
   ]
  },
  {
   "cell_type": "code",
   "execution_count": 391,
   "id": "590d37de-c71f-4bc6-a868-f0eec0dabe93",
   "metadata": {
    "scrolled": true
   },
   "outputs": [
    {
     "name": "stdout",
     "output_type": "stream",
     "text": [
      "\n",
      "---------------------------------------------------------------------------\n",
      "\n",
      "\n",
      ">>> C _ 답변 생성 <<<\n",
      "\n",
      "\t> Generation: \"아이폰16 페이스 ID 카메라에 '메타렌즈' 적용설스스로 주행하며 이용자 돕는 가정용 로봇도 개발 중\"\n",
      "{'documents': Document(metadata={'source': 'https://n.news.naver.com/mnews/article/366/0001014658'}, page_content='‘카툭튀’ 없는 렌즈부터 성격 가진 로봇까지… 애플이 내놓을 신기술은\\n\\n\\n아이폰16 페이스 ID 카메라에 ‘메타렌즈’ 적용설스스로 주행하며 이용자 돕는 가정용 로봇도 개발 중’시리’ 이용할 수 있는 스마트 반지 기술도 공개\\n\\n\\n\\n아이폰 카메라에 여러 개의 굴절 렌즈가 적용돼 있는 모습./애플 제공        애플이 ‘카툭튀(카메라가 툭 튀어나온 부분)’ 현상을 완화해 주는 메타렌즈를 아이폰에 적용하고, 사람처럼 성격을 가진 가정용 인공지능(AI) 로봇 출시를 검토 중인 것으로 전해졌다.29일 디지타임스 등 외신과 업계에 따르면 애플은 다음 달 공개하는 아이폰16 프로 페이스 ID 카메라에 ‘메타렌즈’를 적용한 것으로 알려졌다. 여러 개의 굴절 렌즈를 넣어 빛을 모아야 하는 기존 카메라와 달리, 메타렌즈는 하나의 렌즈만으로 동일한 기능을 할 수 있다. 스마트폰 카메라의 두께를 줄여 ‘카툭튀’ 현상을 완화할 수 있다.페이스 ID 카메라는 사진을 찍는 용도가 아닌 데다, 전면에 크기가 작아 기기의 두께를 획기적으로 줄이는데 영향을 미치지는 못할 것으로 보인다. 다만 애플 입장에서는 후면 카메라에 메타렌즈를 적용하기 전, 성능을 시험하는 용도로 활용할 수 있다.애플은 가정용 AI 로봇도 개발하고 있는 것으로 전해졌다. 이 로봇은 애플이 올해 포기한 자율주행차 프로젝트에서 개발한 기술을 활용, 이용자를 따라다니면서 음성 검색 등의 기능을 지원할 것으로 보인다. AI 비서 시리에 인간과 비슷한 성격을 더해 조금 더 자연스러운 대화를 지원하는 것이 특징이다.\\n\\n\\n\\n애플 에어팟 프로2./애플 제공        웨어러블(입는) 기기 관련 기술도 꾸준히 개발 중이다. 애플은 이달 스마트 반지 ‘애플 링’에 AI 비서 시리를 연결하는 특허를 공개했다. 애플 링에 마이크와 스피커를 적용해 이용자의 말을 인식하고 대답하는 기술이다. 심박수를 측정하는 등 헬스케어 용도에 머무르지 않고, 독립적인 기기로 만들어 활용도를 높이겠다는 구상이다. 애플은 다음 달 공개하는 iOS 18을 통해 머리를 흔드는 것만으로 걸려 오는 전화를 수락하거나 거절할 수 있는 기술을 적용할 예정이다.최근 애플은 주력 제품의 수익이 감소세에 접어들었다. 올 2분기 아이폰 판매수익은 52조4199억원으로 전년 동기 대비 0.8% 감소했다. 같은 기간 웨어러블·홈·액세서리 기기 수익은 10조8895억원으로 1.8% 줄었다.박강호 대신증권 연구원은 “중국의 애국 소비, 다양한 중저가형 제품 출시로 애플의 주력 제품인 아이폰 수익이 감소하고 있다”라며 “이 때문에 애플이 새로운 폼팩터(기기 형태)나 신기술이 적용된 기기로 돌파구를 찾고 있는 것”이라고 말했다.'), 'question': '애플이 개발하고 있는 신기술은 무엇입니까?', 'generation': '\"아이폰16 페이스 ID 카메라에 \\'메타렌즈\\' 적용설스스로 주행하며 이용자 돕는 가정용 로봇도 개발 중\"'}\n"
     ]
    }
   ],
   "source": [
    "inputs = {\n",
    "    \"question\": query,\n",
    "    \"retriever\": retriever,\n",
    "    \"documents\": docs\n",
    "}\n",
    "\n",
    "output = generate(inputs)\n",
    "print(output)"
   ]
  },
  {
   "cell_type": "markdown",
   "id": "85780e5e-5562-41c5-ab07-3b8ac5e3feb6",
   "metadata": {},
   "source": [
    "### Edges"
   ]
  },
  {
   "cell_type": "markdown",
   "id": "deb25ac2-4812-4f80-aa02-1849a5f78395",
   "metadata": {
    "jp-MarkdownHeadingCollapsed": true
   },
   "source": [
    "#### 답변 평가"
   ]
  },
  {
   "cell_type": "code",
   "execution_count": 392,
   "id": "eb44eb15-f0ea-4ce6-bb7d-cb1ae8f8b6e9",
   "metadata": {},
   "outputs": [],
   "source": [
    "def grade_generation_v_documents_and_question(state):\n",
    "    \"\"\"\n",
    "    Determines whether the generation is grounded in the document and answers question.\n",
    "\n",
    "    Args:\n",
    "        state (dict): The current graph state\n",
    "\n",
    "    Returns:\n",
    "        str: Decision for next node to call\n",
    "    \"\"\"\n",
    "\n",
    "    print(f\"\\n{'-----' * 15}\\n\")\n",
    "    print(\">>> 조건: 사실에 기반된 답변인지 확인 <<<\\n\")\n",
    "    question = state[\"question\"]\n",
    "    documents = state[\"documents\"]\n",
    "    generation = state[\"generation\"]\n",
    "\n",
    "    flag = hallucination_grader.invoke(\n",
    "        {\"documents\": documents, \"generation\": generation}\n",
    "    )\n",
    "    print(f\"\\t...flag: {flag}\")\n",
    "\n",
    "    try:\n",
    "        grade = flag[\"flag\"]\n",
    "\n",
    "        # Check hallucination\n",
    "        if grade == \"예\":\n",
    "            print(\"\\t...생성된 답변이 문서에 기반한 사실임.\")\n",
    "            # Check question-answering\n",
    "    \n",
    "            flag = answer_grader.invoke({\"question\": question, \"generation\": generation})\n",
    "            print(f\"\\t...확인 결과: {flag}\")\n",
    "        \n",
    "            grade = flag[\"flag\"]\n",
    "            if grade == \"예\":\n",
    "                print(\"\\t...답변이 적절함.\")\n",
    "                return \"적절함\"\n",
    "            else:\n",
    "                print(\"\\t...답변이 비적절함.\")\n",
    "                return \"비적절함\"\n",
    "        else:\n",
    "            print(\"\\t...생성된 답변이 문서에 기반된 사실이 아님. 다시 시도.\")\n",
    "            return \"비적절함\"\n",
    "    except:\n",
    "        return \"비적절함\""
   ]
  },
  {
   "cell_type": "code",
   "execution_count": 393,
   "id": "62d53329-98c4-4135-8fa4-16b0242077a8",
   "metadata": {
    "scrolled": true
   },
   "outputs": [
    {
     "name": "stdout",
     "output_type": "stream",
     "text": [
      "\n",
      "---------------------------------------------------------------------------\n",
      "\n",
      ">>> 조건: 사실에 기반된 답변인지 확인 <<<\n",
      "\n",
      "\t...flag: {'flag': '예'}\n",
      "\t...생성된 답변이 문서에 기반한 사실임.\n",
      "\t...확인 결과: {'flag': '예'}\n",
      "\t...답변이 적절함.\n",
      "적절함\n"
     ]
    }
   ],
   "source": [
    "inputs = {\n",
    "    \"question\": query,\n",
    "    \"documents\": documents[0],\n",
    "    \"generation\": generation,\n",
    "}\n",
    "\n",
    "output = grade_generation_v_documents_and_question(inputs)\n",
    "print(output)"
   ]
  },
  {
   "cell_type": "markdown",
   "id": "9037c7a3-26c9-4081-8932-99a84ca98d01",
   "metadata": {},
   "source": [
    "## Build Graph"
   ]
  },
  {
   "cell_type": "code",
   "execution_count": 48,
   "id": "eac039b4-9225-4aef-a6c1-8ecd02b47b48",
   "metadata": {},
   "outputs": [],
   "source": [
    "A = \"A _ 검색\"\n",
    "B = \"B _ 문서 평가\"\n",
    "C = \"C _ 생성\""
   ]
  },
  {
   "cell_type": "code",
   "execution_count": 51,
   "id": "5ecc1e32-8cf4-4181-8b11-28e7cf7a9efa",
   "metadata": {},
   "outputs": [
    {
     "ename": "NameError",
     "evalue": "name 'retrieve' is not defined",
     "output_type": "error",
     "traceback": [
      "\u001b[1;31m---------------------------------------------------------------------------\u001b[0m",
      "\u001b[1;31mNameError\u001b[0m                                 Traceback (most recent call last)",
      "Cell \u001b[1;32mIn[51], line 4\u001b[0m\n\u001b[0;32m      1\u001b[0m workflow \u001b[38;5;241m=\u001b[39m StateGraph(GraphState)\n\u001b[0;32m      3\u001b[0m \u001b[38;5;66;03m# Define the nodes\u001b[39;00m\n\u001b[1;32m----> 4\u001b[0m workflow\u001b[38;5;241m.\u001b[39madd_node(A, \u001b[43mretrieve\u001b[49m)  \u001b[38;5;66;03m# retrieve\u001b[39;00m\n\u001b[0;32m      5\u001b[0m workflow\u001b[38;5;241m.\u001b[39madd_node(B, grade_documents)  \u001b[38;5;66;03m# grade documents\u001b[39;00m\n\u001b[0;32m      6\u001b[0m workflow\u001b[38;5;241m.\u001b[39madd_node(C, generate)  \u001b[38;5;66;03m# generatae\u001b[39;00m\n",
      "\u001b[1;31mNameError\u001b[0m: name 'retrieve' is not defined"
     ]
    }
   ],
   "source": [
    "workflow = StateGraph(GraphState)\n",
    "\n",
    "# Define the nodes\n",
    "workflow.add_node(A, retrieve)  # retrieve\n",
    "workflow.add_node(B, grade_documents)  # grade documents\n",
    "workflow.add_node(C, generate)  # generatae"
   ]
  },
  {
   "cell_type": "code",
   "execution_count": 395,
   "id": "8d4085e1-7114-4706-a89c-861cfdf7cf1d",
   "metadata": {},
   "outputs": [],
   "source": [
    "# Build graph\n",
    "workflow.add_edge(START, A)\n",
    "workflow.add_edge(A, B)\n",
    "workflow.add_edge(B, C)\n",
    "\n",
    "workflow.add_conditional_edges(\n",
    "    C,\n",
    "    grade_generation_v_documents_and_question,\n",
    "    {\n",
    "        \"비적절함\": C,\n",
    "        \"적절함\": END,\n",
    "    },\n",
    ")\n",
    "\n",
    "# Compile\n",
    "app = workflow.compile()"
   ]
  },
  {
   "cell_type": "code",
   "execution_count": 396,
   "id": "87cc3ec0-d34c-4057-a8de-84bcb437a5cd",
   "metadata": {},
   "outputs": [
    {
     "data": {
      "image/jpeg": "[encoded data removed]",
      "text/plain": [
       "<IPython.core.display.Image object>"
      ]
     },
     "metadata": {},
     "output_type": "display_data"
    }
   ],
   "source": [
    "from IPython.display import Image, display\n",
    "\n",
    "try:\n",
    "    display(\n",
    "        Image(app.get_graph(xray=True).draw_mermaid_png())\n",
    "    )  # 실행 가능한 객체의 그래프를 mermaid 형식의 PNG로 그려서 표시합니다. xray=True는 추가적인 세부 정보를 포함합니다.\n",
    "except:\n",
    "    # 이 부분은 추가적인 의존성이 필요하며 선택적으로 실행됩니다.\n",
    "    pass"
   ]
  },
  {
   "cell_type": "markdown",
   "id": "251c7560-9303-4632-82d6-90042a6cf9ca",
   "metadata": {},
   "source": [
    "## 실행"
   ]
  },
  {
   "cell_type": "code",
   "execution_count": 397,
   "id": "33ca8adb-832f-4576-a78e-a42956ca8a00",
   "metadata": {},
   "outputs": [
    {
     "name": "stdout",
     "output_type": "stream",
     "text": [
      "애플이 개발하고 있는 신기술은 무엇입니까?\n"
     ]
    }
   ],
   "source": [
    "# query = \"사상 최고 해상도로 관측한 블랙홀의 이름은 무엇입니까?\"\n",
    "# query = \"SK하이닉스가 최근 개발한 것은 무엇입니까?\"\n",
    "\n",
    "print(query)\n",
    "\n",
    "# Run\n",
    "inputs = {\n",
    "    \"question\": query,\n",
    "    \"retriever\": retriever,\n",
    "    \"documents\": documents,\n",
    "}"
   ]
  },
  {
   "cell_type": "code",
   "execution_count": 398,
   "id": "338c9aec-b0e7-4380-be56-621494dec11d",
   "metadata": {
    "scrolled": true
   },
   "outputs": [
    {
     "name": "stdout",
     "output_type": "stream",
     "text": [
      "\n",
      "---------------------------------------------------------------------------\n",
      "\n",
      "\n",
      ">>> A _ 문서 검색 <<<\n",
      "\n",
      "\t> Retrived Documents: 3\n",
      "\t> Retrived Documents 0: SK하이닉스, ‘10나노급 6세대 D램’ 세계 첫 개발   속도 11%· 전력효율 9% 향상    SK하이닉스가 현존하는 D램 중 가장 미세화된 ‘10나노(㎚·1나노는 10억 분의 1m)급 6세대(1c)’ 기술을 세계 최초로 개발했다고 29일 밝혔다. 메모리 선폭을 의미하는 나노 수치가 작아질수록 처리 속도는 빨라지고, 소비전력은 줄어든다. 11∼12나노인...\n",
      "\n",
      "\n",
      "\t> Retrived Documents 1: ‘카툭튀’ 없는 렌즈부터 성격 가진 로봇까지… 애플이 내놓을 신기술은   아이폰16 페이스 ID 카메라에 ‘메타렌즈’ 적용설스스로 주행하며 이용자 돕는 가정용 로봇도 개발 중’시리’ 이용할 수 있는 스마트 반지 기술도 공개    아이폰 카메라에 여러 개의 굴절 렌즈가 적용돼 있는 모습./애플 제공        애플이 ‘카툭튀(카메라가 툭 튀어나온 부분)’ ...\n",
      "\n",
      "\n",
      "\t> Retrived Documents 2: [사이테크+] '사건의 지평선 망원경' 사상 최고 해상도로 M87* 블랙홀 관측   국제 연구팀 \"ETH에 0.87㎜ 파장 첫 적용…블랙홀 관측 사상 최고 해상도\" (서울=연합뉴스) 이주영 기자 = 전 세계 전파망원경들을 연결한 지구 크기 가상 망원경인 '사건의 지평선 망원경'(ETH)이 0.87㎜ 파장, 345㎓ 주파수로 M87 은하의 중앙 블랙홀(M87...\n",
      "\n",
      "\n",
      "노드 'A _ 검색' 완료. (0.436s)\n",
      "\n",
      "===========================================================================\n",
      "\n",
      "\n",
      "---------------------------------------------------------------------------\n",
      "\n",
      ">>> B _ 문서 평가: 질문과 관련이 있는지 확인 <<<\n",
      "\n",
      "\t> 문서 0 ... 확인중\n",
      "\t...Flag: {'flag': '예'}\n",
      "\t...관련있음\n",
      "\n",
      "\t> 문서 1 ... 확인중\n",
      "\t...Flag: {'flag': '예'}\n",
      "\t...관련있음\n",
      "\n",
      "\t> 문서 2 ... 확인중\n",
      "\t...Flag: {'flag': '예'}\n",
      "\t...관련있음\n",
      "\n",
      "노드 'B _ 문서 평가' 완료. (468.221s)\n",
      "\n",
      "===========================================================================\n",
      "\n",
      "\n",
      "---------------------------------------------------------------------------\n",
      "\n",
      "\n",
      ">>> C _ 답변 생성 <<<\n",
      "\n",
      "\t> Generation: \"ETH는 칠레 아타카마 사막의 대형 전파망원경 \\'아타카마 대형 밀리미터/서브밀리미터 집합체\\'(ALMA), 스페인 IRAM 30m 망원경, 프랑스 북부 확장 밀리미터 어레이(NOEMA), 그린란드 망원경 등 전파망원경 15~20개를 연결해 만든 지구 크기의 거대한 가상 망원경입니다. 이 연구에서는 0.87㎜ 파장 관측에 성공했지만, 데이터가 부족해 아직 이미지를 얻지는 못했습니다.\"\n",
      "\n",
      "---------------------------------------------------------------------------\n",
      "\n",
      ">>> 조건: 사실에 기반된 답변인지 확인 <<<\n",
      "\n",
      "\t...flag: {'flag': '예'}\n",
      "\t...생성된 답변이 문서에 기반한 사실임.\n",
      "\t...확인 결과: {'flag': '예'}\n",
      "\t...답변이 적절함.\n",
      "노드 'C _ 생성' 완료. (65.077s)\n",
      "\n",
      "===========================================================================\n",
      "\n",
      "8.896 min\n"
     ]
    }
   ],
   "source": [
    "start_time = time.time()\n",
    "node_time = start_time\n",
    "\n",
    "for output in app.stream(inputs):\n",
    "    for key, value in output.items():\n",
    "        current_time = time.time()\n",
    "        elapsed_time = current_time - node_time\n",
    "        node_time = current_time\n",
    "        print(f\"노드 '{key}' 완료. ({elapsed_time:.3f}s)\")\n",
    "    print(f\"\\n{'=====' * 15}\\n\")\n",
    "\n",
    "end_time = time.time()\n",
    "elapsed_time = end_time - start_time\n",
    "print(f\"{elapsed_time / 60:.3f} min\")"
   ]
  },
  {
   "cell_type": "code",
   "execution_count": 307,
   "id": "c380aadd-cfb3-487f-94c7-5ba736a0fa7d",
   "metadata": {},
   "outputs": [
    {
     "name": "stdout",
     "output_type": "stream",
     "text": [
      "SK하이닉스는 '10나노급 6세대 D램' 세계 첫 개발을 통해 '11%· 전력효율 9%'의 기술을 세계 최초로 개발하였습니다.\n"
     ]
    }
   ],
   "source": [
    "print(f\"{value['generation']}\")"
   ]
  },
  {
   "cell_type": "code",
   "execution_count": 134,
   "id": "23463804-1c6f-4b22-b51f-106a8c4f33ab",
   "metadata": {},
   "outputs": [
    {
     "name": "stdout",
     "output_type": "stream",
     "text": [
      "8.035 min\n"
     ]
    }
   ],
   "source": [
    "print(f\"{elapsed_time / 60:.3f} min\")"
   ]
  },
  {
   "cell_type": "code",
   "execution_count": null,
   "id": "97d101f5-c55b-452c-931d-8769ca484269",
   "metadata": {},
   "outputs": [],
   "source": [
    "prompt = PromptTemplate(\n",
    "    template=\"\"\"주어진 질문과 이 질문과 관련된 자료 당신은 주어진 문장을 주어-서술어-목적어로 나누는 일을 합니다. \\n\n",
    "    아래의 주어진 문장을 주어-서술어-목적어로 나누어 주세요.\n",
    "    \\n\\n\\n\n",
    "    주어진 문장: {context} \\n\\n\\n\n",
    "     \\n\\n\\n\n",
    "     JSON 형태로 답해주세요\"\"\",\n",
    "    input_variables=[\"context\"],\n",
    ")"
   ]
  },
  {
   "cell_type": "code",
   "execution_count": null,
   "id": "845d0130-ca54-40a3-8830-d143b4b7d7d9",
   "metadata": {},
   "outputs": [],
   "source": [
    "llm = ChatOllama(model=model_name, format=\"json\", temperature=temperature)\n",
    "rag_triplet = prompt | llm | JsonOutputParser()"
   ]
  },
  {
   "cell_type": "code",
   "execution_count": 245,
   "id": "4b38020e-e5de-4c23-a66b-52c5ad9646f0",
   "metadata": {},
   "outputs": [
    {
     "data": {
      "text/plain": [
       "'qwen2:0.5b'"
      ]
     },
     "execution_count": 245,
     "metadata": {},
     "output_type": "execute_result"
    }
   ],
   "source": [
    "model_name"
   ]
  },
  {
   "cell_type": "code",
   "execution_count": 254,
   "id": "a141e046-83b2-4fda-b380-5be8ad3a83e2",
   "metadata": {},
   "outputs": [],
   "source": [
    "prompt = PromptTemplate(\n",
    "    template=template_triplet,\n",
    "    input_variables=[\"candidate\", \"question\"],\n",
    ")\n",
    "\n",
    "# llm = ChatOllama(model=model_name, temperature=0.1)\n",
    "llm = ChatOllama(model=\"gemma2:2b\", temperature=0.1)\n",
    "rag_triplet = prompt | llm | StrOutputParser()"
   ]
  },
  {
   "cell_type": "code",
   "execution_count": 257,
   "id": "4822641e-f552-42b9-9572-667bb9118313",
   "metadata": {
    "scrolled": true
   },
   "outputs": [
    {
     "data": {
      "text/plain": [
       "'[사이테크+] \\'사건의 지평선 망원경\\' 사상 최고 해상도로 M87* 블랙홀 관측\\n\\n\\n국제 연구팀 \"ETH에 0.87㎜ 파장 첫 적용…블랙홀 관측 사상 최고 해상도\" (서울=연합뉴스) 이주영 기자 = 전 세계 전파망원경들을 연결한 지구 크기 가상 망원경인 \\'사건의 지평선 망원경\\'(ETH)이 0.87㎜ 파장, 345㎓ 주파수로 M87 은하의 중앙 블랙홀(M87*)을 사상 최고 해상도로 관측하는 데 성공했다.    연구팀은 0.87㎜ 파장(345㎓)을 초장기선 전파간섭계(VLBI)에 처음으로 성공적으로 적용했다며 앞으로 블랙홀 이미지 해상도를 50% 이상 높여 초대질량 블랙홀의 경계 바로 바깥 영역까지 선명하게 포착할 수 있다고 말했다.\\n\\n\\n\\n사상 최고 해상도로 관측한 M87 은하 블랙홀사건의 지평선 망원경(ETH)이 86㎓(빨간색)와 230㎓(녹색), 345㎓(파란색) 파장으로 관측한 M87 은하 중심부 블랙홀(M87*) 모습과 이를 하나로 합성한 시뮬레이션한 사진. 345㎓ 파장 관측에 성공하면서 이미지가 선명해지면서 이전에는 구별하기 어려웠던 구조, 크기, 모양이 뚜렷하게 드러났다. [EHT, D. Pesce, A. Chael 제공. 재판매 및 DB 금지]사건의 지평선 망원경 협력단(ETH Collaboration)은 28일 국제학술지 천문학 저널(The Astronomical Journal)에서 2019년 M87* 블랙홀과 2022년 궁수자리 A 블랙홀(Sgr A*)의 이미지를 포착한 ETH의 관측 전파를 345㎓로 확장, 역대 최고 해상도로 M87* 블랙홀을 관측하는 데 성공했다고 밝혔다.    연구 공동 책임자인 미국 제트추진연구소(JPL) 알렉산더 레이먼드 박사는 \"기존 M87* 블랙홀과 Sgr A* 블랙홀 관측은 1.3㎜ 파장(230㎓)을 이용한 것으로 블랙홀 중력에 의해 빛이 휘어져 생긴 밝은 고리가 흐릿하게 보인다\"며 \"0.87㎜(345㎓) 파장에서는 이미지가 더 선명하고 세밀해져 이전엔 확인이 불가능했던 새로운 특성도 발견할 수 있을 것\"이라고 말했다.\\n\\n\\n\\n230㎓ 주파수(왼쪽)와 345㎓로 관측한 M87 블랙홀전 세계 대형 전파망원경들을 연결해 지구 크기 망원경을 구성한 \\'사건의 지평선 망원경\\'(ETH)이 0.87㎜ 파장에 해당하는 345㎓의 주파수로 M87 은하 중앙 블랙홀(M87*)을 사상 최고 해상도로 관측하는 데 성공했다. [EHT, D. Pesce, A. Chael 제공. 재판매 및 DB 금지]ETH는 칠레 아타카마 사막의 대형 전파망원경 \\'아타카마 대형 밀리미터/서브밀리미터 집합체\\'(ALMA), 스페인의 IRAM 30미터 망원경, 프랑스 북부 확장 밀리미터 어레이(NOEMA), 그린란드 망원경 등 전 세계 전파망원경 15~20개를 연결해 만든 지구 크기의 거대한 가상 망원경이다.          관측 이미지의 해상도를 높이려면 더 큰 망원경을 사용하거나 간섭계 역할을 하는 관측소 간 거리를 더 멀리 떨어뜨려야 한다. 하지만 ETH는 관측소 간 거리가 이미 최대치이기 때문에 연구팀은 해상도를 더 높이기 위해 더 짧은 파장으로 빛을 관측하는 방법을 모색해 왔다.    그러나 0.87㎜ 파장은 1.3㎜ 파장보다 대기 중의 수증기에 의해 훨씬 많이 흡수되기 때문에 전파망원경이 블랙홀이 방출하는 짧은 파장의 전파를 수신하기 어렵다는 문제점이 있다.\\n\\n\\n\\n세계 전파망원경 연결한 사건의 지평선 망원경(ETH)ETH는 칠레 아타카마 사막의 대형 전파망원경 \\'아타카마 대형 밀리미터/서브밀리미터 집합체\\'(ALMA), 스페인 IRAM 30ｍ 망원경, 프랑스 북부 확장 밀리미터 어레이(NOEMA), 그린란드 망원경 등 전파망원경 15~20개를 연결해 만든 지구 크기의 가상 망원경이다. 사진은 이번 연구에 사용된 6개의 망원경.[CfA/SAO, Mel Weiss 제공. 재판매 및 DB 금지]연구팀은 이 연구에서 ETH 망원경 중 ALMA와 아타카마 패스파인더 장치(APEX), 스페인 IRAM 30ｍ 망원경 등 6개를 활용, 0.87㎜ 파장의 전파를 이용해 M87* 블랙홀을 해상도 19 마이크로아크초(microarcsecond)로 관측하는 데 성공했다.    연구팀은 그러나 이 연구는 ETH 일부만 활용한 예비 실험으로 0.87㎜ 파장 관측에는 성공했지만, 데이터가 부족해 아직 이미지를 얻지는 못했다며 전체 ETH를 활용하면 해상도를 지구에서 달 표면의 병뚜껑도 볼 수 있는 수준인 13 마이크로아크초까지 높일 수 있을 것이라고 설명했다.    연구 공동 책임자인 하버드·스미스소니언 천체물리학 센터(CfA) 셰퍼드 도엘만 박사는 \"다양한 파장으로 블랙홀 주변 가스를 관측하면 블랙홀이 어떻게 물질을 끌어당기고 축적하는지, 어떻게 강력한 제트를 발사하는지에 대한 수수께끼도 풀 수 있을 것\"이라고 말했다.◆ 출처 : The Astronomical Journal, A.W. Raymond, S. Doeleman, et al., \\'First Very Long Baseline Interferometry Detections at 870㎛\\', https://doi.org/10.3847/1538-3881/ad5bdbscitech@yna.co.kr'"
      ]
     },
     "execution_count": 257,
     "metadata": {},
     "output_type": "execute_result"
    }
   ],
   "source": [
    "documents[3].page_content"
   ]
  },
  {
   "cell_type": "code",
   "execution_count": 251,
   "id": "411fa12e-260a-4cac-a829-1b58f002b93e",
   "metadata": {},
   "outputs": [
    {
     "data": {
      "text/plain": [
       "'애플이 개발하고 있는 신기술은 무엇입니까?'"
      ]
     },
     "execution_count": 251,
     "metadata": {},
     "output_type": "execute_result"
    }
   ],
   "source": [
    "query"
   ]
  },
  {
   "cell_type": "code",
   "execution_count": 252,
   "id": "d6178058-db11-48cc-b9df-476bd9564c66",
   "metadata": {},
   "outputs": [
    {
     "name": "stdout",
     "output_type": "stream",
     "text": [
      "위 링크에서 제공된 정보를 통해 이 연구는 6개의 망원경을 사용하여 M87*블랙홀을 관측하고, 이를 통해 해상도가 19마리크로아크초로 높이는 수준까지 관찰할 수 있는 지평선 망원경(ETH)를 발견하였습니다. 이 연구는 추출 작업이므로, 실제 결과를 확인하는 것이 중요합니다.\n"
     ]
    }
   ],
   "source": [
    "gen_triplet = rag_triplet.invoke({\"candidate\": documents[3], \"question\": query})\n",
    "print(gen_triplet)"
   ]
  },
  {
   "cell_type": "code",
   "execution_count": 253,
   "id": "97f443c3-0802-4fae-a0d1-cc86db4849a9",
   "metadata": {},
   "outputs": [
    {
     "name": "stdout",
     "output_type": "stream",
     "text": [
      "위의 연구 결과를 통해 주 성공했다.\n"
     ]
    }
   ],
   "source": [
    "gen_triplet = rag_triplet.invoke({\"candidate\": documents[3], \"question\": query})\n",
    "print(gen_triplet)"
   ]
  },
  {
   "cell_type": "code",
   "execution_count": 258,
   "id": "c9b0a924-69b8-49e1-b15c-e0eafd7311b6",
   "metadata": {},
   "outputs": [
    {
     "name": "stdout",
     "output_type": "stream",
     "text": [
      "## 지식 그래프:\n",
      "\n",
      "* **망원경:** ETH (0.87mm 파장), ALMA, APEX, IRAM 30m, NOEMA, Greenlanrd 망원경\n",
      "* **관측 목표:** M87 은하 중앙 블랙홀(M87*) 해상도 최고화\n",
      "* **해상도:** 19 마이크로아크초 (예비 실험)\n",
      "* **목표 해상도:** 13 마이크로아크초 (ETH 전체 활용 가능성)\n",
      "\n",
      "\n",
      "\n"
     ]
    }
   ],
   "source": [
    "gen_triplet = rag_triplet.invoke({\"candidate\": documents[3].page_content, \"question\": query})\n",
    "print(gen_triplet)"
   ]
  },
  {
   "cell_type": "code",
   "execution_count": 259,
   "id": "6b2db338-4082-4097-8236-392cad0040de",
   "metadata": {},
   "outputs": [
    {
     "name": "stdout",
     "output_type": "stream",
     "text": [
      "{'flag': '아니오'}\n",
      "{'flag': '아니오'}\n",
      "{'flag': '아니오'}\n",
      "{'flag': '아니오'}\n",
      "{'flag': '아니오'}\n",
      "{'flag': '아니오'}\n",
      "{'flag': '아니오'}\n",
      "{'flag': '아니오'}\n",
      "{'flag': '아니오'}\n",
      "{'flag': '아니오'}\n"
     ]
    }
   ],
   "source": [
    "for i in range(10):\n",
    "    print(retrieval_grader.invoke({\n",
    "        \"question\": query,\n",
    "        \"document\": gen_triplet\n",
    "    }))"
   ]
  },
  {
   "cell_type": "code",
   "execution_count": 101,
   "id": "1fa900e6-98ae-499b-9b56-8e1249b454e0",
   "metadata": {},
   "outputs": [],
   "source": [
    "claim = \"\"\"(\"애플\", \"완화해주는 기술\", \"메타렌즈\")\n",
    "(\"애플\", \"카툭튀 현상 완화\", \"스마트폰 카메라 두께 줄여 '카툭튀' 현상 완화\")\n",
    "(\"애플\", \"아이폰16 프로 페이스 ID 카메라\", \"메타렌즈 적용\")\n",
    "(\"애플\", \"AI 로봇\", \"가정용 AI 로봇 개발\")\"\"\""
   ]
  },
  {
   "cell_type": "code",
   "execution_count": 102,
   "id": "dc5c955b-76bc-44bb-904d-2d57807eb99d",
   "metadata": {},
   "outputs": [],
   "source": [
    "template = \"\"\"주어진 질문과 관련된 참고 자료(여러 문단으로 구성된 목록)가 있고, 질문에 대한 주장이 (\"주어\", \"서술어\", \"목적어\") 형식의 삼중항으로 표현되어 있을 때, 참고 자료를 바탕으로 해당 주장이 참인지 여부를 확인하세요.\n",
    "\n",
    "참고 자료 중 하나라도 주장을 지지하는 경우 'Entailment'라고 답하세요.\n",
    "참고 자료에 주장을 지지하는 내용은 없지만, 어떤 문단이 주장을 반박하는 경우 'Contradiction'이라고 답하세요.\n",
    "참고 자료에서 주장을 지지하지도 반박하지도 않거나, 주장을 검증할 정보를 포함하지 않은 경우 'Neutral'이라고 답하세요.\n",
    "\n",
    "판단을 위해 당신의 지식을 사용하지 말고, 참고 자료와 주장을 비교하여 답을 도출하세요.\n",
    "\n",
    "### 질문\n",
    "{question}\n",
    "\n",
    "### 참고\n",
    "{reference}\n",
    "\n",
    "### 주장\n",
    "{claim}\n",
    "\n",
    "답변은 항상 ['Entailment', 'Neutral', 'Contradiction'] 중 하나의 단어로만 작성하세요. \n",
    "설명이나 개인적인 추론을 덧붙이지 마세요.\n",
    "\"\"\""
   ]
  },
  {
   "cell_type": "code",
   "execution_count": null,
   "id": "9d5db689-f35f-4e0e-b616-ad2f2e22d5aa",
   "metadata": {},
   "outputs": [],
   "source": [
    "prompt = PromptTemplate(\n",
    "    template=template,\n",
    "    input_variables=[\"question\", \"reference\", \"claim\"]\n",
    ")\n",
    "\n",
    "rag_checker = prompt | llm | StrOutputParser()"
   ]
  },
  {
   "cell_type": "code",
   "execution_count": 106,
   "id": "077fd99e-6011-41c2-9892-7f139af6a83c",
   "metadata": {},
   "outputs": [
    {
     "name": "stdout",
     "output_type": "stream",
     "text": [
      "Entailment \n",
      "\n"
     ]
    }
   ],
   "source": [
    "checked = rag_checker.invoke({\"question\": question, \"reference\": candidate, \"claim\":claim})\n",
    "print(checked)"
   ]
  },
  {
   "cell_type": "code",
   "execution_count": 116,
   "id": "fdc6c876-715e-40c1-91d5-4ebedb807e9d",
   "metadata": {},
   "outputs": [],
   "source": [
    "claim_contradiction = \"\"\"\n",
    "(\"KISA\", \"새로운 제품 발표\", \"아이폰\")\n",
    "\"\"\""
   ]
  },
  {
   "cell_type": "code",
   "execution_count": 120,
   "id": "f9db6448-1d91-4984-b83d-34bdf18952da",
   "metadata": {},
   "outputs": [],
   "source": [
    "claim_contradiction = \"\"\"\n",
    "(\"KISA\", \"인수합병\", \"애플 구글\")\n",
    "\"\"\""
   ]
  },
  {
   "cell_type": "code",
   "execution_count": 121,
   "id": "41f6f300-63ab-462d-a374-ae3eaa9c2346",
   "metadata": {},
   "outputs": [
    {
     "name": "stdout",
     "output_type": "stream",
     "text": [
      "Neutral \n",
      "\n"
     ]
    }
   ],
   "source": [
    "checked = rag_checker.invoke({\n",
    "    \"question\": \"KISA의 이번 세미나 주제는 무엇인가요?\", \n",
    "    \"reference\": \"KISA는 이번 세미나에서 ‘AI가 만든 사이버위협, AI가 막는 사이버위협’이라는 주제로 AI 기술의 순기능과 역기능을 조명한다. AI와 인간이 상생할 수 있는 안전한 환경 조성을 위해 다양한 세션을 제공할 예정이다.\",\n",
    "    \"claim\": claim_contradiction})\n",
    "print(checked)"
   ]
  },
  {
   "cell_type": "code",
   "execution_count": 122,
   "id": "f8113aca-ef56-4c95-b150-a469a0609365",
   "metadata": {},
   "outputs": [],
   "source": [
    "template = \"\"\"당신은 사용자의 질문에 답하는 일을 합니다. \\n\n",
    "    사용자의 질문는 여기에 있습니다: {question} \\n\n",
    "    참고문서는 여기에 있습니다: {context} \\n\n",
    "    참고문서를 사용하여 질문에 답해주세요. \\n\n",
    "    만약 당신이 답을 모른다면, 간단히 모른다고 답해주세요. \\n\n",
    "    질문의 형태가 아닌 설명문으로 답해주세요. \\n\n",
    "    최대 3문장으로 간단하게 답해주세요. \\n\\n\\n\n",
    "    답:\"\"\""
   ]
  },
  {
   "cell_type": "code",
   "execution_count": 123,
   "id": "9707550e-c185-4aaa-9341-60f34918d34c",
   "metadata": {},
   "outputs": [],
   "source": [
    "prompt = PromptTemplate(\n",
    "    template=template,\n",
    "    input_variables=[\"context\", \"question\"],\n",
    ")\n",
    "\n",
    "llm = ChatOllama(model=model_name, temperature=0.1)\n",
    "rag_chain = prompt | llm | StrOutputParser()"
   ]
  },
  {
   "cell_type": "code",
   "execution_count": 126,
   "id": "04414065-123e-4f9d-beb5-19a776aed5eb",
   "metadata": {},
   "outputs": [
    {
     "data": {
      "text/plain": [
       "'(\"애플\", \"완화해주는 기술\", \"메타렌즈\")\\n(\"애플\", \"카툭튀 현상 완화\", \"스마트폰 카메라 두께 줄여 \\'카툭튀\\' 현상 완화\")\\n(\"애플\", \"아이폰16 프로 페이스 ID 카메라\", \"메타렌즈 적용\")\\n(\"애플\", \"AI 로봇\", \"가정용 AI 로봇 개발\")'"
      ]
     },
     "execution_count": 126,
     "metadata": {},
     "output_type": "execute_result"
    }
   ],
   "source": [
    "claim"
   ]
  },
  {
   "cell_type": "code",
   "execution_count": 127,
   "id": "f869446d-4dbf-448d-b1e1-e83b21473beb",
   "metadata": {},
   "outputs": [
    {
     "name": "stdout",
     "output_type": "stream",
     "text": [
      "[('애플', '완화해주는 기술', '메타렌즈'), ('애플', '카툭튀 현상 완화', \"스마트폰 카메라 두께 줄여 '카툭튀' 현상 완화\"), ('애플', '아이폰16 프로 페이스 ID 카메라', '메타렌즈 적용'), ('애플', 'AI 로봇', '가정용 AI 로봇 개발')]\n"
     ]
    }
   ],
   "source": [
    "# Replace newline characters with commas to make it a valid list of tuples\n",
    "formatted_string = \"[\" + claim.replace('\\n', ', ') + \"]\"\n",
    "\n",
    "# Convert the string to a list of tuples\n",
    "tuple_list = eval(formatted_string)\n",
    "\n",
    "# Print the result\n",
    "print(tuple_list)"
   ]
  },
  {
   "cell_type": "code",
   "execution_count": 130,
   "id": "96a7fe0d-b154-4e93-b5e1-3a869ba71dd0",
   "metadata": {},
   "outputs": [
    {
     "data": {
      "text/plain": [
       "'애플이 ‘카툭튀(카메라가 툭 튀어나온 부분)’ 현상을 완화해 주는 메타렌즈를 아이폰에 적용하고, 사람처럼 성격을 가진 가정용 인공지능(AI) 로봇 출시를 검토 중인 것으로 전해졌다.\\n29일 디지타임스 등 외신과 업계에 따르면 애플은 다음 달 공개하는 아이폰16 프로 페이스 ID 카메라에 ‘메타렌즈’를 적용한 것으로 알려졌다. 여러 개의 굴절 렌즈를 넣어 빛을 모아야 하는 기존 카메라와 달리, 메타렌즈는 하나의 렌즈만으로 동일한 기능을 할 수 있다. 스마트폰 카메라의 두께를 줄여 ‘카툭튀’ 현상을 완화할 수 있다.\\n페이스 ID 카메라는 사진을 찍는 용도가 아닌 데다, 전면에 크기가 작아 기기의 두께를 획기적으로 줄이는데 영향을 미치지는 못할 것으로 보인다. 다만 애플 입장에서는 후면 카메라에 메타렌즈를 적용하기 전, 성능을 시험하는 용도로 활용할 수 있다.\\n애플은 가정용 AI 로봇도 개발하고 있는 것으로 전해졌다. 이 로봇은 애플이 올해 포기한 자율주행차 프로젝트에서 개발한 기술을 활용, 이용자를 따라다니면서 음성 검색 등의 기능을 지원할 것으로 보인다. AI 비서 시리에 인간과 비슷한 성격을 더해 조금 더 자연스러운 대화를 지원하는 것이 특징이다.'"
      ]
     },
     "execution_count": 130,
     "metadata": {},
     "output_type": "execute_result"
    }
   ],
   "source": [
    "candidate"
   ]
  },
  {
   "cell_type": "code",
   "execution_count": 131,
   "id": "72a54bcb-8470-403d-b2c8-e55e59f0576a",
   "metadata": {},
   "outputs": [
    {
     "name": "stdout",
     "output_type": "stream",
     "text": [
      "\"카FormatException\" 현상과 메타렌즈를 완화하는 기술을 사용하여 AI 로봇 출시를 검토 중인 것으로 알려졌다.\n"
     ]
    }
   ],
   "source": [
    "gen_qa = rag_chain.invoke({\"question\": question, \"context\":candidate})\n",
    "print(gen_qa)"
   ]
  },
  {
   "cell_type": "code",
   "execution_count": 135,
   "id": "52dee5eb-5a65-4cd0-8d3d-6b40b803c0ca",
   "metadata": {},
   "outputs": [
    {
     "name": "stdout",
     "output_type": "stream",
     "text": [
      "\"카툭튀 현상 완화 기술은 메타렌즈입니다.\"\n"
     ]
    }
   ],
   "source": [
    "gen_qa = rag_chain.invoke({\"question\": question, \"context\":claim})\n",
    "print(gen_qa)"
   ]
  },
  {
   "cell_type": "code",
   "execution_count": 137,
   "id": "516c7664-ce0b-4131-b51c-66ef4488b01d",
   "metadata": {
    "collapsed": true,
    "jupyter": {
     "outputs_hidden": true
    },
    "scrolled": true
   },
   "outputs": [
    {
     "data": {
      "text/plain": [
       "Document(metadata={'source': 'https://n.news.naver.com/mnews/article/366/0001014658'}, page_content='‘카툭튀’ 없는 렌즈부터 성격 가진 로봇까지… 애플이 내놓을 신기술은\\n\\n\\n아이폰16 페이스 ID 카메라에 ‘메타렌즈’ 적용설스스로 주행하며 이용자 돕는 가정용 로봇도 개발 중’시리’ 이용할 수 있는 스마트 반지 기술도 공개\\n\\n\\n\\n아이폰 카메라에 여러 개의 굴절 렌즈가 적용돼 있는 모습./애플 제공        애플이 ‘카툭튀(카메라가 툭 튀어나온 부분)’ 현상을 완화해 주는 메타렌즈를 아이폰에 적용하고, 사람처럼 성격을 가진 가정용 인공지능(AI) 로봇 출시를 검토 중인 것으로 전해졌다.29일 디지타임스 등 외신과 업계에 따르면 애플은 다음 달 공개하는 아이폰16 프로 페이스 ID 카메라에 ‘메타렌즈’를 적용한 것으로 알려졌다. 여러 개의 굴절 렌즈를 넣어 빛을 모아야 하는 기존 카메라와 달리, 메타렌즈는 하나의 렌즈만으로 동일한 기능을 할 수 있다. 스마트폰 카메라의 두께를 줄여 ‘카툭튀’ 현상을 완화할 수 있다.페이스 ID 카메라는 사진을 찍는 용도가 아닌 데다, 전면에 크기가 작아 기기의 두께를 획기적으로 줄이는데 영향을 미치지는 못할 것으로 보인다. 다만 애플 입장에서는 후면 카메라에 메타렌즈를 적용하기 전, 성능을 시험하는 용도로 활용할 수 있다.애플은 가정용 AI 로봇도 개발하고 있는 것으로 전해졌다. 이 로봇은 애플이 올해 포기한 자율주행차 프로젝트에서 개발한 기술을 활용, 이용자를 따라다니면서 음성 검색 등의 기능을 지원할 것으로 보인다. AI 비서 시리에 인간과 비슷한 성격을 더해 조금 더 자연스러운 대화를 지원하는 것이 특징이다.\\n\\n\\n\\n애플 에어팟 프로2./애플 제공        웨어러블(입는) 기기 관련 기술도 꾸준히 개발 중이다. 애플은 이달 스마트 반지 ‘애플 링’에 AI 비서 시리를 연결하는 특허를 공개했다. 애플 링에 마이크와 스피커를 적용해 이용자의 말을 인식하고 대답하는 기술이다. 심박수를 측정하는 등 헬스케어 용도에 머무르지 않고, 독립적인 기기로 만들어 활용도를 높이겠다는 구상이다. 애플은 다음 달 공개하는 iOS 18을 통해 머리를 흔드는 것만으로 걸려 오는 전화를 수락하거나 거절할 수 있는 기술을 적용할 예정이다.최근 애플은 주력 제품의 수익이 감소세에 접어들었다. 올 2분기 아이폰 판매수익은 52조4199억원으로 전년 동기 대비 0.8% 감소했다. 같은 기간 웨어러블·홈·액세서리 기기 수익은 10조8895억원으로 1.8% 줄었다.박강호 대신증권 연구원은 “중국의 애국 소비, 다양한 중저가형 제품 출시로 애플의 주력 제품인 아이폰 수익이 감소하고 있다”라며 “이 때문에 애플이 새로운 폼팩터(기기 형태)나 신기술이 적용된 기기로 돌파구를 찾고 있는 것”이라고 말했다.')"
      ]
     },
     "execution_count": 137,
     "metadata": {},
     "output_type": "execute_result"
    }
   ],
   "source": [
    "documents[1]"
   ]
  },
  {
   "cell_type": "code",
   "execution_count": 138,
   "id": "122d879c-f8f8-4388-b831-28051c10c810",
   "metadata": {},
   "outputs": [
    {
     "data": {
      "text/plain": [
       "\"애플이 '카툭튀' 현상을 완화해주는 기술은 무엇인가요?\""
      ]
     },
     "execution_count": 138,
     "metadata": {},
     "output_type": "execute_result"
    }
   ],
   "source": [
    "question"
   ]
  },
  {
   "cell_type": "code",
   "execution_count": 139,
   "id": "7c22f82f-d762-49c4-8d90-ac99c9bd8776",
   "metadata": {},
   "outputs": [
    {
     "name": "stdout",
     "output_type": "stream",
     "text": [
      "```\n",
      "(\"애플\", \"완화해주는 기술\", \"메타렌즈\")\n",
      "(\"애플\", \"카툭튀 현상 완화\", \"스마트폰 카메라 두께 줄여서\")\n",
      "(\"애플\", \"가정용 로봇\", \"AI 로봇 출시 검토 중\")\n",
      "(\"애플\", \"AI 비서 시리\", \"인간과 비슷한 성격을 더해 조금 더 자연스러운 대화를 지원\")\n",
      "(\"애플\", \"아이폰 페이스 ID 카메라\", \"‘메타렌즈’ 적용\")\n",
      "(\"애플\", \"AI 로봇\", \"사람처럼 성격을 가진 가정용 인공지능(AI) 로봇 출시 검토 중\")\n",
      "(\"애플\", \"애플 링\", \"AI 비서 시리 연결\")\n",
      "``` \n",
      "\n",
      "\n",
      "\n"
     ]
    }
   ],
   "source": [
    "gen_triplet = rag_triplet.invoke({\"candidate\": documents[1], \"question\": question})\n",
    "print(gen_triplet)"
   ]
  },
  {
   "cell_type": "code",
   "execution_count": 140,
   "id": "10e8338e-393c-401e-8747-54124e6dab1b",
   "metadata": {},
   "outputs": [
    {
     "name": "stdout",
     "output_type": "stream",
     "text": [
      "Entailment \n",
      "\n"
     ]
    }
   ],
   "source": [
    "checked = rag_checker.invoke({\"question\": question, \"reference\": documents[1], \"claim\":gen_triplet})\n",
    "print(checked)"
   ]
  },
  {
   "cell_type": "code",
   "execution_count": 141,
   "id": "11d92844-69c6-4120-9e0d-fe8202cbb0a7",
   "metadata": {},
   "outputs": [
    {
     "name": "stdout",
     "output_type": "stream",
     "text": [
      "## 지식 그래프:\n",
      "\n",
      "* **ETH:**  칠레 아타카마 사막의 대형 전파망원경 '아타카마 대형 밀리미터/서브밀리미터 집합체'(ALMA), 스페인의 IRAM 30미터 망원경, 프랑스 북부 확장 밀리미터 어레이(NOEMA), 그린란드 망원경 등 전 세계 전파망원경 15~20개를 연결해 만든 지구 크기의 가상 망원경.\n",
      "* **연구 목적:** ETH 망원경을 활용하여 M87* 블랙홀 해상도 19 마이크로아크초까지 높이기.\n",
      "* **관측 파장:** 0.87㎜ 파장\n",
      "* **결과:**  ETH 망원경 중 ALMA와 아타카마 패스파인더 장치(APEX), 스페인 IRAM 30m 망원경 등 6개를 활용, 0.87㎜ 파장의 전파를 이용해 M87* 블랙홀을 해상도 19 마이크로아크초로 관측 성공.\n",
      "* **미래 계획:** ETH 일부만 활용한 예비 실험이지만, 데이터 부족으로 이미지 얻기 어려움. 전체 ETH 활용 시 해상도 지구에서 달 표면의 병뚜껑까지 볼 수 있는 수준인 13 마이크로아크초까지 높일 가능성.\n",
      "* **연구자:** 하버드·스미스소니언 천체물리학 센터(CfA) 셰퍼드 도엘만 박사 \n",
      "\n",
      "\n",
      "\n"
     ]
    }
   ],
   "source": [
    "gen_triplet_doc2 = rag_triplet.invoke({\"candidate\": documents[2], \"question\": question})\n",
    "print(gen_triplet_doc2)"
   ]
  },
  {
   "cell_type": "code",
   "execution_count": 153,
   "id": "d42dc17a-9186-444c-ba43-e3c0abc3f5e0",
   "metadata": {},
   "outputs": [
    {
     "name": "stdout",
     "output_type": "stream",
     "text": [
      "```\n",
      "(\"KISA\", \"조명\", \"AI 기술의 순기능과 역기능\")\n",
      "(\"KISA\", \"세미나\", \"‘AI가 만든 사이버위협, AI가 막는 사이버위협’\")\n",
      "``` \n",
      "\n"
     ]
    }
   ],
   "source": [
    "gen_triplet_doc2 = rag_triplet.invoke({\"candidate\": documents[2], \"question\": question})\n",
    "print(gen_triplet_doc2)"
   ]
  },
  {
   "cell_type": "code",
   "execution_count": 142,
   "id": "1bfb44cc-eedd-415b-8821-7e7ffc6546c3",
   "metadata": {},
   "outputs": [
    {
     "name": "stdout",
     "output_type": "stream",
     "text": [
      "[Entailment] \n",
      "\n"
     ]
    }
   ],
   "source": [
    "checked_doc2 = rag_checker.invoke({\"question\": question, \"reference\": documents[2], \"claim\":gen_triplet_doc2})\n",
    "print(checked_doc2)"
   ]
  },
  {
   "cell_type": "code",
   "execution_count": 154,
   "id": "ba061d69-6da5-4e6d-9dfc-e7ab2f782116",
   "metadata": {},
   "outputs": [],
   "source": [
    "template = \"\"\"당신은 사용자의 질문과 관련된 문서를 평가하는 일을 합니다. \\n\n",
    "    문서: \\n\\n {document} \\n\\n\n",
    "    사용자의 질문: {question} \\n\\n\n",
    "    이 문서에 사용자의 질문과 관련된 내용이 있다면, '예' 라고 평가해주세요. \\n\n",
    "    이 문서에 사용자의 질문과 관련된 내용이 없다면 '아니오' 라고 평가해주세요. \\n\n",
    "    엄격하게 평가하지 않아도 됩니다. 목표는 상관없는 문서를 거르는 것입니다. \\n\n",
    "    JSON 형식으로 'flag' 키에 '예', '아니오' 2가지 답을 주세요. 설명은 필요없습니다\"\"\""
   ]
  },
  {
   "cell_type": "code",
   "execution_count": 155,
   "id": "9b67d895-8502-489a-9ade-3379cad6a72f",
   "metadata": {},
   "outputs": [],
   "source": [
    "prompt = PromptTemplate(\n",
    "    template=template,\n",
    "    input_variables=[\"question\", \"document\"],\n",
    ")"
   ]
  },
  {
   "cell_type": "code",
   "execution_count": 156,
   "id": "f5862ab9-53d2-4aee-9fa9-3590cd73c4d7",
   "metadata": {},
   "outputs": [],
   "source": [
    "llm = ChatOllama(model=model_name, format=\"json\", temperature=temperature)\n",
    "retrieval_grader = prompt | llm | JsonOutputParser()"
   ]
  },
  {
   "cell_type": "code",
   "execution_count": 157,
   "id": "51acc1cd-b25f-40fd-9901-5a45643ae31c",
   "metadata": {},
   "outputs": [],
   "source": [
    "triplet_blackhole = \"\"\"## 지식 그래프:\n",
    "\n",
    "* **ETH:**  칠레 아타카마 사막의 대형 전파망원경 '아타카마 대형 밀리미터/서브밀리미터 집합체'(ALMA), 스페인의 IRAM 30미터 망원경, 프랑스 북부 확장 밀리미터 어레이(NOEMA), 그린란드 망원경 등 전 세계 전파망원경 15~20개를 연결해 만든 지구 크기의 가상 망원경.\n",
    "* **연구 목적:** ETH 망원경을 활용하여 M87* 블랙홀 해상도 19 마이크로아크초까지 높이기.\n",
    "* **관측 파장:** 0.87㎜ 파장\n",
    "* **결과:**  ETH 망원경 중 ALMA와 아타카마 패스파인더 장치(APEX), 스페인 IRAM 30m 망원경 등 6개를 활용, 0.87㎜ 파장의 전파를 이용해 M87* 블랙홀을 해상도 19 마이크로아크초로 관측 성공.\n",
    "* **미래 계획:** ETH 일부만 활용한 예비 실험이지만, 데이터 부족으로 이미지 얻기 어려움. 전체 ETH 활용 시 해상도 지구에서 달 표면의 병뚜껑까지 볼 수 있는 수준인 13 마이크로아크초까지 높일 가능성.\n",
    "* **연구자:** 하버드·스미스소니언 천체물리학 센터(CfA) 셰퍼드 도엘만 박사 \"\"\""
   ]
  },
  {
   "cell_type": "code",
   "execution_count": 164,
   "id": "c0fff34a-a8d6-461b-8314-1170a1a0dce1",
   "metadata": {},
   "outputs": [
    {
     "name": "stdout",
     "output_type": "stream",
     "text": [
      "{'flag': '아니오'}\n"
     ]
    }
   ],
   "source": [
    "grade = retrieval_grader.invoke({\"question\": question, \"document\":triplet_blackhole})\n",
    "print(grade)"
   ]
  },
  {
   "cell_type": "code",
   "execution_count": 165,
   "id": "45c88d4b-fca5-4bcd-bec5-7c5dcab05548",
   "metadata": {},
   "outputs": [
    {
     "data": {
      "text/plain": [
       "0.1"
      ]
     },
     "execution_count": 165,
     "metadata": {},
     "output_type": "execute_result"
    }
   ],
   "source": [
    "temperature"
   ]
  },
  {
   "cell_type": "code",
   "execution_count": 166,
   "id": "9c66162d-8ce1-4c78-9864-3d141601fc01",
   "metadata": {},
   "outputs": [
    {
     "name": "stdout",
     "output_type": "stream",
     "text": [
      "0: {'flag': '아니오'}\n",
      "1: {'flag': '아니오'}\n",
      "2: {'flag': '아니오'}\n",
      "3: {'flag': '아니오'}\n",
      "4: {'flag': '아니오'}\n",
      "5: {'flag': '아니오'}\n",
      "6: {'flag': '아니오'}\n",
      "7: {'flag': '아니오'}\n",
      "8: {'flag': '아니오'}\n",
      "9: {'flag': '아니오'}\n"
     ]
    }
   ],
   "source": [
    "for i in range(10):\n",
    "    grade = retrieval_grader.invoke({\"question\": question, \"document\":triplet_blackhole})\n",
    "    print(f\"{i}: {grade}\")"
   ]
  },
  {
   "cell_type": "code",
   "execution_count": null,
   "id": "5123fd16-c035-475e-8da5-f0a51f239f8e",
   "metadata": {},
   "outputs": [],
   "source": []
  },
  {
   "cell_type": "markdown",
   "id": "9ee993d4-e25f-48ed-8f0e-d75bbab4da9a",
   "metadata": {},
   "source": [
    "# End"
   ]
  },
  {
   "cell_type": "code",
   "execution_count": null,
   "id": "3b655074-7056-44eb-a556-01649d82f07e",
   "metadata": {},
   "outputs": [],
   "source": []
  },
  {
   "cell_type": "code",
   "execution_count": null,
   "id": "0624022f-e69a-40e2-93b6-caa00a5ede53",
   "metadata": {},
   "outputs": [],
   "source": []
  },
  {
   "cell_type": "code",
   "execution_count": null,
   "id": "8a077f41-c09d-4326-b1c8-8fe23c3fc9e0",
   "metadata": {},
   "outputs": [],
   "source": []
  },
  {
   "cell_type": "code",
   "execution_count": null,
   "id": "02838bba-6b34-4402-b7d0-c82ff78010b6",
   "metadata": {},
   "outputs": [],
   "source": []
  },
  {
   "cell_type": "code",
   "execution_count": null,
   "id": "c5119c1c-0f1a-4596-b548-0035a5b3879d",
   "metadata": {},
   "outputs": [],
   "source": []
  }
 ],
 "metadata": {
  "kernelspec": {
   "display_name": "Python 3 (ipykernel)",
   "language": "python",
   "name": "python3"
  },
  "language_info": {
   "codemirror_mode": {
    "name": "ipython",
    "version": 3
   },
   "file_extension": ".py",
   "mimetype": "text/x-python",
   "name": "python",
   "nbconvert_exporter": "python",
   "pygments_lexer": "ipython3",
   "version": "3.12.4"
  }
 },
 "nbformat": 4,
 "nbformat_minor": 5
}
