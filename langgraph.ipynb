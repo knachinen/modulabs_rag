{
 "cells": [
  {
   "cell_type": "markdown",
   "id": "911eb61d",
   "metadata": {},
   "source": [
    "## 환경설정"
   ]
  },
  {
   "cell_type": "code",
   "execution_count": 1,
   "id": "064d5c8c",
   "metadata": {},
   "outputs": [
    {
     "data": {
      "text/plain": [
       "True"
      ]
     },
     "execution_count": 1,
     "metadata": {},
     "output_type": "execute_result"
    }
   ],
   "source": [
    "# api key\n",
    "from dotenv import load_dotenv\n",
    "\n",
    "load_dotenv()"
   ]
  },
  {
   "cell_type": "code",
   "execution_count": 3,
   "id": "562b0043",
   "metadata": {},
   "outputs": [
    {
     "name": "stdout",
     "output_type": "stream",
     "text": [
      "LangSmith 추적을 시작합니다.\n",
      "[프로젝트명]\n",
      "CH17-LANGGRAPH\n"
     ]
    }
   ],
   "source": [
    "# LangSmith 추적을 설정합니다. https://smith.langchain.com\n",
    "# !pip install -qU langchain-teddynote\n",
    "from langchain_teddynote import logging\n",
    "\n",
    "# 프로젝트 이름을 입력합니다.\n",
    "logging.langsmith(\"CH17-LANGGRAPH\")"
   ]
  },
  {
   "cell_type": "markdown",
   "id": "962c93e4",
   "metadata": {},
   "source": [
    "## 노드와 엣지\n",
    "\n",
    "주요 개념\n",
    "\n",
    "- GraphState(상태 저장 그래프): LangGraph는 그래프의 각 노드가 계산의 단계를 나타내며, 그래프는 계산이 진행됨에 따라 전달되고 업데이트되는 상태를 유지하는 상태 저장 그래프 개념을 중심으로 작동합니다.\n",
    "- Node(노드): 노드는 LangGraph의 구성 요소입니다. 각 노드는 함수 또는 계산 단계를 나타냅니다. 입력 처리, 의사 결정, 외부 API와의 상호 작용 등 특정 작업을 수행하도록 노드를 정의할 수 있습니다.\n",
    "- Edge(엣지): 에지는 그래프에서 노드를 연결하여 계산의 흐름을 정의합니다. LangGraph는 조건부 에지를 지원하므로 그래프의 현재 상태에 따라 실행할 다음 노드를 동적으로 결정할 수 있습니다.\n"
   ]
  },
  {
   "cell_type": "markdown",
   "id": "d047f938",
   "metadata": {},
   "source": [
    "## GraphState\n",
    "\n",
    "각 노드에서 다음 노드로 전달되는 상태를 저장합니다."
   ]
  },
  {
   "cell_type": "code",
   "execution_count": 4,
   "id": "f19a3df5",
   "metadata": {},
   "outputs": [],
   "source": [
    "from typing import TypedDict\n",
    "\n",
    "\n",
    "# GraphState 요소는 상태를 전달하는 용도로 사용됩니다.\n",
    "class GraphState(TypedDict):\n",
    "    goal: str  # 목표\n",
    "    todo: list[str]  # 할 일 목록\n",
    "    current_job: str  # 현재 작업\n",
    "    total_time: int  # 총 소요시간(시간)\n",
    "    time_spent: int  # 소요 시간(시간)\n",
    "    status: str  # 상태(진행중, 다음 작업, 종료)"
   ]
  },
  {
   "cell_type": "markdown",
   "id": "2ecb44a5",
   "metadata": {},
   "source": [
    "## Node & Edge"
   ]
  },
  {
   "cell_type": "code",
   "execution_count": null,
   "id": "abc33d6b-a743-458f-8d34-08bb84c7e48e",
   "metadata": {},
   "outputs": [],
   "source": [
    "from langchain_openai import ChatOpenAI"
   ]
  },
  {
   "cell_type": "code",
   "execution_count": 6,
   "id": "417be1d0-e58d-46c4-bfa6-d1d466b8734a",
   "metadata": {},
   "outputs": [],
   "source": [
    "from langchain_ollama.llms import OllamaLLM\n",
    "from langchain_ollama import OllamaEmbeddings\n",
    "from langchain_ollama import ChatOllama"
   ]
  },
  {
   "cell_type": "code",
   "execution_count": null,
   "id": "65cc0f4a-0a53-4490-8e5b-2a84026e6726",
   "metadata": {},
   "outputs": [],
   "source": [
    "from langchain_core.prompts import ChatPromptTemplate\n",
    "from langchain_core.output_parsers import CommaSeparatedListOutputParser\n",
    "from rag.utils import format_task"
   ]
  },
  {
   "cell_type": "code",
   "execution_count": null,
   "id": "8436a6f5-cd3b-4262-870e-ddc19916e17b",
   "metadata": {},
   "outputs": [],
   "source": [
    "def create_todo_list(goal, model_name='gemma2:2b'):\n",
    "    print(f\"create_todo_list: {goal}\")\n",
    "    output_parser = CommaSeparatedListOutputParser()\n",
    "    prompt = ChatPromptTemplate.from_messages(\n",
    "        [\n",
    "            (\n",
    "                \"system\",\n",
    "                \"You are my secretary managing my tasks. Your job is making a list of tasks for my goal..\",\n",
    "            ),\n",
    "            (\n",
    "                \"human\",\n",
    "                \"Make a list of tasks for the given my goal to do well. Make it as `todo:taken time(hour)`. taken time is integer as round number.\\n\\n#goal: {goal}\\n\\n#format: {format_instuctions}\",\n",
    "            ),\n",
    "        ]\n",
    "    )\n",
    "    prompt = prompt.partial(format_instuctions=output_parser.get_format_instructions())\n",
    "    llm = ChatOllama(model=model_name)\n",
    "    chain = prompt | llm | CommaSeparatedListOutputParser()\n",
    "\n",
    "    output = chain.invoke({\"goal\": goal})\n",
    "    return output"
   ]
  },
  {
   "cell_type": "code",
   "execution_count": 41,
   "id": "e38ec405-d750-46b6-99cc-564bdd5bcf72",
   "metadata": {},
   "outputs": [],
   "source": [
    "# model_name = \"qwen2:0.5b\"\n",
    "model_name = \"gemma2:2b\""
   ]
  },
  {
   "cell_type": "code",
   "execution_count": 48,
   "id": "02d069b6",
   "metadata": {
    "collapsed": true,
    "jupyter": {
     "outputs_hidden": true
    },
    "scrolled": true
   },
   "outputs": [
    {
     "name": "stdout",
     "output_type": "stream",
     "text": [
      "create_todo_list: Studying RAG with LangChain tutorials\n"
     ]
    },
    {
     "data": {
      "text/plain": [
       "[\"Here's a task breakdown for studying RAG with LangChain tutorials: \\n\\n**todo: Complete Language Models Basics (4 hours)** \\n* **Learn the Fundamentals:**  Familiarize yourself with natural language processing concepts and the basics of large language models. Explore resources like Google AI's NLTK examples or Stanford NLP course on Coursera. \\n   - *Resources:* [https://github.com/google-research/language-model-basics](https://github.com/google-research/language-model-basics) - Course: [https://www.coursera.org/learn/natural-language-processing](https://www.coursera.org/learn/natural-language-processing)\\n\\n**todo: Deep Dive into RAG (4 hours)** \\n* **Fundamentals of RAG:**  Understand the core principles of Retrieval Augmented Generation (RAG)\",\n",
       " 'including query input',\n",
       " 'embedding methods',\n",
       " \"and document retrieval. \\n   - *Resources:*  [https://huggingface.co/docs/transformers/model_doc/rag](https://huggingface.co/docs/transformers/model_doc/rag) [https://towardsdatascience.com/ragged-language-modeling-an-introduction-1304b9536279](https://towardsdatascience.com/ragged-language-modeling-an-introduction-1304b9536279)\\n\\n**todo: Experiment with LangChain (8 hours)** \\n* **Implement RAG:**  Apply the theoretical knowledge to a practical example using LangChain's RAG implementation. Create a simple application that demonstrates the process of retrieving documents\",\n",
       " 'generating text based on them',\n",
       " 'and incorporating it into your workflow. \\n\\n**todo: Advanced Techniques & Applications (4 hours)**\\n*  **Advanced Concepts:** Explore specific advanced techniques for RAG',\n",
       " \"such as: \\n    - **Multimodal RAG**: Integrating image and text data for richer retrieval. \\n    - **Personalized RAG**: Tailor the generation process to individual user preferences.  \\n    - **Contextualized RAG**: Improve accuracy by incorporating context from previous interactions.\\n\\n**todo: Project Exploration (4 hours)**\\n* **Advanced Project Ideas:**  Brainstorm ideas for a larger project that leverages LangChain's capabilities for RAG\",\n",
       " 'such as: \\n    - A personalized note-taking application with RAG to automatically generate summaries. \\n    - An interactive chatbot powered by RAG for engaging in more dynamic dialogue.\\n\\n**todo: Documentation & Sharing (4 hours)**\\n* **Record your learnings:** Create a documentation of the process you went through',\n",
       " 'including challenges encountered and solutions implemented. This can serve as reference materials for future projects or be shared with others who are interested in learning about RAG with LangChain. \\n\\n\\nLet me know if you want to break down these tasks further!']"
      ]
     },
     "execution_count": 48,
     "metadata": {},
     "output_type": "execute_result"
    }
   ],
   "source": [
    "todo = create_todo_list(\"Studying RAG with LangChain tutorials\", model_name=model_name)\n",
    "todo"
   ]
  },
  {
   "cell_type": "markdown",
   "id": "5f70db49-a0b3-4a99-91e7-d3f33f225fc3",
   "metadata": {
    "jupyter": {
     "source_hidden": true
    }
   },
   "source": [
    "Here's a breakdown of tasks to help you achieve your goal, formatted as requested: \n",
    "\n",
    "**Task List** | **Time**\n",
    "--- | ---\n",
    "Read Introduction to RAG in LangChain Tutorials  | 1\n",
    "Understand the Basics of Language Models & Prompt Engineering | 2\n",
    "Explore Different RAG Applications (e.g., text summarization, question answering) | 4\n",
    "Experiment with LangChain's API for RAG implementation | 3\n",
    "Practice building and running simple RAG models | 2\n",
    "Create a document outlining your findings & learnings from each step  | 1.5\n",
    "**Optional:** Contribute to the open-source community by developing a custom RAG module or adding enhancements to existing libraries. | Time Dependent (This can be a long-term project)\n",
    "\n",
    "**Remember:**  Time estimations are flexible based on your prior knowledge and learning pace!  \n",
    "\n",
    "Let me know if you'd like me to help you break down these tasks into smaller actionable steps. \n"
   ]
  },
  {
   "cell_type": "markdown",
   "id": "714d70ac-e8b8-411f-9e35-f13a9fe1db60",
   "metadata": {
    "jupyter": {
     "source_hidden": true
    }
   },
   "source": [
    "Here's a task breakdown for studying RAG with LangChain tutorials: \n",
    "\n",
    "**todo: Complete Language Models Basics (4 hours)** \n",
    "* **Learn the Fundamentals:**  Familiarize yourself with natural language processing concepts and the basics of large language models. Explore resources like Google AI's NLTK examples or Stanford NLP course on Coursera. \n",
    "   - *Resources:* [https://github.com/google-research/language-model-basics](https://github.com/google-research/language-model-basics) - Course: [https://www.coursera.org/learn/natural-language-processing](https://www.coursera.org/learn/natural-language-processing)\n",
    "\n",
    "**todo: Deep Dive into RAG (4 hours)** \n",
    "* **Fundamentals of RAG:**  Understand the core principles of Retrieval Augmented Generation (RAG), including query input, embedding methods, and document retrieval. \n",
    "   - *Resources:*  [https://huggingface.co/docs/transformers/model_doc/rag](https://huggingface.co/docs/transformers/model_doc/rag) [https://towardsdatascience.com/ragged-language-modeling-an-introduction-1304b9536279](https://towardsdatascience.com/ragged-language-modeling-an-introduction-1304b9536279)\n",
    "\n",
    "**todo: Experiment with LangChain (8 hours)** \n",
    "* **Implement RAG:**  Apply the theoretical knowledge to a practical example using LangChain's RAG implementation. Create a simple application that demonstrates the process of retrieving documents, generating text based on them, and incorporating it into your workflow. \n",
    "\n",
    "**todo: Advanced Techniques & Applications (4 hours)**\n",
    "*  **Advanced Concepts:** Explore specific advanced techniques for RAG, such as: \n",
    "    - **Multimodal RAG**: Integrating image and text data for richer retrieval. \n",
    "    - **Personalized RAG**: Tailor the generation process to individual user preferences.  \n",
    "    - **Contextualized RAG**: Improve accuracy by incorporating context from previous interactions.\n",
    "\n",
    "**todo: Project Exploration (4 hours)**\n",
    "* **Advanced Project Ideas:**  Brainstorm ideas for a larger project that leverages LangChain's capabilities for RAG, such as: \n",
    "    - A personalized note-taking application with RAG to automatically generate summaries. \n",
    "    - An interactive chatbot powered by RAG for engaging in more dynamic dialogue.\n",
    "\n",
    "**todo: Documentation & Sharing (4 hours)**\n",
    "* **Record your learnings:** Create a documentation of the process you went through, including challenges encountered and solutions implemented. This can serve as reference materials for future projects or be shared with others who are interested in learning about RAG with LangChain. \n",
    "\n",
    "\n",
    "Let me know if you want to break down these tasks further! "
   ]
  },
  {
   "cell_type": "markdown",
   "id": "ef47c5f6-1d38-458d-a80a-621f5645bae4",
   "metadata": {
    "jupyter": {
     "source_hidden": true
    }
   },
   "source": [
    "* **Research:** LangChain features and best practices (2 hours)\n",
    "    * Explore the official Langchain documentation. \n",
    "    *  Identify top use cases for LangChain in different domains (e.g., AI chatbots, data analysis).\n",
    "* **Project Organization & Documentation:** (1 hour)\n",
    "    * Create a folder structure for project materials: Presentations, code snippets, scripts etc.\n",
    "    * Develop a detailed outline of the presentation structure. \n",
    "* **Content Creation:** (3 hours)\n",
    "    * Write draft content for each section of the presentation: Introduction, key features, use cases, benefits of LangChain. \n",
    "    * Ensure clear and concise language, with visuals incorporated where appropriate. \n",
    "\n",
    "**Total time estimate: 6 hours** \n",
    "\n",
    "\n",
    "Let me know if you'd like to refine this breakdown further or have specific topics within LangChain that require more focus! "
   ]
  },
  {
   "cell_type": "code",
   "execution_count": 117,
   "id": "48c16c67-79c6-49ce-a0c8-b25d2bdf291c",
   "metadata": {},
   "outputs": [],
   "source": [
    "def get_fake_answer():\n",
    "    return \"\"\"Complete Language Models Basics - Learn the Fundamentals : 4 hours\n",
    "Deep Dive into RAG - Fundamentals of RAG : 4 hours\n",
    "Experiment with LangChain - Implement RAG : 8 hours\n",
    "Advanced Techniques & Applications - Multimodal, Personalized, Contexturalized : 4 hours\n",
    "Project Exploration - Advanced Project Ideas : 4 hours\n",
    "Documentation & Sharing - Record your learnings : 4 hours\n",
    "\"\"\""
   ]
  },
  {
   "cell_type": "code",
   "execution_count": 118,
   "id": "05262d5b-e95e-49e7-b190-4e8020d5b944",
   "metadata": {},
   "outputs": [
    {
     "data": {
      "text/plain": [
       "'Complete Language Models Basics - Learn the Fundamentals : 4 hours\\nDeep Dive into RAG - Fundamentals of RAG : 4 hours\\nExperiment with LangChain - Implement RAG : 8 hours\\nAdvanced Techniques & Applications - Multimodal, Personalized, Contexturalized : 4 hours\\nProject Exploration - Advanced Project Ideas : 4 hours\\nDocumentation & Sharing - Record your learnings : 4 hours\\n'"
      ]
     },
     "execution_count": 118,
     "metadata": {},
     "output_type": "execute_result"
    }
   ],
   "source": [
    "get_fake_answer()"
   ]
  },
  {
   "cell_type": "code",
   "execution_count": 120,
   "id": "203d9085-e0fe-4d8c-b8f5-02ab1ce19497",
   "metadata": {},
   "outputs": [],
   "source": [
    "def format_task(tasks):\n",
    "    # 결과를 저장할 빈 리스트 생성\n",
    "    task_time_pairs = []\n",
    "\n",
    "    tasks = tasks.split('\\n')\n",
    "\n",
    "    # 리스트를 순회하면서 각 항목을 처리\n",
    "    for item in tasks:\n",
    "        if len(item) > 0:\n",
    "            # 콜론(:) 기준으로 문자열을 분리\n",
    "            task, time_str = item.rsplit(\":\", 1)\n",
    "            # '시간' 문자열을 제거하고 정수로 변환\n",
    "            time = int(time_str.replace(\"hours\", \"\").strip())\n",
    "            # 할 일과 시간을 튜플로 만들어 리스트에 추가\n",
    "            task_time_pairs.append((task, time))\n",
    "\n",
    "    # 결과 출력\n",
    "    return task_time_pairs\n"
   ]
  },
  {
   "cell_type": "code",
   "execution_count": 127,
   "id": "0aff456a-e784-46fb-be77-1642976f719f",
   "metadata": {},
   "outputs": [
    {
     "data": {
      "text/plain": [
       "[('Complete Language Models Basics - Learn the Fundamentals ', 4),\n",
       " ('Deep Dive into RAG - Fundamentals of RAG ', 4),\n",
       " ('Experiment with LangChain - Implement RAG ', 8),\n",
       " ('Advanced Techniques & Applications - Multimodal, Personalized, Contexturalized ',\n",
       "  4),\n",
       " ('Project Exploration - Advanced Project Ideas ', 4),\n",
       " ('Documentation & Sharing - Record your learnings ', 4)]"
      ]
     },
     "execution_count": 127,
     "metadata": {},
     "output_type": "execute_result"
    }
   ],
   "source": [
    "format_task(get_fake_answer())"
   ]
  },
  {
   "cell_type": "markdown",
   "id": "0e72251c",
   "metadata": {},
   "source": [
    "## 각 노드의 세부 기능 정의"
   ]
  },
  {
   "cell_type": "code",
   "execution_count": 115,
   "id": "5083618e-bf70-46e5-b6ff-73f561316f97",
   "metadata": {},
   "outputs": [],
   "source": [
    "def list_todo(state: GraphState) -> GraphState:\n",
    "    goal = state[\"goal\"]\n",
    "    # 리스트 작성\n",
    "    # todo = create_todo_list(goal, model_name=model_name)\n",
    "    todo = get_fake_answer()\n",
    "    # 할 일 목록을 포맷팅\n",
    "    # todo = format_task(create_todo_list(todo))\n",
    "    todo = format_task(todo)\n",
    "    return GraphState(todo=todo)"
   ]
  },
  {
   "cell_type": "code",
   "execution_count": 107,
   "id": "8001c79a-540d-4c46-9083-86da0630fe9a",
   "metadata": {},
   "outputs": [],
   "source": [
    "def start_job(state: GraphState) -> GraphState:\n",
    "    todo = state[\"todo\"]\n",
    "    if len(todo):\n",
    "        current_job, total_time = todo.pop(0)\n",
    "        status = \"진행중\"\n",
    "        time_spent = 0\n",
    "    return GraphState(\n",
    "        current_job=current_job,\n",
    "        total_time=total_time,\n",
    "        status=status,\n",
    "        time_spent=time_spent,\n",
    "    )"
   ]
  },
  {
   "cell_type": "code",
   "execution_count": 108,
   "id": "ba405ea1-451e-4863-96e6-b1a517503c3c",
   "metadata": {},
   "outputs": [],
   "source": [
    "def process_job(state: GraphState) -> GraphState:\n",
    "    time_spent = state[\"time_spent\"]\n",
    "    time_spent += 1\n",
    "    return GraphState(time_spent=time_spent)"
   ]
  },
  {
   "cell_type": "code",
   "execution_count": 124,
   "id": "de81be6a-8e2f-4f92-a0ce-3bfff89e015b",
   "metadata": {},
   "outputs": [],
   "source": [
    "def check_progress(state: GraphState) -> GraphState:\n",
    "    print(f\"check_progress: {state[\"time_spent\"]} / {state[\"total_time\"]}\")\n",
    "    if state[\"time_spent\"] >= state[\"total_time\"]:\n",
    "        status = \"다음 작업\"\n",
    "        if len(state[\"todo\"]) == 0:\n",
    "            status = \"종료\"\n",
    "    else:\n",
    "        status = \"진행중\"\n",
    "    return GraphState(status=status)"
   ]
  },
  {
   "cell_type": "code",
   "execution_count": 110,
   "id": "57ef19fd-d2ab-41e6-a9af-2490067604e4",
   "metadata": {},
   "outputs": [],
   "source": [
    "def next_step(state: GraphState) -> GraphState:\n",
    "    return state[\"status\"]"
   ]
  },
  {
   "cell_type": "markdown",
   "id": "9a92aa06",
   "metadata": {},
   "source": [
    "## 그래프 정의"
   ]
  },
  {
   "cell_type": "code",
   "execution_count": 83,
   "id": "a6015807",
   "metadata": {},
   "outputs": [],
   "source": [
    "from langgraph.graph import END, StateGraph\n",
    "from langgraph.checkpoint.memory import MemorySaver\n",
    "\n",
    "def get_app():\n",
    "    # langgraph.graph에서 StateGraph와 END를 가져옵니다.\n",
    "    workflow = StateGraph(GraphState)\n",
    "    \n",
    "    # Todo 를 작성합니다.\n",
    "    workflow.add_node(\"list_todo\", list_todo)  # 에이전트 노드를 추가합니다.\n",
    "    \n",
    "    # Todo 작업을 시작합니다.\n",
    "    workflow.add_node(\"start_job\", start_job)\n",
    "    \n",
    "    # 작업을 진행합니다.\n",
    "    workflow.add_node(\"process_job\", process_job)\n",
    "    \n",
    "    # 작업을 중간 체크합니다.\n",
    "    workflow.add_node(\"check_progress\", check_progress)\n",
    "    \n",
    "    # 각 노드들을 연결합니다.\n",
    "    workflow.add_edge(\"list_todo\", \"start_job\")\n",
    "    workflow.add_edge(\"start_job\", \"process_job\")\n",
    "    workflow.add_edge(\"process_job\", \"check_progress\")\n",
    "    \n",
    "    # 조건부 엣지를 추가합니다.\n",
    "    workflow.add_conditional_edges(\n",
    "        \"check_progress\",  # 관련성 체크 노드에서 나온 결과를 is_relevant 함수에 전달합니다.\n",
    "        next_step,\n",
    "        {\n",
    "            \"진행중\": \"process_job\",  # 관련성이 있으면 종료합니다.\n",
    "            \"다음 작업\": \"start_job\",  # 관련성이 없으면 다시 답변을 생성합니다.\n",
    "            \"종료\": END,  # 관련성 체크 결과가 모호하다면 다시 답변을 생성합니다.\n",
    "        },\n",
    "    )\n",
    "    \n",
    "    # 시작점을 설정합니다.\n",
    "    workflow.set_entry_point(\"list_todo\")\n",
    "    \n",
    "    # 기록을 위한 메모리 저장소를 설정합니다.\n",
    "    memory = MemorySaver()\n",
    "    \n",
    "    # 그래프를 컴파일합니다.\n",
    "    app = workflow.compile(checkpointer=memory)\n",
    "    return app"
   ]
  },
  {
   "cell_type": "markdown",
   "id": "4f2ba7aa",
   "metadata": {},
   "source": [
    "## 그래프 시각화"
   ]
  },
  {
   "cell_type": "code",
   "execution_count": 27,
   "id": "2e09251d",
   "metadata": {
    "collapsed": true,
    "jupyter": {
     "outputs_hidden": true
    },
    "scrolled": true
   },
   "outputs": [
    {
     "data": {
      "image/jpeg": "[encoded data removed]",
      "text/plain": [
       "<IPython.core.display.Image object>"
      ]
     },
     "metadata": {},
     "output_type": "display_data"
    }
   ],
   "source": [
    "from IPython.display import Image, display\n",
    "\n",
    "try:\n",
    "    display(\n",
    "        Image(app.get_graph(xray=True).draw_mermaid_png())\n",
    "    )  # 실행 가능한 객체의 그래프를 mermaid 형식의 PNG로 그려서 표시합니다. \n",
    "       # xray=True는 추가적인 세부 정보를 포함합니다.\n",
    "except:\n",
    "    # 이 부분은 추가적인 의존성이 필요하며 선택적으로 실행됩니다.\n",
    "    pass"
   ]
  },
  {
   "cell_type": "markdown",
   "id": "0896ef2e-6b86-44be-a0d2-a3a168c2fbc4",
   "metadata": {},
   "source": [
    "## +2 ... Run"
   ]
  },
  {
   "cell_type": "code",
   "execution_count": 125,
   "id": "51b62d8c-2edb-4326-b8fd-c49af00eeb10",
   "metadata": {},
   "outputs": [],
   "source": [
    "app = get_app()"
   ]
  },
  {
   "cell_type": "code",
   "execution_count": 126,
   "id": "3004f341",
   "metadata": {
    "scrolled": true
   },
   "outputs": [
    {
     "name": "stdout",
     "output_type": "stream",
     "text": [
      "'[NODE] list_todo'\n",
      "(\"<todo> [('Complete Language Models Basics - Learn the Fundamentals ', 4), \"\n",
      " \"('Deep Dive into RAG - Fundamentals of RAG ', 4), ('Experiment with \"\n",
      " \"LangChain - Implement RAG ', 8), ('Advanced Techniques & Applications - \"\n",
      " \"Multimodal, Personalized, Contexturalized ', 4), ('Project Exploration - \"\n",
      " \"Advanced Project Ideas ', 4), ('Documentation & Sharing - Record your \"\n",
      " \"learnings ', 4)]\")\n",
      "'=============================='\n",
      "'[NODE] start_job'\n",
      "'<current_job> Complete Language Models Basics - Learn the Fundamentals '\n",
      "'<total_time> 4'\n",
      "'<time_spent> 0'\n",
      "'<status> 진행중'\n",
      "'=============================='\n",
      "'[NODE] process_job'\n",
      "'<time_spent> 1'\n",
      "'=============================='\n",
      "check_progress: 1 / 4\n",
      "'[NODE] check_progress'\n",
      "'<status> 진행중'\n",
      "'=============================='\n",
      "'[NODE] process_job'\n",
      "'<time_spent> 2'\n",
      "'=============================='\n",
      "check_progress: 2 / 4\n",
      "'[NODE] check_progress'\n",
      "'<status> 진행중'\n",
      "'=============================='\n",
      "'[NODE] process_job'\n",
      "'<time_spent> 3'\n",
      "'=============================='\n",
      "check_progress: 3 / 4\n",
      "'[NODE] check_progress'\n",
      "'<status> 진행중'\n",
      "'=============================='\n",
      "'[NODE] process_job'\n",
      "'<time_spent> 4'\n",
      "'=============================='\n",
      "check_progress: 4 / 4\n",
      "'[NODE] check_progress'\n",
      "'<status> 다음 작업'\n",
      "'=============================='\n",
      "'[NODE] start_job'\n",
      "'<current_job> Deep Dive into RAG - Fundamentals of RAG '\n",
      "'<total_time> 4'\n",
      "'<time_spent> 0'\n",
      "'<status> 진행중'\n",
      "'=============================='\n",
      "'[NODE] process_job'\n",
      "'<time_spent> 1'\n",
      "'=============================='\n",
      "check_progress: 1 / 4\n",
      "'[NODE] check_progress'\n",
      "'<status> 진행중'\n",
      "'=============================='\n",
      "'[NODE] process_job'\n",
      "'<time_spent> 2'\n",
      "'=============================='\n",
      "check_progress: 2 / 4\n",
      "'[NODE] check_progress'\n",
      "'<status> 진행중'\n",
      "'=============================='\n",
      "'[NODE] process_job'\n",
      "'<time_spent> 3'\n",
      "'=============================='\n",
      "check_progress: 3 / 4\n",
      "'[NODE] check_progress'\n",
      "'<status> 진행중'\n",
      "'=============================='\n",
      "'[NODE] process_job'\n",
      "'<time_spent> 4'\n",
      "'=============================='\n",
      "check_progress: 4 / 4\n",
      "'[NODE] check_progress'\n",
      "'<status> 다음 작업'\n",
      "'=============================='\n",
      "'[NODE] start_job'\n",
      "'<current_job> Experiment with LangChain - Implement RAG '\n",
      "'<total_time> 8'\n",
      "'<time_spent> 0'\n",
      "'<status> 진행중'\n",
      "'=============================='\n",
      "'[NODE] process_job'\n",
      "'<time_spent> 1'\n",
      "'=============================='\n",
      "check_progress: 1 / 8\n",
      "'[NODE] check_progress'\n",
      "'<status> 진행중'\n",
      "'=============================='\n",
      "'[NODE] process_job'\n",
      "'<time_spent> 2'\n",
      "'=============================='\n",
      "check_progress: 2 / 8\n",
      "'[NODE] check_progress'\n",
      "'<status> 진행중'\n",
      "'=============================='\n",
      "'[NODE] process_job'\n",
      "'<time_spent> 3'\n",
      "'=============================='\n",
      "check_progress: 3 / 8\n",
      "'[NODE] check_progress'\n",
      "'<status> 진행중'\n",
      "'=============================='\n",
      "'[NODE] process_job'\n",
      "'<time_spent> 4'\n",
      "'=============================='\n",
      "check_progress: 4 / 8\n",
      "'[NODE] check_progress'\n",
      "'<status> 진행중'\n",
      "'=============================='\n",
      "'[NODE] process_job'\n",
      "'<time_spent> 5'\n",
      "'=============================='\n",
      "check_progress: 5 / 8\n",
      "'[NODE] check_progress'\n",
      "'<status> 진행중'\n",
      "'=============================='\n",
      "'[NODE] process_job'\n",
      "'<time_spent> 6'\n",
      "'=============================='\n",
      "check_progress: 6 / 8\n",
      "'[NODE] check_progress'\n",
      "'<status> 진행중'\n",
      "'=============================='\n",
      "'[NODE] process_job'\n",
      "'<time_spent> 7'\n",
      "'=============================='\n",
      "check_progress: 7 / 8\n",
      "'[NODE] check_progress'\n",
      "'<status> 진행중'\n",
      "'=============================='\n",
      "'[NODE] process_job'\n",
      "'<time_spent> 8'\n",
      "'=============================='\n",
      "check_progress: 8 / 8\n",
      "'[NODE] check_progress'\n",
      "'<status> 다음 작업'\n",
      "'=============================='\n",
      "'[NODE] start_job'\n",
      "('<current_job> Advanced Techniques & Applications - Multimodal, Personalized, '\n",
      " 'Contexturalized ')\n",
      "'<total_time> 4'\n",
      "'<time_spent> 0'\n",
      "'<status> 진행중'\n",
      "'=============================='\n",
      "'[NODE] process_job'\n",
      "'<time_spent> 1'\n",
      "'=============================='\n",
      "check_progress: 1 / 4\n",
      "'[NODE] check_progress'\n",
      "'<status> 진행중'\n",
      "'=============================='\n",
      "'[NODE] process_job'\n",
      "'<time_spent> 2'\n",
      "'=============================='\n",
      "check_progress: 2 / 4\n",
      "'[NODE] check_progress'\n",
      "'<status> 진행중'\n",
      "'=============================='\n",
      "'[NODE] process_job'\n",
      "'<time_spent> 3'\n",
      "'=============================='\n",
      "check_progress: 3 / 4\n",
      "'[NODE] check_progress'\n",
      "'<status> 진행중'\n",
      "'=============================='\n",
      "'[NODE] process_job'\n",
      "'<time_spent> 4'\n",
      "'=============================='\n",
      "check_progress: 4 / 4\n",
      "'[NODE] check_progress'\n",
      "'<status> 다음 작업'\n",
      "'=============================='\n",
      "'[NODE] start_job'\n",
      "'<current_job> Project Exploration - Advanced Project Ideas '\n",
      "'<total_time> 4'\n",
      "'<time_spent> 0'\n",
      "'<status> 진행중'\n",
      "'=============================='\n",
      "'[NODE] process_job'\n",
      "'<time_spent> 1'\n",
      "'=============================='\n",
      "check_progress: 1 / 4\n",
      "'[NODE] check_progress'\n",
      "'<status> 진행중'\n",
      "'=============================='\n",
      "'[NODE] process_job'\n",
      "'<time_spent> 2'\n",
      "'=============================='\n",
      "check_progress: 2 / 4\n",
      "'[NODE] check_progress'\n",
      "'<status> 진행중'\n",
      "'=============================='\n",
      "'[NODE] process_job'\n",
      "'<time_spent> 3'\n",
      "'=============================='\n",
      "check_progress: 3 / 4\n",
      "'[NODE] check_progress'\n",
      "'<status> 진행중'\n",
      "'=============================='\n",
      "'[NODE] process_job'\n",
      "'<time_spent> 4'\n",
      "'=============================='\n",
      "check_progress: 4 / 4\n",
      "'[NODE] check_progress'\n",
      "'<status> 다음 작업'\n",
      "'=============================='\n",
      "'[NODE] start_job'\n",
      "'<current_job> Documentation & Sharing - Record your learnings '\n",
      "'<total_time> 4'\n",
      "'<time_spent> 0'\n",
      "'<status> 진행중'\n",
      "'=============================='\n",
      "'[NODE] process_job'\n",
      "'<time_spent> 1'\n",
      "'=============================='\n",
      "check_progress: 1 / 4\n",
      "'[NODE] check_progress'\n",
      "'<status> 진행중'\n",
      "'=============================='\n",
      "'[NODE] process_job'\n",
      "'<time_spent> 2'\n",
      "'=============================='\n",
      "check_progress: 2 / 4\n",
      "'[NODE] check_progress'\n",
      "'<status> 진행중'\n",
      "'=============================='\n",
      "'[NODE] process_job'\n",
      "'<time_spent> 3'\n",
      "'=============================='\n",
      "check_progress: 3 / 4\n",
      "'[NODE] check_progress'\n",
      "'<status> 진행중'\n",
      "'=============================='\n",
      "'[NODE] process_job'\n",
      "'<time_spent> 4'\n",
      "'=============================='\n",
      "check_progress: 4 / 4\n",
      "'[NODE] check_progress'\n",
      "'<status> 종료'\n",
      "'=============================='\n"
     ]
    }
   ],
   "source": [
    "import pprint\n",
    "from langgraph.errors import GraphRecursionError\n",
    "from langchain_core.runnables import RunnableConfig\n",
    "\n",
    "config = RunnableConfig(recursion_limit=100, configurable={\"thread_id\": \"TODO\"})\n",
    "\n",
    "# GraphState 객체를 활용하여 질문을 입력합니다.\n",
    "inputs = GraphState(goal=\"To prepare a presentation of LangChain at meet-up\")\n",
    "\n",
    "# app.stream을 통해 입력된 메시지에 대한 출력을 스트리밍합니다.\n",
    "try:\n",
    "    for output in app.stream(inputs, config=config):\n",
    "        # 출력된 결과에서 키와 값을 순회합니다.\n",
    "        for key, value in output.items():\n",
    "            # 노드의 이름과 해당 노드에서 나온 출력을 출력합니다.\n",
    "            pprint.pprint(f\"[NODE] {key}\")\n",
    "            for k, v in value.items():\n",
    "                pprint.pprint(f\"<{k}> {v}\")\n",
    "            pprint.pprint(\"===\" * 10)\n",
    "            # 출력 값을 예쁘게 출력합니다.\n",
    "            # pprint.pprint(value, indent=2, width=80, depth=None)\n",
    "except GraphRecursionError as e:\n",
    "    pprint.pprint(f\"Recursion limit reached: {e}\")"
   ]
  },
  {
   "cell_type": "markdown",
   "id": "59cee097",
   "metadata": {},
   "source": [
    "## LangSmith 추적\n",
    "\n",
    "- 추적: https://smith.langchain.com/public/d4857c97-bbb7-4776-8c90-c3908b77a38f/r"
   ]
  }
 ],
 "metadata": {
  "kernelspec": {
   "display_name": "Python 3 (ipykernel)",
   "language": "python",
   "name": "python3"
  },
  "language_info": {
   "codemirror_mode": {
    "name": "ipython",
    "version": 3
   },
   "file_extension": ".py",
   "mimetype": "text/x-python",
   "name": "python",
   "nbconvert_exporter": "python",
   "pygments_lexer": "ipython3",
   "version": "3.12.4"
  }
 },
 "nbformat": 4,
 "nbformat_minor": 5
}
